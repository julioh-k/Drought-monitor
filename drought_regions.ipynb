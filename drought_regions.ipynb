{
 "cells": [
  {
   "cell_type": "code",
   "execution_count": 1,
   "id": "fcf9412c-662a-4bdf-ae82-1205d3ee6819",
   "metadata": {},
   "outputs": [],
   "source": [
    "import pandas as pd\n",
    "import numpy as np\n",
    "import matplotlib.pyplot as plt\n",
    "import seaborn as sns"
   ]
  },
  {
   "cell_type": "code",
   "execution_count": 2,
   "id": "79c7b0ab-6812-4b5e-8617-a5787d46c4d6",
   "metadata": {},
   "outputs": [],
   "source": [
    "drought_cities = pd.read_csv('./data/drought_cities.csv')"
   ]
  },
  {
   "cell_type": "code",
   "execution_count": 3,
   "id": "7491d042-9d48-4d50-bb89-af2986827576",
   "metadata": {},
   "outputs": [
    {
     "data": {
      "text/html": [
       "<div>\n",
       "<style scoped>\n",
       "    .dataframe tbody tr th:only-of-type {\n",
       "        vertical-align: middle;\n",
       "    }\n",
       "\n",
       "    .dataframe tbody tr th {\n",
       "        vertical-align: top;\n",
       "    }\n",
       "\n",
       "    .dataframe thead th {\n",
       "        text-align: right;\n",
       "    }\n",
       "</style>\n",
       "<table border=\"1\" class=\"dataframe\">\n",
       "  <thead>\n",
       "    <tr style=\"text-align: right;\">\n",
       "      <th></th>\n",
       "      <th>Name</th>\n",
       "      <th>state</th>\n",
       "      <th>ValidStart</th>\n",
       "      <th>ValidEnd</th>\n",
       "      <th>area_none</th>\n",
       "      <th>area_d0</th>\n",
       "      <th>area_d1</th>\n",
       "      <th>area_d2</th>\n",
       "      <th>area_d3</th>\n",
       "      <th>area_d4</th>\n",
       "      <th>population_none</th>\n",
       "      <th>population_d0</th>\n",
       "      <th>population_d1</th>\n",
       "      <th>population_d2</th>\n",
       "      <th>population_d3</th>\n",
       "      <th>population_d4</th>\n",
       "      <th>DSCI</th>\n",
       "      <th>total_area</th>\n",
       "      <th>total_population</th>\n",
       "    </tr>\n",
       "  </thead>\n",
       "  <tbody>\n",
       "    <tr>\n",
       "      <th>0</th>\n",
       "      <td>Alaska</td>\n",
       "      <td>AK</td>\n",
       "      <td>2021-12-07</td>\n",
       "      <td>2021-12-13</td>\n",
       "      <td>582568.29</td>\n",
       "      <td>0.0</td>\n",
       "      <td>0.0</td>\n",
       "      <td>0.0</td>\n",
       "      <td>0.0</td>\n",
       "      <td>0.0</td>\n",
       "      <td>709629.99</td>\n",
       "      <td>0.0</td>\n",
       "      <td>0.0</td>\n",
       "      <td>0.0</td>\n",
       "      <td>0.0</td>\n",
       "      <td>0.0</td>\n",
       "      <td>0</td>\n",
       "      <td>582568.29</td>\n",
       "      <td>709629.99</td>\n",
       "    </tr>\n",
       "    <tr>\n",
       "      <th>1</th>\n",
       "      <td>Alaska</td>\n",
       "      <td>AK</td>\n",
       "      <td>2021-11-30</td>\n",
       "      <td>2021-12-06</td>\n",
       "      <td>582568.29</td>\n",
       "      <td>0.0</td>\n",
       "      <td>0.0</td>\n",
       "      <td>0.0</td>\n",
       "      <td>0.0</td>\n",
       "      <td>0.0</td>\n",
       "      <td>709629.99</td>\n",
       "      <td>0.0</td>\n",
       "      <td>0.0</td>\n",
       "      <td>0.0</td>\n",
       "      <td>0.0</td>\n",
       "      <td>0.0</td>\n",
       "      <td>0</td>\n",
       "      <td>582568.29</td>\n",
       "      <td>709629.99</td>\n",
       "    </tr>\n",
       "    <tr>\n",
       "      <th>2</th>\n",
       "      <td>Alaska</td>\n",
       "      <td>AK</td>\n",
       "      <td>2021-11-23</td>\n",
       "      <td>2021-11-29</td>\n",
       "      <td>582568.29</td>\n",
       "      <td>0.0</td>\n",
       "      <td>0.0</td>\n",
       "      <td>0.0</td>\n",
       "      <td>0.0</td>\n",
       "      <td>0.0</td>\n",
       "      <td>709629.99</td>\n",
       "      <td>0.0</td>\n",
       "      <td>0.0</td>\n",
       "      <td>0.0</td>\n",
       "      <td>0.0</td>\n",
       "      <td>0.0</td>\n",
       "      <td>0</td>\n",
       "      <td>582568.29</td>\n",
       "      <td>709629.99</td>\n",
       "    </tr>\n",
       "    <tr>\n",
       "      <th>3</th>\n",
       "      <td>Alaska</td>\n",
       "      <td>AK</td>\n",
       "      <td>2021-11-16</td>\n",
       "      <td>2021-11-22</td>\n",
       "      <td>582568.29</td>\n",
       "      <td>0.0</td>\n",
       "      <td>0.0</td>\n",
       "      <td>0.0</td>\n",
       "      <td>0.0</td>\n",
       "      <td>0.0</td>\n",
       "      <td>709629.99</td>\n",
       "      <td>0.0</td>\n",
       "      <td>0.0</td>\n",
       "      <td>0.0</td>\n",
       "      <td>0.0</td>\n",
       "      <td>0.0</td>\n",
       "      <td>0</td>\n",
       "      <td>582568.29</td>\n",
       "      <td>709629.99</td>\n",
       "    </tr>\n",
       "    <tr>\n",
       "      <th>4</th>\n",
       "      <td>Alaska</td>\n",
       "      <td>AK</td>\n",
       "      <td>2021-11-09</td>\n",
       "      <td>2021-11-15</td>\n",
       "      <td>582568.29</td>\n",
       "      <td>0.0</td>\n",
       "      <td>0.0</td>\n",
       "      <td>0.0</td>\n",
       "      <td>0.0</td>\n",
       "      <td>0.0</td>\n",
       "      <td>709629.99</td>\n",
       "      <td>0.0</td>\n",
       "      <td>0.0</td>\n",
       "      <td>0.0</td>\n",
       "      <td>0.0</td>\n",
       "      <td>0.0</td>\n",
       "      <td>0</td>\n",
       "      <td>582568.29</td>\n",
       "      <td>709629.99</td>\n",
       "    </tr>\n",
       "  </tbody>\n",
       "</table>\n",
       "</div>"
      ],
      "text/plain": [
       "     Name state  ValidStart    ValidEnd  area_none  area_d0  area_d1  area_d2  \\\n",
       "0  Alaska    AK  2021-12-07  2021-12-13  582568.29      0.0      0.0      0.0   \n",
       "1  Alaska    AK  2021-11-30  2021-12-06  582568.29      0.0      0.0      0.0   \n",
       "2  Alaska    AK  2021-11-23  2021-11-29  582568.29      0.0      0.0      0.0   \n",
       "3  Alaska    AK  2021-11-16  2021-11-22  582568.29      0.0      0.0      0.0   \n",
       "4  Alaska    AK  2021-11-09  2021-11-15  582568.29      0.0      0.0      0.0   \n",
       "\n",
       "   area_d3  area_d4  population_none  population_d0  population_d1  \\\n",
       "0      0.0      0.0        709629.99            0.0            0.0   \n",
       "1      0.0      0.0        709629.99            0.0            0.0   \n",
       "2      0.0      0.0        709629.99            0.0            0.0   \n",
       "3      0.0      0.0        709629.99            0.0            0.0   \n",
       "4      0.0      0.0        709629.99            0.0            0.0   \n",
       "\n",
       "   population_d2  population_d3  population_d4  DSCI  total_area  \\\n",
       "0            0.0            0.0            0.0     0   582568.29   \n",
       "1            0.0            0.0            0.0     0   582568.29   \n",
       "2            0.0            0.0            0.0     0   582568.29   \n",
       "3            0.0            0.0            0.0     0   582568.29   \n",
       "4            0.0            0.0            0.0     0   582568.29   \n",
       "\n",
       "   total_population  \n",
       "0         709629.99  \n",
       "1         709629.99  \n",
       "2         709629.99  \n",
       "3         709629.99  \n",
       "4         709629.99  "
      ]
     },
     "execution_count": 3,
     "metadata": {},
     "output_type": "execute_result"
    }
   ],
   "source": [
    "drought_cities.head()"
   ]
  },
  {
   "cell_type": "code",
   "execution_count": 15,
   "id": "0f14ecb0-16f4-437f-8146-f9219b6ba700",
   "metadata": {},
   "outputs": [],
   "source": [
    "drought_cities['ValidStart']= pd.to_datetime(drought_cities['ValidStart'])\n",
    "drought_cities['ValidStart'] = drought_cities['ValidStart'].dt.strftime('%m/%d/%Y')\n",
    "drought_cities['ValidStart']=drought_cities['ValidStart'].astype('datetime64[ns]')"
   ]
  },
  {
   "cell_type": "code",
   "execution_count": 16,
   "id": "1667e03c-c3b1-421e-94d2-92c4d9506f6f",
   "metadata": {},
   "outputs": [],
   "source": [
    "#creating lists for the regions\n",
    "north_east = ['Connecticut','Maine',\"Massachusetts\",'New Hampshire','Rhode Island','Vermont','New Jersey','New York','Pennsylvania']\n",
    "\n",
    "Midwest=['Illinois','Indiana','Michigan','Ohio','Wisconsin','Iowa','Kansas','Minnesota','Missouri','Nebraska','North Dakota','South Dakota']\n",
    "\n",
    "\n",
    "West=['Arizona','Colorado','Nevada','New Mexico','Utah','Wyoming','Alaska','California','Hawaii','Oregon','Washington']\n",
    "\n",
    "South =['Delaware','Florida','Georgia','Maryland','North Carolina','South Carolina','Virginia','West Virginia','Alabama','Kentucky','Mississippi','Tennessee','Arkansas','Louisiana','Oklahoma','Texas']"
   ]
  },
  {
   "cell_type": "code",
   "execution_count": 17,
   "id": "1b3d03c1-c677-4264-b3a4-1a5fc4d668b4",
   "metadata": {},
   "outputs": [],
   "source": [
    "#function to create a dataframe for every region\n",
    "def reg (r):\n",
    "    regions_df=pd.DataFrame()\n",
    "    for k in r:\n",
    "\n",
    "        x=drought_cities[drought_cities['Name']==k]\n",
    "        \n",
    "        regions_df=pd.concat([regions_df,x],axis=0)\n",
    "    return regions_df"
   ]
  },
  {
   "cell_type": "code",
   "execution_count": 27,
   "id": "c80e6e32-5e6e-42ba-9e31-c5c3c30db9fd",
   "metadata": {},
   "outputs": [],
   "source": [
    "# creating 4 new dataframe for every region\n",
    "north_east_df=reg(north_east)\n",
    "north_east_df2=north_east_df.groupby('ValidStart').agg({'area_none':'sum','area_d0':'sum','area_d1':'sum','area_d2':'sum','area_d3':'sum','area_d4':'sum',\n",
    "                                                  'population_none':'sum','population_d0':'sum','population_d1':'sum','population_d2':'sum','population_d3':'sum',\n",
    "                                                  'population_d4':'sum','DSCI':'mean',})\n",
    "north_east_df2['Region']='north_east'\n",
    "north_east_df2.reset_index(inplace=True)\n",
    "\n",
    "\n",
    "Midwest_df=reg(Midwest)\n",
    "midwest_df2=Midwest_df.groupby('ValidStart').agg({'area_none':'sum','area_d0':'sum','area_d1':'sum','area_d2':'sum','area_d3':'sum','area_d4':'sum',\n",
    "                                                  'population_none':'sum','population_d0':'sum','population_d1':'sum','population_d2':'sum','population_d3':'sum',\n",
    "                                                  'population_d4':'sum','DSCI':'mean',})\n",
    "midwest_df2['Region']='Midwest'\n",
    "midwest_df2.reset_index(inplace=True)\n",
    "\n",
    "\n",
    "West_df=reg(West)\n",
    "West_df2=West_df.groupby('ValidStart').agg({'area_none':'sum','area_d0':'sum','area_d1':'sum','area_d2':'sum','area_d3':'sum','area_d4':'sum',\n",
    "                                                  'population_none':'sum','population_d0':'sum','population_d1':'sum','population_d2':'sum','population_d3':'sum',\n",
    "                                                  'population_d4':'sum','DSCI':'mean',})\n",
    "West_df2['Region']='west'\n",
    "West_df2.reset_index(inplace=True)\n",
    "\n",
    "\n",
    "\n",
    "South_df=reg(South)\n",
    "South_df2=South_df.groupby('ValidStart').agg({'area_none':'sum','area_d0':'sum','area_d1':'sum','area_d2':'sum','area_d3':'sum','area_d4':'sum',\n",
    "                                                  'population_none':'sum','population_d0':'sum','population_d1':'sum','population_d2':'sum','population_d3':'sum',\n",
    "                                                  'population_d4':'sum','DSCI':'mean',})\n",
    "South_df2['Region']='South'\n",
    "South_df2.reset_index(inplace=True)\n",
    "\n",
    "#saving the dataframe\n",
    "north_east_df2.to_csv('./data/north_east_region.csv', index=False)\n",
    "midwest_df2.to_csv('./data/midwest_region.csv', index=False)\n",
    "West_df2.to_csv('./data/West_region.csv', index=False)\n",
    "South_df2.to_csv('./data/South_region.csv', index=False)"
   ]
  },
  {
   "cell_type": "code",
   "execution_count": 26,
   "id": "410d8f7c-c392-4e45-9c9b-535557c1392b",
   "metadata": {},
   "outputs": [
    {
     "data": {
      "image/png": "[encoded data removed]",
      "text/plain": [
       "<Figure size 720x576 with 1 Axes>"
      ]
     },
     "metadata": {
      "needs_background": "light"
     },
     "output_type": "display_data"
    }
   ],
   "source": [
    "#function to graphic the DSCI for every region\n",
    "def plot_avg_dsci(reg):\n",
    "    years = reg.groupby(reg['ValidStart'].dt.year)['DSCI'].mean()\n",
    "    years.plot(kind = 'bar', figsize = (10, 8))\n",
    "    plt.xlabel(\"Year\")\n",
    "    plt.ylabel(\"DSCI\")\n",
    "    plt.title(f'Average DSCI in {reg[\"Region\"].iloc[1]} by Year')\n",
    "plot_avg_dsci(north_east_df2)"
   ]
  },
  {
   "cell_type": "code",
   "execution_count": 23,
   "id": "3294f4ff-bb51-477a-80b3-c11e09a2125b",
   "metadata": {},
   "outputs": [
    {
     "data": {
      "image/png": "[encoded data removed]",
      "text/plain": [
       "<Figure size 720x576 with 1 Axes>"
      ]
     },
     "metadata": {
      "needs_background": "light"
     },
     "output_type": "display_data"
    }
   ],
   "source": [
    "plot_avg_dsci(midwest_df2)"
   ]
  },
  {
   "cell_type": "code",
   "execution_count": 24,
   "id": "11e58d02-06bb-4c96-bbbb-f95f01b0b2c7",
   "metadata": {},
   "outputs": [
    {
     "data": {
      "image/png": "[encoded data removed]",
      "text/plain": [
       "<Figure size 720x576 with 1 Axes>"
      ]
     },
     "metadata": {
      "needs_background": "light"
     },
     "output_type": "display_data"
    }
   ],
   "source": [
    "plot_avg_dsci(West_df2)"
   ]
  },
  {
   "cell_type": "code",
   "execution_count": 25,
   "id": "b42c2902-2658-47b3-97a0-4151f833dd63",
   "metadata": {},
   "outputs": [
    {
     "data": {
      "image/png": "[encoded data removed]",
      "text/plain": [
       "<Figure size 720x576 with 1 Axes>"
      ]
     },
     "metadata": {
      "needs_background": "light"
     },
     "output_type": "display_data"
    }
   ],
   "source": [
    "plot_avg_dsci(South_df2)"
   ]
  }
 ],
 "metadata": {
  "kernelspec": {
   "display_name": "Python 3",
   "language": "python",
   "name": "python3"
  },
  "language_info": {
   "codemirror_mode": {
    "name": "ipython",
    "version": 3
   },
   "file_extension": ".py",
   "mimetype": "text/x-python",
   "name": "python",
   "nbconvert_exporter": "python",
   "pygments_lexer": "ipython3",
   "version": "3.8.8"
  }
 },
 "nbformat": 4,
 "nbformat_minor": 5
}
