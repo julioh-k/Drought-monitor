{
 "cells": [
  {
   "cell_type": "code",
   "execution_count": 3,
   "id": "70a568c1-a578-4e78-aba6-87488d203003",
   "metadata": {},
   "outputs": [
    {
     "name": "stderr",
     "output_type": "stream",
     "text": [
      "<frozen importlib._bootstrap>:219: RuntimeWarning: numpy.ndarray size changed, may indicate binary incompatibility. Expected 80 from C header, got 88 from PyObject\n"
     ]
    }
   ],
   "source": [
    "import pandas as pd\n",
    "import tensorflow as tf\n",
    "import os\n",
    "import numpy as np\n",
    "import matplotlib.pyplot as plt"
   ]
  },
  {
   "cell_type": "code",
   "execution_count": 4,
   "id": "0eabe2a7-7600-492b-a36e-b3a7ff52179c",
   "metadata": {},
   "outputs": [],
   "source": [
    "west = pd.read_csv('./data/West_region.csv')"
   ]
  },
  {
   "cell_type": "code",
   "execution_count": 5,
   "id": "8af3ee03-4085-4187-9479-81ee1e9fde15",
   "metadata": {},
   "outputs": [],
   "source": [
    "west.index = west['ValidStart']"
   ]
  },
  {
   "cell_type": "markdown",
   "id": "e577f1ba-0cfa-422c-a247-c0b15daefaaf",
   "metadata": {},
   "source": [
    "## son's model"
   ]
  },
  {
   "cell_type": "code",
   "execution_count": 6,
   "id": "7ea5fecc-5ac1-427b-a873-f997c4efa843",
   "metadata": {},
   "outputs": [],
   "source": [
    "def df_to_X_y(df, windowsize=5):\n",
    "    df_as_np = df.to_numpy()\n",
    "    X = []\n",
    "    y = []\n",
    "    for i in range(len(df_as_np)-windowsize):\n",
    "        row = [[a] for a in df_as_np[i:i+5]]\n",
    "        X.append(row)\n",
    "        label = df_as_np[i+5]\n",
    "        y.append(label)\n",
    "    return np.array(X), np.array(y)"
   ]
  },
  {
   "cell_type": "code",
   "execution_count": 7,
   "id": "cd1c8af1-40f9-47ba-95fb-4c338c2a4dad",
   "metadata": {},
   "outputs": [
    {
     "data": {
      "text/plain": [
       "((1089, 5, 1), (1089,))"
      ]
     },
     "execution_count": 7,
     "metadata": {},
     "output_type": "execute_result"
    }
   ],
   "source": [
    "WINDOW_SIZE = 5\n",
    "X, y = df_to_X_y(west['DSCI'], WINDOW_SIZE)\n",
    "X.shape, y.shape"
   ]
  },
  {
   "cell_type": "code",
   "execution_count": 7,
   "id": "73ea3bf6-c518-4d78-ae3c-9732dd2f5f6d",
   "metadata": {},
   "outputs": [],
   "source": [
    "X_train, y_train = X[:700], y[:700]\n",
    "X_val, y_val = X[700:800], y[700:800]\n",
    "X_test, y_test = X[800:], y[800:]"
   ]
  },
  {
   "cell_type": "code",
   "execution_count": 8,
   "id": "00eedc2d-dfb6-4437-849a-5a7dcce3c168",
   "metadata": {},
   "outputs": [
    {
     "name": "stdout",
     "output_type": "stream",
     "text": [
      "Model: \"sequential\"\n",
      "_________________________________________________________________\n",
      " Layer (type)                Output Shape              Param #   \n",
      "=================================================================\n",
      " lstm (LSTM)                 (None, 64)                16896     \n",
      "                                                                 \n",
      " dense (Dense)               (None, 8)                 520       \n",
      "                                                                 \n",
      " dense_1 (Dense)             (None, 1)                 9         \n",
      "                                                                 \n",
      "=================================================================\n",
      "Total params: 17,425\n",
      "Trainable params: 17,425\n",
      "Non-trainable params: 0\n",
      "_________________________________________________________________\n"
     ]
    }
   ],
   "source": [
    "from tensorflow.keras.models import Sequential\n",
    "from tensorflow.keras.layers import *\n",
    "from tensorflow.keras.callbacks import ModelCheckpoint\n",
    "from tensorflow.keras.losses import MeanSquaredError\n",
    "from tensorflow.keras.metrics import RootMeanSquaredError\n",
    "from tensorflow.keras.optimizers import Adam\n",
    "\n",
    "model1 = Sequential()\n",
    "model1.add(InputLayer((5,1)))\n",
    "model1.add(LSTM(64))\n",
    "model1.add(Dense(8, 'relu'))\n",
    "model1.add(Dense(1, 'linear'))\n",
    "model1.summary()"
   ]
  },
  {
   "cell_type": "code",
   "execution_count": 9,
   "id": "0b6bac8b-bd3d-4cd8-b206-98629bb3a9af",
   "metadata": {},
   "outputs": [],
   "source": [
    "cp = ModelCheckpoint('model1/', save_best_only=True)\n",
    "model1.compile(loss=MeanSquaredError(), optimizer = Adam(learning_rate=0.005), metrics=[RootMeanSquaredError()])"
   ]
  },
  {
   "cell_type": "code",
   "execution_count": 10,
   "id": "d3b16c0c-6eeb-4186-894a-c4d0aa5a1985",
   "metadata": {},
   "outputs": [
    {
     "name": "stdout",
     "output_type": "stream",
     "text": [
      "Epoch 1/10\n",
      "18/22 [=======================>......] - ETA: 0s - loss: 21953.6016 - root_mean_squared_error: 148.1675 "
     ]
    },
    {
     "name": "stderr",
     "output_type": "stream",
     "text": [
      "WARNING:absl:Found untraced functions such as lstm_cell_layer_call_fn, lstm_cell_layer_call_and_return_conditional_losses, lstm_cell_layer_call_fn, lstm_cell_layer_call_and_return_conditional_losses, lstm_cell_layer_call_and_return_conditional_losses while saving (showing 5 of 5). These functions will not be directly callable after loading.\n"
     ]
    },
    {
     "name": "stdout",
     "output_type": "stream",
     "text": [
      "INFO:tensorflow:Assets written to: model1/assets\n"
     ]
    },
    {
     "name": "stderr",
     "output_type": "stream",
     "text": [
      "INFO:tensorflow:Assets written to: model1/assets\n",
      "WARNING:absl:<keras.layers.recurrent.LSTMCell object at 0x7fd235f80430> has the same name 'LSTMCell' as a built-in Keras object. Consider renaming <class 'keras.layers.recurrent.LSTMCell'> to avoid naming conflicts when loading with `tf.keras.models.load_model`. If renaming is not possible, pass the object in the `custom_objects` parameter of the load function.\n"
     ]
    },
    {
     "name": "stdout",
     "output_type": "stream",
     "text": [
      "22/22 [==============================] - 5s 172ms/step - loss: 21540.2227 - root_mean_squared_error: 146.7659 - val_loss: 11423.3477 - val_root_mean_squared_error: 106.8801\n",
      "Epoch 2/10\n",
      "22/22 [==============================] - ETA: 0s - loss: 17743.0430 - root_mean_squared_error: 133.2030"
     ]
    },
    {
     "name": "stderr",
     "output_type": "stream",
     "text": [
      "WARNING:absl:Found untraced functions such as lstm_cell_layer_call_fn, lstm_cell_layer_call_and_return_conditional_losses, lstm_cell_layer_call_fn, lstm_cell_layer_call_and_return_conditional_losses, lstm_cell_layer_call_and_return_conditional_losses while saving (showing 5 of 5). These functions will not be directly callable after loading.\n"
     ]
    },
    {
     "name": "stdout",
     "output_type": "stream",
     "text": [
      "INFO:tensorflow:Assets written to: model1/assets\n"
     ]
    },
    {
     "name": "stderr",
     "output_type": "stream",
     "text": [
      "INFO:tensorflow:Assets written to: model1/assets\n",
      "WARNING:absl:<keras.layers.recurrent.LSTMCell object at 0x7fd235f80430> has the same name 'LSTMCell' as a built-in Keras object. Consider renaming <class 'keras.layers.recurrent.LSTMCell'> to avoid naming conflicts when loading with `tf.keras.models.load_model`. If renaming is not possible, pass the object in the `custom_objects` parameter of the load function.\n"
     ]
    },
    {
     "name": "stdout",
     "output_type": "stream",
     "text": [
      "22/22 [==============================] - 3s 152ms/step - loss: 17743.0430 - root_mean_squared_error: 133.2030 - val_loss: 7951.2671 - val_root_mean_squared_error: 89.1699\n",
      "Epoch 3/10\n",
      " 1/22 [>.............................] - ETA: 0s - loss: 16173.3828 - root_mean_squared_error: 127.1746"
     ]
    },
    {
     "name": "stderr",
     "output_type": "stream",
     "text": [
      "WARNING:absl:Found untraced functions such as lstm_cell_layer_call_fn, lstm_cell_layer_call_and_return_conditional_losses, lstm_cell_layer_call_fn, lstm_cell_layer_call_and_return_conditional_losses, lstm_cell_layer_call_and_return_conditional_losses while saving (showing 5 of 5). These functions will not be directly callable after loading.\n"
     ]
    },
    {
     "name": "stdout",
     "output_type": "stream",
     "text": [
      "INFO:tensorflow:Assets written to: model1/assets\n"
     ]
    },
    {
     "name": "stderr",
     "output_type": "stream",
     "text": [
      "INFO:tensorflow:Assets written to: model1/assets\n",
      "WARNING:absl:<keras.layers.recurrent.LSTMCell object at 0x7fd235f80430> has the same name 'LSTMCell' as a built-in Keras object. Consider renaming <class 'keras.layers.recurrent.LSTMCell'> to avoid naming conflicts when loading with `tf.keras.models.load_model`. If renaming is not possible, pass the object in the `custom_objects` parameter of the load function.\n"
     ]
    },
    {
     "name": "stdout",
     "output_type": "stream",
     "text": [
      "22/22 [==============================] - 3s 141ms/step - loss: 13326.7441 - root_mean_squared_error: 115.4415 - val_loss: 4480.0366 - val_root_mean_squared_error: 66.9331\n",
      "Epoch 4/10\n",
      "18/22 [=======================>......] - ETA: 0s - loss: 9532.1846 - root_mean_squared_error: 97.6329  "
     ]
    },
    {
     "name": "stderr",
     "output_type": "stream",
     "text": [
      "WARNING:absl:Found untraced functions such as lstm_cell_layer_call_fn, lstm_cell_layer_call_and_return_conditional_losses, lstm_cell_layer_call_fn, lstm_cell_layer_call_and_return_conditional_losses, lstm_cell_layer_call_and_return_conditional_losses while saving (showing 5 of 5). These functions will not be directly callable after loading.\n"
     ]
    },
    {
     "name": "stdout",
     "output_type": "stream",
     "text": [
      "INFO:tensorflow:Assets written to: model1/assets\n"
     ]
    },
    {
     "name": "stderr",
     "output_type": "stream",
     "text": [
      "INFO:tensorflow:Assets written to: model1/assets\n",
      "WARNING:absl:<keras.layers.recurrent.LSTMCell object at 0x7fd235f80430> has the same name 'LSTMCell' as a built-in Keras object. Consider renaming <class 'keras.layers.recurrent.LSTMCell'> to avoid naming conflicts when loading with `tf.keras.models.load_model`. If renaming is not possible, pass the object in the `custom_objects` parameter of the load function.\n"
     ]
    },
    {
     "name": "stdout",
     "output_type": "stream",
     "text": [
      "22/22 [==============================] - 3s 138ms/step - loss: 9160.4111 - root_mean_squared_error: 95.7100 - val_loss: 2015.4703 - val_root_mean_squared_error: 44.8940\n",
      "Epoch 5/10\n",
      "14/22 [==================>...........] - ETA: 0s - loss: 6738.5845 - root_mean_squared_error: 82.0889  "
     ]
    },
    {
     "name": "stderr",
     "output_type": "stream",
     "text": [
      "WARNING:absl:Found untraced functions such as lstm_cell_layer_call_fn, lstm_cell_layer_call_and_return_conditional_losses, lstm_cell_layer_call_fn, lstm_cell_layer_call_and_return_conditional_losses, lstm_cell_layer_call_and_return_conditional_losses while saving (showing 5 of 5). These functions will not be directly callable after loading.\n"
     ]
    },
    {
     "name": "stdout",
     "output_type": "stream",
     "text": [
      "INFO:tensorflow:Assets written to: model1/assets\n"
     ]
    },
    {
     "name": "stderr",
     "output_type": "stream",
     "text": [
      "INFO:tensorflow:Assets written to: model1/assets\n",
      "WARNING:absl:<keras.layers.recurrent.LSTMCell object at 0x7fd235f80430> has the same name 'LSTMCell' as a built-in Keras object. Consider renaming <class 'keras.layers.recurrent.LSTMCell'> to avoid naming conflicts when loading with `tf.keras.models.load_model`. If renaming is not possible, pass the object in the `custom_objects` parameter of the load function.\n"
     ]
    },
    {
     "name": "stdout",
     "output_type": "stream",
     "text": [
      "22/22 [==============================] - 3s 131ms/step - loss: 6253.6191 - root_mean_squared_error: 79.0798 - val_loss: 954.1096 - val_root_mean_squared_error: 30.8887\n",
      "Epoch 6/10\n",
      " 1/22 [>.............................] - ETA: 0s - loss: 4799.0479 - root_mean_squared_error: 69.2752"
     ]
    },
    {
     "name": "stderr",
     "output_type": "stream",
     "text": [
      "WARNING:absl:Found untraced functions such as lstm_cell_layer_call_fn, lstm_cell_layer_call_and_return_conditional_losses, lstm_cell_layer_call_fn, lstm_cell_layer_call_and_return_conditional_losses, lstm_cell_layer_call_and_return_conditional_losses while saving (showing 5 of 5). These functions will not be directly callable after loading.\n"
     ]
    },
    {
     "name": "stdout",
     "output_type": "stream",
     "text": [
      "INFO:tensorflow:Assets written to: model1/assets\n"
     ]
    },
    {
     "name": "stderr",
     "output_type": "stream",
     "text": [
      "INFO:tensorflow:Assets written to: model1/assets\n",
      "WARNING:absl:<keras.layers.recurrent.LSTMCell object at 0x7fd235f80430> has the same name 'LSTMCell' as a built-in Keras object. Consider renaming <class 'keras.layers.recurrent.LSTMCell'> to avoid naming conflicts when loading with `tf.keras.models.load_model`. If renaming is not possible, pass the object in the `custom_objects` parameter of the load function.\n"
     ]
    },
    {
     "name": "stdout",
     "output_type": "stream",
     "text": [
      "22/22 [==============================] - 3s 130ms/step - loss: 3916.2739 - root_mean_squared_error: 62.5801 - val_loss: 238.8977 - val_root_mean_squared_error: 15.4563\n",
      "Epoch 7/10\n",
      "21/22 [===========================>..] - ETA: 0s - loss: 2214.8606 - root_mean_squared_error: 47.0623"
     ]
    },
    {
     "name": "stderr",
     "output_type": "stream",
     "text": [
      "WARNING:absl:Found untraced functions such as lstm_cell_layer_call_fn, lstm_cell_layer_call_and_return_conditional_losses, lstm_cell_layer_call_fn, lstm_cell_layer_call_and_return_conditional_losses, lstm_cell_layer_call_and_return_conditional_losses while saving (showing 5 of 5). These functions will not be directly callable after loading.\n"
     ]
    },
    {
     "name": "stdout",
     "output_type": "stream",
     "text": [
      "INFO:tensorflow:Assets written to: model1/assets\n"
     ]
    },
    {
     "name": "stderr",
     "output_type": "stream",
     "text": [
      "INFO:tensorflow:Assets written to: model1/assets\n",
      "WARNING:absl:<keras.layers.recurrent.LSTMCell object at 0x7fd235f80430> has the same name 'LSTMCell' as a built-in Keras object. Consider renaming <class 'keras.layers.recurrent.LSTMCell'> to avoid naming conflicts when loading with `tf.keras.models.load_model`. If renaming is not possible, pass the object in the `custom_objects` parameter of the load function.\n"
     ]
    },
    {
     "name": "stdout",
     "output_type": "stream",
     "text": [
      "22/22 [==============================] - 2s 119ms/step - loss: 2206.7231 - root_mean_squared_error: 46.9758 - val_loss: 55.5622 - val_root_mean_squared_error: 7.4540\n",
      "Epoch 8/10\n",
      "21/22 [===========================>..] - ETA: 0s - loss: 1297.5973 - root_mean_squared_error: 36.0222"
     ]
    },
    {
     "name": "stderr",
     "output_type": "stream",
     "text": [
      "WARNING:absl:Found untraced functions such as lstm_cell_layer_call_fn, lstm_cell_layer_call_and_return_conditional_losses, lstm_cell_layer_call_fn, lstm_cell_layer_call_and_return_conditional_losses, lstm_cell_layer_call_and_return_conditional_losses while saving (showing 5 of 5). These functions will not be directly callable after loading.\n"
     ]
    },
    {
     "name": "stdout",
     "output_type": "stream",
     "text": [
      "INFO:tensorflow:Assets written to: model1/assets\n"
     ]
    },
    {
     "name": "stderr",
     "output_type": "stream",
     "text": [
      "INFO:tensorflow:Assets written to: model1/assets\n",
      "WARNING:absl:<keras.layers.recurrent.LSTMCell object at 0x7fd235f80430> has the same name 'LSTMCell' as a built-in Keras object. Consider renaming <class 'keras.layers.recurrent.LSTMCell'> to avoid naming conflicts when loading with `tf.keras.models.load_model`. If renaming is not possible, pass the object in the `custom_objects` parameter of the load function.\n"
     ]
    },
    {
     "name": "stdout",
     "output_type": "stream",
     "text": [
      "22/22 [==============================] - 3s 140ms/step - loss: 1288.6139 - root_mean_squared_error: 35.8973 - val_loss: 50.5679 - val_root_mean_squared_error: 7.1111\n",
      "Epoch 9/10\n",
      "22/22 [==============================] - 0s 3ms/step - loss: 829.5204 - root_mean_squared_error: 28.8014 - val_loss: 53.7020 - val_root_mean_squared_error: 7.3282\n",
      "Epoch 10/10\n",
      "22/22 [==============================] - 0s 3ms/step - loss: 576.9783 - root_mean_squared_error: 24.0204 - val_loss: 54.5499 - val_root_mean_squared_error: 7.3858\n"
     ]
    },
    {
     "data": {
      "text/plain": [
       "<keras.callbacks.History at 0x7fd23d2a6c40>"
      ]
     },
     "execution_count": 10,
     "metadata": {},
     "output_type": "execute_result"
    }
   ],
   "source": [
    "model1.fit(X_train, y_train, validation_data=(X_val, y_val), epochs=10, callbacks=[cp])"
   ]
  },
  {
   "cell_type": "code",
   "execution_count": 11,
   "id": "3d4375fc-c66d-4b71-be67-0b09806b6ee7",
   "metadata": {},
   "outputs": [],
   "source": [
    "from tensorflow.keras.models import load_model\n",
    "model1 = load_model(\"model1/\")"
   ]
  },
  {
   "cell_type": "code",
   "execution_count": 12,
   "id": "f3006493-78bd-423f-803d-1a4876b089fb",
   "metadata": {},
   "outputs": [
    {
     "data": {
      "text/html": [
       "<div>\n",
       "<style scoped>\n",
       "    .dataframe tbody tr th:only-of-type {\n",
       "        vertical-align: middle;\n",
       "    }\n",
       "\n",
       "    .dataframe tbody tr th {\n",
       "        vertical-align: top;\n",
       "    }\n",
       "\n",
       "    .dataframe thead th {\n",
       "        text-align: right;\n",
       "    }\n",
       "</style>\n",
       "<table border=\"1\" class=\"dataframe\">\n",
       "  <thead>\n",
       "    <tr style=\"text-align: right;\">\n",
       "      <th></th>\n",
       "      <th>Train Predictions</th>\n",
       "      <th>Actuals</th>\n",
       "    </tr>\n",
       "  </thead>\n",
       "  <tbody>\n",
       "    <tr>\n",
       "      <th>0</th>\n",
       "      <td>176.711304</td>\n",
       "      <td>260.636364</td>\n",
       "    </tr>\n",
       "    <tr>\n",
       "      <th>1</th>\n",
       "      <td>176.711731</td>\n",
       "      <td>263.454545</td>\n",
       "    </tr>\n",
       "    <tr>\n",
       "      <th>2</th>\n",
       "      <td>176.712677</td>\n",
       "      <td>267.000000</td>\n",
       "    </tr>\n",
       "    <tr>\n",
       "      <th>3</th>\n",
       "      <td>176.713684</td>\n",
       "      <td>268.818182</td>\n",
       "    </tr>\n",
       "    <tr>\n",
       "      <th>4</th>\n",
       "      <td>176.714172</td>\n",
       "      <td>272.000000</td>\n",
       "    </tr>\n",
       "    <tr>\n",
       "      <th>...</th>\n",
       "      <td>...</td>\n",
       "      <td>...</td>\n",
       "    </tr>\n",
       "    <tr>\n",
       "      <th>695</th>\n",
       "      <td>99.973274</td>\n",
       "      <td>98.181818</td>\n",
       "    </tr>\n",
       "    <tr>\n",
       "      <th>696</th>\n",
       "      <td>96.890312</td>\n",
       "      <td>99.363636</td>\n",
       "    </tr>\n",
       "    <tr>\n",
       "      <th>697</th>\n",
       "      <td>98.578789</td>\n",
       "      <td>99.090909</td>\n",
       "    </tr>\n",
       "    <tr>\n",
       "      <th>698</th>\n",
       "      <td>97.792801</td>\n",
       "      <td>98.818182</td>\n",
       "    </tr>\n",
       "    <tr>\n",
       "      <th>699</th>\n",
       "      <td>97.607185</td>\n",
       "      <td>85.636364</td>\n",
       "    </tr>\n",
       "  </tbody>\n",
       "</table>\n",
       "<p>700 rows × 2 columns</p>\n",
       "</div>"
      ],
      "text/plain": [
       "     Train Predictions     Actuals\n",
       "0           176.711304  260.636364\n",
       "1           176.711731  263.454545\n",
       "2           176.712677  267.000000\n",
       "3           176.713684  268.818182\n",
       "4           176.714172  272.000000\n",
       "..                 ...         ...\n",
       "695          99.973274   98.181818\n",
       "696          96.890312   99.363636\n",
       "697          98.578789   99.090909\n",
       "698          97.792801   98.818182\n",
       "699          97.607185   85.636364\n",
       "\n",
       "[700 rows x 2 columns]"
      ]
     },
     "execution_count": 12,
     "metadata": {},
     "output_type": "execute_result"
    }
   ],
   "source": [
    "train_predictions = model1.predict(X_train).flatten()\n",
    "train_results = pd.DataFrame(data={'Train Predictions':train_predictions, 'Actuals': y_train})\n",
    "train_results"
   ]
  },
  {
   "cell_type": "code",
   "execution_count": 13,
   "id": "52d00685-a2f4-4d44-9e97-3148675749f0",
   "metadata": {},
   "outputs": [
    {
     "data": {
      "text/plain": [
       "[<matplotlib.lines.Line2D at 0x7fd224096be0>]"
      ]
     },
     "execution_count": 13,
     "metadata": {},
     "output_type": "execute_result"
    },
    {
     "data": {
      "image/png": "[encoded data removed]",
      "text/plain": [
       "<Figure size 432x288 with 1 Axes>"
      ]
     },
     "metadata": {
      "needs_background": "light"
     },
     "output_type": "display_data"
    }
   ],
   "source": [
    "import matplotlib.pyplot as plt\n",
    "plt.plot(train_results['Train Predictions'])\n",
    "plt.plot(train_results['Actuals'])"
   ]
  },
  {
   "cell_type": "code",
   "execution_count": 14,
   "id": "3337332d-6e6f-40e0-91d7-1d75ff22af18",
   "metadata": {},
   "outputs": [
    {
     "data": {
      "text/html": [
       "<div>\n",
       "<style scoped>\n",
       "    .dataframe tbody tr th:only-of-type {\n",
       "        vertical-align: middle;\n",
       "    }\n",
       "\n",
       "    .dataframe tbody tr th {\n",
       "        vertical-align: top;\n",
       "    }\n",
       "\n",
       "    .dataframe thead th {\n",
       "        text-align: right;\n",
       "    }\n",
       "</style>\n",
       "<table border=\"1\" class=\"dataframe\">\n",
       "  <thead>\n",
       "    <tr style=\"text-align: right;\">\n",
       "      <th></th>\n",
       "      <th>Val Predictions</th>\n",
       "      <th>Actuals</th>\n",
       "    </tr>\n",
       "  </thead>\n",
       "  <tbody>\n",
       "    <tr>\n",
       "      <th>0</th>\n",
       "      <td>81.212402</td>\n",
       "      <td>83.545455</td>\n",
       "    </tr>\n",
       "    <tr>\n",
       "      <th>1</th>\n",
       "      <td>83.649681</td>\n",
       "      <td>78.636364</td>\n",
       "    </tr>\n",
       "    <tr>\n",
       "      <th>2</th>\n",
       "      <td>77.778511</td>\n",
       "      <td>93.090909</td>\n",
       "    </tr>\n",
       "    <tr>\n",
       "      <th>3</th>\n",
       "      <td>99.545975</td>\n",
       "      <td>91.454545</td>\n",
       "    </tr>\n",
       "    <tr>\n",
       "      <th>4</th>\n",
       "      <td>89.509056</td>\n",
       "      <td>91.909091</td>\n",
       "    </tr>\n",
       "    <tr>\n",
       "      <th>...</th>\n",
       "      <td>...</td>\n",
       "      <td>...</td>\n",
       "    </tr>\n",
       "    <tr>\n",
       "      <th>95</th>\n",
       "      <td>96.012718</td>\n",
       "      <td>95.000000</td>\n",
       "    </tr>\n",
       "    <tr>\n",
       "      <th>96</th>\n",
       "      <td>94.622742</td>\n",
       "      <td>98.454545</td>\n",
       "    </tr>\n",
       "    <tr>\n",
       "      <th>97</th>\n",
       "      <td>98.580040</td>\n",
       "      <td>110.727273</td>\n",
       "    </tr>\n",
       "    <tr>\n",
       "      <th>98</th>\n",
       "      <td>112.837463</td>\n",
       "      <td>108.636364</td>\n",
       "    </tr>\n",
       "    <tr>\n",
       "      <th>99</th>\n",
       "      <td>105.183685</td>\n",
       "      <td>95.909091</td>\n",
       "    </tr>\n",
       "  </tbody>\n",
       "</table>\n",
       "<p>100 rows × 2 columns</p>\n",
       "</div>"
      ],
      "text/plain": [
       "    Val Predictions     Actuals\n",
       "0         81.212402   83.545455\n",
       "1         83.649681   78.636364\n",
       "2         77.778511   93.090909\n",
       "3         99.545975   91.454545\n",
       "4         89.509056   91.909091\n",
       "..              ...         ...\n",
       "95        96.012718   95.000000\n",
       "96        94.622742   98.454545\n",
       "97        98.580040  110.727273\n",
       "98       112.837463  108.636364\n",
       "99       105.183685   95.909091\n",
       "\n",
       "[100 rows x 2 columns]"
      ]
     },
     "execution_count": 14,
     "metadata": {},
     "output_type": "execute_result"
    }
   ],
   "source": [
    "val_predictions = model1.predict(X_val).flatten()\n",
    "val_results = pd.DataFrame(data={'Val Predictions':val_predictions, 'Actuals': y_val})\n",
    "val_results"
   ]
  },
  {
   "cell_type": "code",
   "execution_count": 15,
   "id": "31b5ef6c-e71b-4161-b384-bba94cea8b79",
   "metadata": {},
   "outputs": [
    {
     "data": {
      "text/plain": [
       "[<matplotlib.lines.Line2D at 0x7fd220875310>]"
      ]
     },
     "execution_count": 15,
     "metadata": {},
     "output_type": "execute_result"
    },
    {
     "data": {
      "image/png": "[encoded data removed]",
      "text/plain": [
       "<Figure size 432x288 with 1 Axes>"
      ]
     },
     "metadata": {
      "needs_background": "light"
     },
     "output_type": "display_data"
    }
   ],
   "source": [
    "plt.plot(val_results['Val Predictions'][:100])\n",
    "plt.plot(val_results['Actuals'][:100])"
   ]
  },
  {
   "cell_type": "code",
   "execution_count": 16,
   "id": "226915d1-a8bf-4f6f-9b1e-716046a9dc13",
   "metadata": {},
   "outputs": [
    {
     "data": {
      "text/html": [
       "<div>\n",
       "<style scoped>\n",
       "    .dataframe tbody tr th:only-of-type {\n",
       "        vertical-align: middle;\n",
       "    }\n",
       "\n",
       "    .dataframe tbody tr th {\n",
       "        vertical-align: top;\n",
       "    }\n",
       "\n",
       "    .dataframe thead th {\n",
       "        text-align: right;\n",
       "    }\n",
       "</style>\n",
       "<table border=\"1\" class=\"dataframe\">\n",
       "  <thead>\n",
       "    <tr style=\"text-align: right;\">\n",
       "      <th></th>\n",
       "      <th>Test Predictions</th>\n",
       "      <th>Actuals</th>\n",
       "    </tr>\n",
       "  </thead>\n",
       "  <tbody>\n",
       "    <tr>\n",
       "      <th>0</th>\n",
       "      <td>81.212402</td>\n",
       "      <td>83.545455</td>\n",
       "    </tr>\n",
       "    <tr>\n",
       "      <th>1</th>\n",
       "      <td>83.649681</td>\n",
       "      <td>78.636364</td>\n",
       "    </tr>\n",
       "    <tr>\n",
       "      <th>2</th>\n",
       "      <td>77.778511</td>\n",
       "      <td>93.090909</td>\n",
       "    </tr>\n",
       "    <tr>\n",
       "      <th>3</th>\n",
       "      <td>99.545975</td>\n",
       "      <td>91.454545</td>\n",
       "    </tr>\n",
       "    <tr>\n",
       "      <th>4</th>\n",
       "      <td>89.509056</td>\n",
       "      <td>91.909091</td>\n",
       "    </tr>\n",
       "    <tr>\n",
       "      <th>...</th>\n",
       "      <td>...</td>\n",
       "      <td>...</td>\n",
       "    </tr>\n",
       "    <tr>\n",
       "      <th>95</th>\n",
       "      <td>96.012718</td>\n",
       "      <td>95.000000</td>\n",
       "    </tr>\n",
       "    <tr>\n",
       "      <th>96</th>\n",
       "      <td>94.622742</td>\n",
       "      <td>98.454545</td>\n",
       "    </tr>\n",
       "    <tr>\n",
       "      <th>97</th>\n",
       "      <td>98.580040</td>\n",
       "      <td>110.727273</td>\n",
       "    </tr>\n",
       "    <tr>\n",
       "      <th>98</th>\n",
       "      <td>112.837463</td>\n",
       "      <td>108.636364</td>\n",
       "    </tr>\n",
       "    <tr>\n",
       "      <th>99</th>\n",
       "      <td>105.183685</td>\n",
       "      <td>95.909091</td>\n",
       "    </tr>\n",
       "  </tbody>\n",
       "</table>\n",
       "<p>100 rows × 2 columns</p>\n",
       "</div>"
      ],
      "text/plain": [
       "    Test Predictions     Actuals\n",
       "0          81.212402   83.545455\n",
       "1          83.649681   78.636364\n",
       "2          77.778511   93.090909\n",
       "3          99.545975   91.454545\n",
       "4          89.509056   91.909091\n",
       "..               ...         ...\n",
       "95         96.012718   95.000000\n",
       "96         94.622742   98.454545\n",
       "97         98.580040  110.727273\n",
       "98        112.837463  108.636364\n",
       "99        105.183685   95.909091\n",
       "\n",
       "[100 rows x 2 columns]"
      ]
     },
     "execution_count": 16,
     "metadata": {},
     "output_type": "execute_result"
    }
   ],
   "source": [
    "test_predictions = model1.predict(X_test).flatten()\n",
    "test_results = pd.DataFrame(data={'Test Predictions':val_predictions, 'Actuals': y_val})\n",
    "test_results"
   ]
  },
  {
   "cell_type": "code",
   "execution_count": 17,
   "id": "df93c9b8-4117-48b5-91bd-7d09464be320",
   "metadata": {},
   "outputs": [
    {
     "data": {
      "text/plain": [
       "[<matplotlib.lines.Line2D at 0x7fd21f5926a0>]"
      ]
     },
     "execution_count": 17,
     "metadata": {},
     "output_type": "execute_result"
    },
    {
     "data": {
      "image/png": "[encoded data removed]",
      "text/plain": [
       "<Figure size 432x288 with 1 Axes>"
      ]
     },
     "metadata": {
      "needs_background": "light"
     },
     "output_type": "display_data"
    }
   ],
   "source": [
    "plt.plot(test_results['Test Predictions'])\n",
    "plt.plot(test_results['Actuals'])"
   ]
  },
  {
   "cell_type": "code",
   "execution_count": null,
   "id": "6ef92112-8191-4f2d-a5ef-c58da49fc059",
   "metadata": {},
   "outputs": [],
   "source": []
  },
  {
   "cell_type": "code",
   "execution_count": null,
   "id": "b3f1cc47-44d3-4311-8444-e58c3f2c0430",
   "metadata": {},
   "outputs": [],
   "source": []
  },
  {
   "cell_type": "code",
   "execution_count": 32,
   "id": "9e8cc9e3-223f-47be-8b20-920cce356abd",
   "metadata": {},
   "outputs": [],
   "source": [
    "import pandas as pd\n",
    "\n",
    "from sklearn.preprocessing import StandardScaler\n",
    "from sklearn.model_selection import train_test_split\n",
    "from sklearn.metrics import accuracy_score\n",
    "\n",
    "from tensorflow.keras.models import Sequential\n",
    "from tensorflow.keras.layers import Dense, Dropout, GRU\n",
    "from tensorflow.keras.optimizers import Adam\n",
    "from tensorflow.keras.preprocessing.sequence import TimeseriesGenerator\n",
    "\n",
    "import matplotlib.pyplot as plt"
   ]
  },
  {
   "cell_type": "code",
   "execution_count": 33,
   "id": "7a78d45e-be8b-482d-b2a0-cc7c2f7bdaef",
   "metadata": {},
   "outputs": [
    {
     "data": {
      "text/html": [
       "<div>\n",
       "<style scoped>\n",
       "    .dataframe tbody tr th:only-of-type {\n",
       "        vertical-align: middle;\n",
       "    }\n",
       "\n",
       "    .dataframe tbody tr th {\n",
       "        vertical-align: top;\n",
       "    }\n",
       "\n",
       "    .dataframe thead th {\n",
       "        text-align: right;\n",
       "    }\n",
       "</style>\n",
       "<table border=\"1\" class=\"dataframe\">\n",
       "  <thead>\n",
       "    <tr style=\"text-align: right;\">\n",
       "      <th></th>\n",
       "      <th>ValidStart</th>\n",
       "      <th>area_none</th>\n",
       "      <th>area_d0</th>\n",
       "      <th>area_d1</th>\n",
       "      <th>area_d2</th>\n",
       "      <th>area_d3</th>\n",
       "      <th>area_d4</th>\n",
       "      <th>population_none</th>\n",
       "      <th>population_d0</th>\n",
       "      <th>population_d1</th>\n",
       "      <th>population_d2</th>\n",
       "      <th>population_d3</th>\n",
       "      <th>population_d4</th>\n",
       "      <th>DSCI</th>\n",
       "      <th>total_population</th>\n",
       "      <th>total_area</th>\n",
       "      <th>Region</th>\n",
       "    </tr>\n",
       "    <tr>\n",
       "      <th>ValidStart</th>\n",
       "      <th></th>\n",
       "      <th></th>\n",
       "      <th></th>\n",
       "      <th></th>\n",
       "      <th></th>\n",
       "      <th></th>\n",
       "      <th></th>\n",
       "      <th></th>\n",
       "      <th></th>\n",
       "      <th></th>\n",
       "      <th></th>\n",
       "      <th></th>\n",
       "      <th></th>\n",
       "      <th></th>\n",
       "      <th></th>\n",
       "      <th></th>\n",
       "      <th></th>\n",
       "    </tr>\n",
       "  </thead>\n",
       "  <tbody>\n",
       "    <tr>\n",
       "      <th>2000-12-26</th>\n",
       "      <td>2000-12-26</td>\n",
       "      <td>1434812.58</td>\n",
       "      <td>101825.23</td>\n",
       "      <td>7758.44</td>\n",
       "      <td>0.00</td>\n",
       "      <td>0.0</td>\n",
       "      <td>0.0</td>\n",
       "      <td>68357640.86</td>\n",
       "      <td>899817.04</td>\n",
       "      <td>130497.41</td>\n",
       "      <td>0.00</td>\n",
       "      <td>0.0</td>\n",
       "      <td>0.0</td>\n",
       "      <td>270.909091</td>\n",
       "      <td>69387955.31</td>\n",
       "      <td>1544396.25</td>\n",
       "      <td>west</td>\n",
       "    </tr>\n",
       "    <tr>\n",
       "      <th>2001-01-02</th>\n",
       "      <td>2001-01-02</td>\n",
       "      <td>1385883.61</td>\n",
       "      <td>150754.21</td>\n",
       "      <td>7758.44</td>\n",
       "      <td>0.00</td>\n",
       "      <td>0.0</td>\n",
       "      <td>0.0</td>\n",
       "      <td>47544376.73</td>\n",
       "      <td>21713081.18</td>\n",
       "      <td>130497.41</td>\n",
       "      <td>0.00</td>\n",
       "      <td>0.0</td>\n",
       "      <td>0.0</td>\n",
       "      <td>270.727273</td>\n",
       "      <td>69387955.32</td>\n",
       "      <td>1544396.26</td>\n",
       "      <td>west</td>\n",
       "    </tr>\n",
       "    <tr>\n",
       "      <th>2001-01-09</th>\n",
       "      <td>2001-01-09</td>\n",
       "      <td>1335052.37</td>\n",
       "      <td>201462.03</td>\n",
       "      <td>7631.41</td>\n",
       "      <td>250.43</td>\n",
       "      <td>0.0</td>\n",
       "      <td>0.0</td>\n",
       "      <td>43966433.52</td>\n",
       "      <td>25275881.78</td>\n",
       "      <td>113027.16</td>\n",
       "      <td>32612.88</td>\n",
       "      <td>0.0</td>\n",
       "      <td>0.0</td>\n",
       "      <td>265.454545</td>\n",
       "      <td>69387955.34</td>\n",
       "      <td>1544396.24</td>\n",
       "      <td>west</td>\n",
       "    </tr>\n",
       "    <tr>\n",
       "      <th>2001-01-16</th>\n",
       "      <td>2001-01-16</td>\n",
       "      <td>1393073.96</td>\n",
       "      <td>139449.02</td>\n",
       "      <td>11622.83</td>\n",
       "      <td>250.43</td>\n",
       "      <td>0.0</td>\n",
       "      <td>0.0</td>\n",
       "      <td>63959056.64</td>\n",
       "      <td>5098179.64</td>\n",
       "      <td>298106.16</td>\n",
       "      <td>32612.88</td>\n",
       "      <td>0.0</td>\n",
       "      <td>0.0</td>\n",
       "      <td>262.090909</td>\n",
       "      <td>69387955.32</td>\n",
       "      <td>1544396.24</td>\n",
       "      <td>west</td>\n",
       "    </tr>\n",
       "    <tr>\n",
       "      <th>2001-01-23</th>\n",
       "      <td>2001-01-23</td>\n",
       "      <td>1212072.00</td>\n",
       "      <td>319908.04</td>\n",
       "      <td>12165.78</td>\n",
       "      <td>250.43</td>\n",
       "      <td>0.0</td>\n",
       "      <td>0.0</td>\n",
       "      <td>55062839.85</td>\n",
       "      <td>13926646.57</td>\n",
       "      <td>365856.02</td>\n",
       "      <td>32612.88</td>\n",
       "      <td>0.0</td>\n",
       "      <td>0.0</td>\n",
       "      <td>259.363636</td>\n",
       "      <td>69387955.32</td>\n",
       "      <td>1544396.25</td>\n",
       "      <td>west</td>\n",
       "    </tr>\n",
       "  </tbody>\n",
       "</table>\n",
       "</div>"
      ],
      "text/plain": [
       "            ValidStart   area_none    area_d0   area_d1  area_d2  area_d3  \\\n",
       "ValidStart                                                                  \n",
       "2000-12-26  2000-12-26  1434812.58  101825.23   7758.44     0.00      0.0   \n",
       "2001-01-02  2001-01-02  1385883.61  150754.21   7758.44     0.00      0.0   \n",
       "2001-01-09  2001-01-09  1335052.37  201462.03   7631.41   250.43      0.0   \n",
       "2001-01-16  2001-01-16  1393073.96  139449.02  11622.83   250.43      0.0   \n",
       "2001-01-23  2001-01-23  1212072.00  319908.04  12165.78   250.43      0.0   \n",
       "\n",
       "            area_d4  population_none  population_d0  population_d1  \\\n",
       "ValidStart                                                           \n",
       "2000-12-26      0.0      68357640.86      899817.04      130497.41   \n",
       "2001-01-02      0.0      47544376.73    21713081.18      130497.41   \n",
       "2001-01-09      0.0      43966433.52    25275881.78      113027.16   \n",
       "2001-01-16      0.0      63959056.64     5098179.64      298106.16   \n",
       "2001-01-23      0.0      55062839.85    13926646.57      365856.02   \n",
       "\n",
       "            population_d2  population_d3  population_d4        DSCI  \\\n",
       "ValidStart                                                            \n",
       "2000-12-26           0.00            0.0            0.0  270.909091   \n",
       "2001-01-02           0.00            0.0            0.0  270.727273   \n",
       "2001-01-09       32612.88            0.0            0.0  265.454545   \n",
       "2001-01-16       32612.88            0.0            0.0  262.090909   \n",
       "2001-01-23       32612.88            0.0            0.0  259.363636   \n",
       "\n",
       "            total_population  total_area Region  \n",
       "ValidStart                                       \n",
       "2000-12-26       69387955.31  1544396.25   west  \n",
       "2001-01-02       69387955.32  1544396.26   west  \n",
       "2001-01-09       69387955.34  1544396.24   west  \n",
       "2001-01-16       69387955.32  1544396.24   west  \n",
       "2001-01-23       69387955.32  1544396.25   west  "
      ]
     },
     "execution_count": 33,
     "metadata": {},
     "output_type": "execute_result"
    }
   ],
   "source": [
    "west.head()"
   ]
  },
  {
   "cell_type": "code",
   "execution_count": 34,
   "id": "66257598-2c2d-485c-a02f-2f19c8968909",
   "metadata": {},
   "outputs": [],
   "source": [
    "west.drop(['ValidStart','Region'],axis=1,inplace=True)\n",
    "features = [col for col in west.columns if not col == 'DSCI']\n",
    "\n",
    "X = west[features]\n",
    "\n",
    "y = west[['DSCI']].values"
   ]
  },
  {
   "cell_type": "code",
   "execution_count": 35,
   "id": "c2398c9d-ba04-4198-872b-44d22b2aeb15",
   "metadata": {},
   "outputs": [
    {
     "data": {
      "text/html": [
       "<div>\n",
       "<style scoped>\n",
       "    .dataframe tbody tr th:only-of-type {\n",
       "        vertical-align: middle;\n",
       "    }\n",
       "\n",
       "    .dataframe tbody tr th {\n",
       "        vertical-align: top;\n",
       "    }\n",
       "\n",
       "    .dataframe thead th {\n",
       "        text-align: right;\n",
       "    }\n",
       "</style>\n",
       "<table border=\"1\" class=\"dataframe\">\n",
       "  <thead>\n",
       "    <tr style=\"text-align: right;\">\n",
       "      <th></th>\n",
       "      <th>area_none</th>\n",
       "      <th>area_d0</th>\n",
       "      <th>area_d1</th>\n",
       "      <th>area_d2</th>\n",
       "      <th>area_d3</th>\n",
       "      <th>area_d4</th>\n",
       "      <th>population_none</th>\n",
       "      <th>population_d0</th>\n",
       "      <th>population_d1</th>\n",
       "      <th>population_d2</th>\n",
       "      <th>population_d3</th>\n",
       "      <th>population_d4</th>\n",
       "      <th>total_population</th>\n",
       "      <th>total_area</th>\n",
       "    </tr>\n",
       "    <tr>\n",
       "      <th>ValidStart</th>\n",
       "      <th></th>\n",
       "      <th></th>\n",
       "      <th></th>\n",
       "      <th></th>\n",
       "      <th></th>\n",
       "      <th></th>\n",
       "      <th></th>\n",
       "      <th></th>\n",
       "      <th></th>\n",
       "      <th></th>\n",
       "      <th></th>\n",
       "      <th></th>\n",
       "      <th></th>\n",
       "      <th></th>\n",
       "    </tr>\n",
       "  </thead>\n",
       "  <tbody>\n",
       "    <tr>\n",
       "      <th>2000-12-26</th>\n",
       "      <td>1434812.58</td>\n",
       "      <td>101825.23</td>\n",
       "      <td>7758.44</td>\n",
       "      <td>0.00</td>\n",
       "      <td>0.0</td>\n",
       "      <td>0.0</td>\n",
       "      <td>68357640.86</td>\n",
       "      <td>899817.04</td>\n",
       "      <td>130497.41</td>\n",
       "      <td>0.00</td>\n",
       "      <td>0.0</td>\n",
       "      <td>0.0</td>\n",
       "      <td>69387955.31</td>\n",
       "      <td>1544396.25</td>\n",
       "    </tr>\n",
       "    <tr>\n",
       "      <th>2001-01-02</th>\n",
       "      <td>1385883.61</td>\n",
       "      <td>150754.21</td>\n",
       "      <td>7758.44</td>\n",
       "      <td>0.00</td>\n",
       "      <td>0.0</td>\n",
       "      <td>0.0</td>\n",
       "      <td>47544376.73</td>\n",
       "      <td>21713081.18</td>\n",
       "      <td>130497.41</td>\n",
       "      <td>0.00</td>\n",
       "      <td>0.0</td>\n",
       "      <td>0.0</td>\n",
       "      <td>69387955.32</td>\n",
       "      <td>1544396.26</td>\n",
       "    </tr>\n",
       "    <tr>\n",
       "      <th>2001-01-09</th>\n",
       "      <td>1335052.37</td>\n",
       "      <td>201462.03</td>\n",
       "      <td>7631.41</td>\n",
       "      <td>250.43</td>\n",
       "      <td>0.0</td>\n",
       "      <td>0.0</td>\n",
       "      <td>43966433.52</td>\n",
       "      <td>25275881.78</td>\n",
       "      <td>113027.16</td>\n",
       "      <td>32612.88</td>\n",
       "      <td>0.0</td>\n",
       "      <td>0.0</td>\n",
       "      <td>69387955.34</td>\n",
       "      <td>1544396.24</td>\n",
       "    </tr>\n",
       "    <tr>\n",
       "      <th>2001-01-16</th>\n",
       "      <td>1393073.96</td>\n",
       "      <td>139449.02</td>\n",
       "      <td>11622.83</td>\n",
       "      <td>250.43</td>\n",
       "      <td>0.0</td>\n",
       "      <td>0.0</td>\n",
       "      <td>63959056.64</td>\n",
       "      <td>5098179.64</td>\n",
       "      <td>298106.16</td>\n",
       "      <td>32612.88</td>\n",
       "      <td>0.0</td>\n",
       "      <td>0.0</td>\n",
       "      <td>69387955.32</td>\n",
       "      <td>1544396.24</td>\n",
       "    </tr>\n",
       "    <tr>\n",
       "      <th>2001-01-23</th>\n",
       "      <td>1212072.00</td>\n",
       "      <td>319908.04</td>\n",
       "      <td>12165.78</td>\n",
       "      <td>250.43</td>\n",
       "      <td>0.0</td>\n",
       "      <td>0.0</td>\n",
       "      <td>55062839.85</td>\n",
       "      <td>13926646.57</td>\n",
       "      <td>365856.02</td>\n",
       "      <td>32612.88</td>\n",
       "      <td>0.0</td>\n",
       "      <td>0.0</td>\n",
       "      <td>69387955.32</td>\n",
       "      <td>1544396.25</td>\n",
       "    </tr>\n",
       "  </tbody>\n",
       "</table>\n",
       "</div>"
      ],
      "text/plain": [
       "             area_none    area_d0   area_d1  area_d2  area_d3  area_d4  \\\n",
       "ValidStart                                                               \n",
       "2000-12-26  1434812.58  101825.23   7758.44     0.00      0.0      0.0   \n",
       "2001-01-02  1385883.61  150754.21   7758.44     0.00      0.0      0.0   \n",
       "2001-01-09  1335052.37  201462.03   7631.41   250.43      0.0      0.0   \n",
       "2001-01-16  1393073.96  139449.02  11622.83   250.43      0.0      0.0   \n",
       "2001-01-23  1212072.00  319908.04  12165.78   250.43      0.0      0.0   \n",
       "\n",
       "            population_none  population_d0  population_d1  population_d2  \\\n",
       "ValidStart                                                                 \n",
       "2000-12-26      68357640.86      899817.04      130497.41           0.00   \n",
       "2001-01-02      47544376.73    21713081.18      130497.41           0.00   \n",
       "2001-01-09      43966433.52    25275881.78      113027.16       32612.88   \n",
       "2001-01-16      63959056.64     5098179.64      298106.16       32612.88   \n",
       "2001-01-23      55062839.85    13926646.57      365856.02       32612.88   \n",
       "\n",
       "            population_d3  population_d4  total_population  total_area  \n",
       "ValidStart                                                              \n",
       "2000-12-26            0.0            0.0       69387955.31  1544396.25  \n",
       "2001-01-02            0.0            0.0       69387955.32  1544396.26  \n",
       "2001-01-09            0.0            0.0       69387955.34  1544396.24  \n",
       "2001-01-16            0.0            0.0       69387955.32  1544396.24  \n",
       "2001-01-23            0.0            0.0       69387955.32  1544396.25  "
      ]
     },
     "execution_count": 35,
     "metadata": {},
     "output_type": "execute_result"
    }
   ],
   "source": [
    "# Train/Test Split\n",
    "X_train, X_test, y_train, y_test = train_test_split(X, y, shuffle = False)\n",
    "\n",
    "X_train.head()"
   ]
  },
  {
   "cell_type": "code",
   "execution_count": 36,
   "id": "69889663-6053-4d47-889b-530b7a8f8cbe",
   "metadata": {},
   "outputs": [],
   "source": [
    "# Scale\n",
    "\n",
    "ss = StandardScaler()\n",
    "\n",
    "X_train_sc = ss.fit_transform(X_train)\n",
    "\n",
    "X_test_sc = ss.transform(X_test)"
   ]
  },
  {
   "cell_type": "code",
   "execution_count": 37,
   "id": "0177274a-87c1-4bff-be53-016a640c4df8",
   "metadata": {},
   "outputs": [],
   "source": [
    "# Create training sequences\n",
    "train_sequences = TimeseriesGenerator(X_train_sc, y_train, length = 3, batch_size = 64)"
   ]
  },
  {
   "cell_type": "code",
   "execution_count": 38,
   "id": "49103e02-621f-423f-a180-4d2d39ea7300",
   "metadata": {},
   "outputs": [],
   "source": [
    "batch_x, batch_y = train_sequences[0]"
   ]
  },
  {
   "cell_type": "code",
   "execution_count": 39,
   "id": "2afbf0c0-f5c7-443c-a092-c18e4f192c20",
   "metadata": {},
   "outputs": [
    {
     "data": {
      "text/plain": [
       "(64, 3, 14)"
      ]
     },
     "execution_count": 39,
     "metadata": {},
     "output_type": "execute_result"
    }
   ],
   "source": [
    "batch_x.shape"
   ]
  },
  {
   "cell_type": "code",
   "execution_count": 40,
   "id": "e6b06336-3142-462d-a754-a7527352dcd2",
   "metadata": {},
   "outputs": [
    {
     "data": {
      "text/plain": [
       "(64, 1)"
      ]
     },
     "execution_count": 40,
     "metadata": {},
     "output_type": "execute_result"
    }
   ],
   "source": [
    "batch_y.shape"
   ]
  },
  {
   "cell_type": "code",
   "execution_count": 41,
   "id": "8c3f4fd0-ea12-4110-b9c3-60773636edac",
   "metadata": {},
   "outputs": [],
   "source": [
    "# Create test sequences\n",
    "\n",
    "test_sequences = TimeseriesGenerator(X_test_sc, y_test, length = 3, batch_size = 64)"
   ]
  },
  {
   "cell_type": "code",
   "execution_count": 43,
   "id": "751aa3f6-38f6-4c5c-b1b6-540685280caa",
   "metadata": {},
   "outputs": [
    {
     "name": "stderr",
     "output_type": "stream",
     "text": [
      "/opt/anaconda3/lib/python3.8/site-packages/keras/optimizer_v2/adam.py:105: UserWarning: The `lr` argument is deprecated, use `learning_rate` instead.\n",
      "  super(Adam, self).__init__(name, **kwargs)\n"
     ]
    }
   ],
   "source": [
    "# Design RNN\n",
    "\n",
    "input_shape = batch_x.shape[1:]\n",
    "\n",
    "model = Sequential()\n",
    "model.add(GRU(8, input_shape = input_shape, return_sequences=True)) # True when your next layer is also an RNN layer\n",
    "model.add(GRU(8, return_sequences=False)) # False because next layer is NOT an RNN layer\n",
    "model.add(Dense(4, activation = 'relu'))\n",
    "model.add(Dense(4, activation = 'relu'))\n",
    "model.add(Dense(1, activation = 'sigmoid'))\n",
    "\n",
    "model.compile(\n",
    "    loss = 'bce',\n",
    "    optimizer = Adam(lr=0.0005),\n",
    "    metrics = ['acc'])"
   ]
  },
  {
   "cell_type": "code",
   "execution_count": 44,
   "id": "e31bd61f-7065-44f7-87b6-579af36fe7c2",
   "metadata": {},
   "outputs": [
    {
     "name": "stdout",
     "output_type": "stream",
     "text": [
      "Epoch 1/50\n",
      "13/13 [==============================] - 3s 49ms/step - loss: 2.5290 - acc: 0.0000e+00 - val_loss: 0.0240 - val_acc: 0.0000e+00\n",
      "Epoch 2/50\n",
      "13/13 [==============================] - 0s 7ms/step - loss: -1.2668 - acc: 0.0000e+00 - val_loss: -4.1710 - val_acc: 0.0000e+00\n",
      "Epoch 3/50\n",
      "13/13 [==============================] - 0s 7ms/step - loss: -5.1195 - acc: 0.0000e+00 - val_loss: -8.6094 - val_acc: 0.0000e+00\n",
      "Epoch 4/50\n",
      "13/13 [==============================] - 0s 6ms/step - loss: -8.8191 - acc: 0.0000e+00 - val_loss: -13.1022 - val_acc: 0.0000e+00\n",
      "Epoch 5/50\n",
      "13/13 [==============================] - 0s 6ms/step - loss: -12.5125 - acc: 0.0000e+00 - val_loss: -18.0325 - val_acc: 0.0000e+00\n",
      "Epoch 6/50\n",
      "13/13 [==============================] - 0s 6ms/step - loss: -16.4556 - acc: 0.0000e+00 - val_loss: -23.2620 - val_acc: 0.0000e+00\n",
      "Epoch 7/50\n",
      "13/13 [==============================] - 0s 6ms/step - loss: -20.3143 - acc: 0.0000e+00 - val_loss: -29.3722 - val_acc: 0.0000e+00\n",
      "Epoch 8/50\n",
      "13/13 [==============================] - 0s 6ms/step - loss: -25.4226 - acc: 0.0000e+00 - val_loss: -35.4546 - val_acc: 0.0000e+00\n",
      "Epoch 9/50\n",
      "13/13 [==============================] - 0s 6ms/step - loss: -30.5060 - acc: 0.0000e+00 - val_loss: -42.1032 - val_acc: 0.0000e+00\n",
      "Epoch 10/50\n",
      "13/13 [==============================] - 0s 6ms/step - loss: -35.9663 - acc: 0.0000e+00 - val_loss: -49.4896 - val_acc: 0.0000e+00\n",
      "Epoch 11/50\n",
      "13/13 [==============================] - 0s 7ms/step - loss: -42.4758 - acc: 0.0000e+00 - val_loss: -57.3226 - val_acc: 0.0000e+00\n",
      "Epoch 12/50\n",
      "13/13 [==============================] - 0s 7ms/step - loss: -49.0264 - acc: 0.0000e+00 - val_loss: -66.3533 - val_acc: 0.0000e+00\n",
      "Epoch 13/50\n",
      "13/13 [==============================] - 0s 7ms/step - loss: -57.0627 - acc: 0.0000e+00 - val_loss: -75.6915 - val_acc: 0.0000e+00\n",
      "Epoch 14/50\n",
      "13/13 [==============================] - 0s 6ms/step - loss: -64.6794 - acc: 0.0000e+00 - val_loss: -86.9086 - val_acc: 0.0000e+00\n",
      "Epoch 15/50\n",
      "13/13 [==============================] - 0s 6ms/step - loss: -74.5871 - acc: 0.0000e+00 - val_loss: -98.2921 - val_acc: 0.0000e+00\n",
      "Epoch 16/50\n",
      "13/13 [==============================] - 0s 6ms/step - loss: -85.4241 - acc: 0.0000e+00 - val_loss: -110.0258 - val_acc: 0.0000e+00\n",
      "Epoch 17/50\n",
      "13/13 [==============================] - 0s 6ms/step - loss: -95.6443 - acc: 0.0000e+00 - val_loss: -124.1238 - val_acc: 0.0000e+00\n",
      "Epoch 18/50\n",
      "13/13 [==============================] - 0s 6ms/step - loss: -108.7927 - acc: 0.0000e+00 - val_loss: -138.1482 - val_acc: 0.0000e+00\n",
      "Epoch 19/50\n",
      "13/13 [==============================] - 0s 6ms/step - loss: -122.4366 - acc: 0.0000e+00 - val_loss: -152.7093 - val_acc: 0.0000e+00\n",
      "Epoch 20/50\n",
      "13/13 [==============================] - 0s 6ms/step - loss: -135.5264 - acc: 0.0000e+00 - val_loss: -170.3741 - val_acc: 0.0000e+00\n",
      "Epoch 21/50\n",
      "13/13 [==============================] - 0s 6ms/step - loss: -151.3540 - acc: 0.0000e+00 - val_loss: -188.7726 - val_acc: 0.0000e+00\n",
      "Epoch 22/50\n",
      "13/13 [==============================] - 0s 6ms/step - loss: -167.9017 - acc: 0.0000e+00 - val_loss: -208.6954 - val_acc: 0.0000e+00\n",
      "Epoch 23/50\n",
      "13/13 [==============================] - 0s 6ms/step - loss: -185.3906 - acc: 0.0000e+00 - val_loss: -229.4458 - val_acc: 0.0000e+00\n",
      "Epoch 24/50\n",
      "13/13 [==============================] - 0s 6ms/step - loss: -203.9904 - acc: 0.0000e+00 - val_loss: -251.2744 - val_acc: 0.0000e+00\n",
      "Epoch 25/50\n",
      "13/13 [==============================] - 0s 6ms/step - loss: -223.8772 - acc: 0.0000e+00 - val_loss: -273.6183 - val_acc: 0.0000e+00\n",
      "Epoch 26/50\n",
      "13/13 [==============================] - 0s 6ms/step - loss: -244.0725 - acc: 0.0000e+00 - val_loss: -297.3347 - val_acc: 0.0000e+00\n",
      "Epoch 27/50\n",
      "13/13 [==============================] - 0s 6ms/step - loss: -265.2560 - acc: 0.0000e+00 - val_loss: -322.2262 - val_acc: 0.0000e+00\n",
      "Epoch 28/50\n",
      "13/13 [==============================] - 0s 6ms/step - loss: -287.3356 - acc: 0.0000e+00 - val_loss: -348.0384 - val_acc: 0.0000e+00\n",
      "Epoch 29/50\n",
      "13/13 [==============================] - 0s 6ms/step - loss: -310.5093 - acc: 0.0000e+00 - val_loss: -374.3693 - val_acc: 0.0000e+00\n",
      "Epoch 30/50\n",
      "13/13 [==============================] - 0s 6ms/step - loss: -332.6264 - acc: 0.0000e+00 - val_loss: -403.5065 - val_acc: 0.0000e+00\n",
      "Epoch 31/50\n",
      "13/13 [==============================] - 0s 6ms/step - loss: -357.7458 - acc: 0.0000e+00 - val_loss: -431.7029 - val_acc: 0.0000e+00\n",
      "Epoch 32/50\n",
      "13/13 [==============================] - 0s 6ms/step - loss: -381.9505 - acc: 0.0000e+00 - val_loss: -462.4839 - val_acc: 0.0000e+00\n",
      "Epoch 33/50\n",
      "13/13 [==============================] - 0s 6ms/step - loss: -407.0244 - acc: 0.0000e+00 - val_loss: -494.8152 - val_acc: 0.0000e+00\n",
      "Epoch 34/50\n",
      "13/13 [==============================] - 0s 6ms/step - loss: -431.8966 - acc: 0.0000e+00 - val_loss: -528.9046 - val_acc: 0.0000e+00\n",
      "Epoch 35/50\n",
      "13/13 [==============================] - 0s 6ms/step - loss: -460.4291 - acc: 0.0000e+00 - val_loss: -561.9341 - val_acc: 0.0000e+00\n",
      "Epoch 36/50\n",
      "13/13 [==============================] - 0s 6ms/step - loss: -487.1044 - acc: 0.0000e+00 - val_loss: -596.9094 - val_acc: 0.0000e+00\n",
      "Epoch 37/50\n",
      "13/13 [==============================] - 0s 6ms/step - loss: -517.0475 - acc: 0.0000e+00 - val_loss: -631.3394 - val_acc: 0.0000e+00\n",
      "Epoch 38/50\n",
      "13/13 [==============================] - 0s 6ms/step - loss: -544.8036 - acc: 0.0000e+00 - val_loss: -669.5016 - val_acc: 0.0000e+00\n",
      "Epoch 39/50\n",
      "13/13 [==============================] - 0s 6ms/step - loss: -576.8420 - acc: 0.0000e+00 - val_loss: -707.5765 - val_acc: 0.0000e+00\n",
      "Epoch 40/50\n",
      "13/13 [==============================] - 0s 6ms/step - loss: -607.0917 - acc: 0.0000e+00 - val_loss: -747.6048 - val_acc: 0.0000e+00\n",
      "Epoch 41/50\n",
      "13/13 [==============================] - 0s 6ms/step - loss: -641.5046 - acc: 0.0000e+00 - val_loss: -790.2341 - val_acc: 0.0000e+00\n",
      "Epoch 42/50\n",
      "13/13 [==============================] - 0s 6ms/step - loss: -676.3485 - acc: 0.0000e+00 - val_loss: -835.9045 - val_acc: 0.0000e+00\n",
      "Epoch 43/50\n",
      "13/13 [==============================] - 0s 6ms/step - loss: -713.7477 - acc: 0.0000e+00 - val_loss: -883.9037 - val_acc: 0.0000e+00\n",
      "Epoch 44/50\n",
      "13/13 [==============================] - 0s 6ms/step - loss: -752.4366 - acc: 0.0000e+00 - val_loss: -937.4500 - val_acc: 0.0000e+00\n",
      "Epoch 45/50\n",
      "13/13 [==============================] - 0s 6ms/step - loss: -794.7037 - acc: 0.0000e+00 - val_loss: -995.4825 - val_acc: 0.0000e+00\n",
      "Epoch 46/50\n",
      "13/13 [==============================] - 0s 6ms/step - loss: -839.7992 - acc: 0.0000e+00 - val_loss: -1059.4666 - val_acc: 0.0000e+00\n",
      "Epoch 47/50\n",
      "13/13 [==============================] - 0s 6ms/step - loss: -900.2379 - acc: 0.0000e+00 - val_loss: -1132.2520 - val_acc: 0.0000e+00\n",
      "Epoch 48/50\n",
      "13/13 [==============================] - 0s 6ms/step - loss: -959.7670 - acc: 0.0000e+00 - val_loss: -1218.3309 - val_acc: 0.0000e+00\n",
      "Epoch 49/50\n",
      "13/13 [==============================] - 0s 6ms/step - loss: -1028.8199 - acc: 0.0000e+00 - val_loss: -1303.7296 - val_acc: 0.0000e+00\n",
      "Epoch 50/50\n",
      "13/13 [==============================] - 0s 6ms/step - loss: -1096.9994 - acc: 0.0000e+00 - val_loss: -1390.4717 - val_acc: 0.0000e+00\n"
     ]
    }
   ],
   "source": [
    "history = model.fit(train_sequences,\n",
    "                    validation_data = test_sequences,\n",
    "                    epochs = 50)"
   ]
  },
  {
   "cell_type": "code",
   "execution_count": 45,
   "id": "6409bb02-ec44-40bc-b23c-196ebe9cc480",
   "metadata": {},
   "outputs": [
    {
     "data": {
      "image/png": "[encoded data removed]",
      "text/plain": [
       "<Figure size 432x288 with 1 Axes>"
      ]
     },
     "metadata": {
      "needs_background": "light"
     },
     "output_type": "display_data"
    }
   ],
   "source": [
    "plt.plot(history.history['loss'], label = 'Training Loss')\n",
    "plt.plot(history.history['val_loss'], label = 'Test Loss')\n",
    "plt.legend();"
   ]
  },
  {
   "cell_type": "code",
   "execution_count": 50,
   "id": "b0d59942-269c-4dcb-9431-7d356fc6797c",
   "metadata": {},
   "outputs": [],
   "source": []
  },
  {
   "cell_type": "code",
   "execution_count": 8,
   "id": "8823d830-b4d2-41b4-8fe9-b4b2d89a5c8f",
   "metadata": {},
   "outputs": [
    {
     "data": {
      "text/html": [
       "<div>\n",
       "<style scoped>\n",
       "    .dataframe tbody tr th:only-of-type {\n",
       "        vertical-align: middle;\n",
       "    }\n",
       "\n",
       "    .dataframe tbody tr th {\n",
       "        vertical-align: top;\n",
       "    }\n",
       "\n",
       "    .dataframe thead th {\n",
       "        text-align: right;\n",
       "    }\n",
       "</style>\n",
       "<table border=\"1\" class=\"dataframe\">\n",
       "  <thead>\n",
       "    <tr style=\"text-align: right;\">\n",
       "      <th></th>\n",
       "      <th>ValidStart</th>\n",
       "      <th>area_none</th>\n",
       "      <th>area_d0</th>\n",
       "      <th>area_d1</th>\n",
       "      <th>area_d2</th>\n",
       "      <th>area_d3</th>\n",
       "      <th>area_d4</th>\n",
       "      <th>population_none</th>\n",
       "      <th>population_d0</th>\n",
       "      <th>population_d1</th>\n",
       "      <th>population_d2</th>\n",
       "      <th>population_d3</th>\n",
       "      <th>population_d4</th>\n",
       "      <th>DSCI</th>\n",
       "      <th>total_population</th>\n",
       "      <th>total_area</th>\n",
       "      <th>Region</th>\n",
       "    </tr>\n",
       "    <tr>\n",
       "      <th>ValidStart</th>\n",
       "      <th></th>\n",
       "      <th></th>\n",
       "      <th></th>\n",
       "      <th></th>\n",
       "      <th></th>\n",
       "      <th></th>\n",
       "      <th></th>\n",
       "      <th></th>\n",
       "      <th></th>\n",
       "      <th></th>\n",
       "      <th></th>\n",
       "      <th></th>\n",
       "      <th></th>\n",
       "      <th></th>\n",
       "      <th></th>\n",
       "      <th></th>\n",
       "      <th></th>\n",
       "    </tr>\n",
       "  </thead>\n",
       "  <tbody>\n",
       "    <tr>\n",
       "      <th>2000-12-26</th>\n",
       "      <td>2000-12-26</td>\n",
       "      <td>1434812.58</td>\n",
       "      <td>101825.23</td>\n",
       "      <td>7758.44</td>\n",
       "      <td>0.00</td>\n",
       "      <td>0.0</td>\n",
       "      <td>0.0</td>\n",
       "      <td>68357640.86</td>\n",
       "      <td>899817.04</td>\n",
       "      <td>130497.41</td>\n",
       "      <td>0.00</td>\n",
       "      <td>0.0</td>\n",
       "      <td>0.0</td>\n",
       "      <td>270.909091</td>\n",
       "      <td>69387955.31</td>\n",
       "      <td>1544396.25</td>\n",
       "      <td>west</td>\n",
       "    </tr>\n",
       "    <tr>\n",
       "      <th>2001-01-02</th>\n",
       "      <td>2001-01-02</td>\n",
       "      <td>1385883.61</td>\n",
       "      <td>150754.21</td>\n",
       "      <td>7758.44</td>\n",
       "      <td>0.00</td>\n",
       "      <td>0.0</td>\n",
       "      <td>0.0</td>\n",
       "      <td>47544376.73</td>\n",
       "      <td>21713081.18</td>\n",
       "      <td>130497.41</td>\n",
       "      <td>0.00</td>\n",
       "      <td>0.0</td>\n",
       "      <td>0.0</td>\n",
       "      <td>270.727273</td>\n",
       "      <td>69387955.32</td>\n",
       "      <td>1544396.26</td>\n",
       "      <td>west</td>\n",
       "    </tr>\n",
       "    <tr>\n",
       "      <th>2001-01-09</th>\n",
       "      <td>2001-01-09</td>\n",
       "      <td>1335052.37</td>\n",
       "      <td>201462.03</td>\n",
       "      <td>7631.41</td>\n",
       "      <td>250.43</td>\n",
       "      <td>0.0</td>\n",
       "      <td>0.0</td>\n",
       "      <td>43966433.52</td>\n",
       "      <td>25275881.78</td>\n",
       "      <td>113027.16</td>\n",
       "      <td>32612.88</td>\n",
       "      <td>0.0</td>\n",
       "      <td>0.0</td>\n",
       "      <td>265.454545</td>\n",
       "      <td>69387955.34</td>\n",
       "      <td>1544396.24</td>\n",
       "      <td>west</td>\n",
       "    </tr>\n",
       "    <tr>\n",
       "      <th>2001-01-16</th>\n",
       "      <td>2001-01-16</td>\n",
       "      <td>1393073.96</td>\n",
       "      <td>139449.02</td>\n",
       "      <td>11622.83</td>\n",
       "      <td>250.43</td>\n",
       "      <td>0.0</td>\n",
       "      <td>0.0</td>\n",
       "      <td>63959056.64</td>\n",
       "      <td>5098179.64</td>\n",
       "      <td>298106.16</td>\n",
       "      <td>32612.88</td>\n",
       "      <td>0.0</td>\n",
       "      <td>0.0</td>\n",
       "      <td>262.090909</td>\n",
       "      <td>69387955.32</td>\n",
       "      <td>1544396.24</td>\n",
       "      <td>west</td>\n",
       "    </tr>\n",
       "    <tr>\n",
       "      <th>2001-01-23</th>\n",
       "      <td>2001-01-23</td>\n",
       "      <td>1212072.00</td>\n",
       "      <td>319908.04</td>\n",
       "      <td>12165.78</td>\n",
       "      <td>250.43</td>\n",
       "      <td>0.0</td>\n",
       "      <td>0.0</td>\n",
       "      <td>55062839.85</td>\n",
       "      <td>13926646.57</td>\n",
       "      <td>365856.02</td>\n",
       "      <td>32612.88</td>\n",
       "      <td>0.0</td>\n",
       "      <td>0.0</td>\n",
       "      <td>259.363636</td>\n",
       "      <td>69387955.32</td>\n",
       "      <td>1544396.25</td>\n",
       "      <td>west</td>\n",
       "    </tr>\n",
       "  </tbody>\n",
       "</table>\n",
       "</div>"
      ],
      "text/plain": [
       "            ValidStart   area_none  ...  total_area  Region\n",
       "ValidStart                          ...                    \n",
       "2000-12-26  2000-12-26  1434812.58  ...  1544396.25    west\n",
       "2001-01-02  2001-01-02  1385883.61  ...  1544396.26    west\n",
       "2001-01-09  2001-01-09  1335052.37  ...  1544396.24    west\n",
       "2001-01-16  2001-01-16  1393073.96  ...  1544396.24    west\n",
       "2001-01-23  2001-01-23  1212072.00  ...  1544396.25    west\n",
       "\n",
       "[5 rows x 17 columns]"
      ]
     },
     "execution_count": 8,
     "metadata": {},
     "output_type": "execute_result"
    }
   ],
   "source": [
    "west.head()"
   ]
  },
  {
   "cell_type": "code",
   "execution_count": 10,
   "id": "cd27e187-ec3c-444b-97c3-bbe1244b2d19",
   "metadata": {},
   "outputs": [],
   "source": [
    "from sklearn.linear_model import LinearRegression\n",
    "from statsmodels.graphics.tsaplots import plot_acf, plot_pacf\n",
    "from statsmodels.tsa import api as smt\n",
    "from statsmodels.tsa.seasonal import seasonal_decompose\n",
    "from statsmodels.tsa.stattools import adfuller"
   ]
  },
  {
   "cell_type": "code",
   "execution_count": 24,
   "id": "85684ce4-2d61-460c-8899-f5b9382f1862",
   "metadata": {},
   "outputs": [
    {
     "data": {
      "image/png": "[encoded data removed]",
      "text/plain": [
       "<Figure size 2400x800 with 1 Axes>"
      ]
     },
     "metadata": {},
     "output_type": "display_data"
    }
   ],
   "source": [
    "plt.figure(num=None, figsize=(30, 10), dpi=80, facecolor='w', edgecolor='k')\n",
    "plt.title('drought', fontsize=30)\n",
    "\n",
    "plt.plot(west.DSCI);"
   ]
  },
  {
   "cell_type": "code",
   "execution_count": null,
   "id": "cd1a61ac-6ae1-43d2-bf69-9f51e0743003",
   "metadata": {},
   "outputs": [],
   "source": []
  },
  {
   "cell_type": "code",
   "execution_count": 15,
   "id": "086be7d5-0a41-4194-a92e-a0559361eb27",
   "metadata": {},
   "outputs": [],
   "source": [
    "from statsmodels.tsa.statespace.sarimax import SARIMAX"
   ]
  },
  {
   "cell_type": "code",
   "execution_count": 16,
   "id": "7ad7fbd9-861f-465d-9c31-a22c6057408b",
   "metadata": {},
   "outputs": [],
   "source": [
    "y = west['DSCI']"
   ]
  },
  {
   "cell_type": "code",
   "execution_count": 17,
   "id": "0557a9a5-1ec4-4a7f-8396-58ca3e53397c",
   "metadata": {},
   "outputs": [
    {
     "name": "stderr",
     "output_type": "stream",
     "text": [
      "/opt/anaconda3/lib/python3.8/site-packages/statsmodels/tsa/base/tsa_model.py:524: ValueWarning: No frequency information was provided, so inferred frequency W-TUE will be used.\n",
      "  warnings.warn('No frequency information was'\n"
     ]
    }
   ],
   "source": [
    "ARMAmodel = SARIMAX(y, order = (1, 0, 1))\n"
   ]
  },
  {
   "cell_type": "code",
   "execution_count": 18,
   "id": "7eeb701a-cf9a-4689-b7d6-036919c6780f",
   "metadata": {},
   "outputs": [],
   "source": [
    "ARMAmodel = ARMAmodel.fit()\n"
   ]
  },
  {
   "cell_type": "code",
   "execution_count": 19,
   "id": "ab62655d-cdb0-4b4f-bef4-ec0b0151a532",
   "metadata": {},
   "outputs": [],
   "source": [
    "y_pred = ARMAmodel.get_forecast(len(west.index))\n",
    "y_pred_df = y_pred.conf_int(alpha = 0.05) \n",
    "y_pred_df[\"Predictions\"] = ARMAmodel.predict(start = y_pred_df.index[0], end = y_pred_df.index[-1])\n",
    "y_pred_df.index = west.index\n",
    "y_pred_out = y_pred_df[\"Predictions\"] "
   ]
  },
  {
   "cell_type": "code",
   "execution_count": 20,
   "id": "7effa51c-7f84-4795-a4cd-8a408363d2ab",
   "metadata": {},
   "outputs": [
    {
     "data": {
      "text/plain": [
       "<matplotlib.legend.Legend at 0x7fcbe32a9f40>"
      ]
     },
     "execution_count": 20,
     "metadata": {},
     "output_type": "execute_result"
    },
    {
     "data": {
      "image/png": "[encoded data removed]",
      "text/plain": [
       "<Figure size 432x288 with 1 Axes>"
      ]
     },
     "metadata": {
      "needs_background": "light"
     },
     "output_type": "display_data"
    }
   ],
   "source": [
    "plt.plot(y_pred_out, color='green', label = 'Predictions')\n",
    "plt.legend()"
   ]
  },
  {
   "cell_type": "code",
   "execution_count": 22,
   "id": "1b54f5c6-a836-4aef-b72d-805837463a8b",
   "metadata": {},
   "outputs": [
    {
     "name": "stdout",
     "output_type": "stream",
     "text": [
      "RMSE:  144.7916505142193\n"
     ]
    }
   ],
   "source": [
    "import numpy as np\n",
    "from sklearn.metrics import mean_squared_error\n",
    "\n",
    "arma_rmse = np.sqrt(mean_squared_error(west[\"DSCI\"].values, y_pred_df[\"Predictions\"]))\n",
    "print(\"RMSE: \",arma_rmse)"
   ]
  },
  {
   "cell_type": "code",
   "execution_count": null,
   "id": "7df985f2-6717-4cb6-a034-f06e2cef259f",
   "metadata": {},
   "outputs": [],
   "source": []
  }
 ],
 "metadata": {
  "kernelspec": {
   "display_name": "Python 3",
   "language": "python",
   "name": "python3"
  },
  "language_info": {
   "codemirror_mode": {
    "name": "ipython",
    "version": 3
   },
   "file_extension": ".py",
   "mimetype": "text/x-python",
   "name": "python",
   "nbconvert_exporter": "python",
   "pygments_lexer": "ipython3",
   "version": "3.8.2"
  }
 },
 "nbformat": 4,
 "nbformat_minor": 5
}
