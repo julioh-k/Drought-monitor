{
 "cells": [
  {
   "cell_type": "code",
   "execution_count": 2,
   "metadata": {},
   "outputs": [],
   "source": [
    "#imports\n",
    "import pandas as pd\n",
    "import tensorflow as tf\n",
    "import os\n",
    "import numpy as np\n",
    "import matplotlib.pyplot as plt\n",
    "import time\n",
    "from sklearn.preprocessing import StandardScaler"
   ]
  },
  {
   "cell_type": "code",
   "execution_count": 3,
   "metadata": {},
   "outputs": [],
   "source": [
    "#read in data\n",
    "drought = pd.read_csv('../data/final2_merged_drought_temp.csv')"
   ]
  },
  {
   "cell_type": "markdown",
   "metadata": {},
   "source": [
    "#### David's Code"
   ]
  },
  {
   "cell_type": "code",
   "execution_count": 4,
   "metadata": {},
   "outputs": [],
   "source": [
    "drought['climate_regions']=drought['Name']"
   ]
  },
  {
   "cell_type": "code",
   "execution_count": 5,
   "metadata": {},
   "outputs": [],
   "source": [
    "oh='Ohio Valley'\n",
    "ohio_valley=dict.fromkeys(['Illinois','Indiana','Kentucky','Missouri',\n",
    "             'Ohio','Tennessee','West Virginia'],oh)\n",
    "#https://stackoverflow.com/questions/11977730/creating-a-dictionary-with-same-values"
   ]
  },
  {
   "cell_type": "code",
   "execution_count": 6,
   "metadata": {},
   "outputs": [],
   "source": [
    "oh_list=['Illinois','Indiana','Kentucky','Missouri',\n",
    "             'Ohio','Tennessee','West Virginia']"
   ]
  },
  {
   "cell_type": "code",
   "execution_count": 7,
   "metadata": {},
   "outputs": [],
   "source": [
    "def state_region_dict(list_states,string_region):\n",
    "    return dict.fromkeys(list_states,string_region)\n",
    "#function to combine states and region into dictionary\n"
   ]
  },
  {
   "cell_type": "code",
   "execution_count": 8,
   "metadata": {},
   "outputs": [],
   "source": [
    "um_list=['Iowa', 'Michigan', 'Minnesota', 'Wisconsin']\n",
    "um_region='Upper Midwest'\n",
    "upper_midwest=state_region_dict(um_list,um_region)\n"
   ]
  },
  {
   "cell_type": "code",
   "execution_count": 9,
   "metadata": {},
   "outputs": [],
   "source": [
    "ne_list=['Connecticut','Delaware','Maine','Maryland','Massachusetts', 'New Hampshire', 'New Jersey',\n",
    "        'New York', 'Pennsylvania','Rhode Island','Vermont']\n",
    "ne_region='Northeast'\n",
    "north_east=state_region_dict(ne_list,ne_region)"
   ]
  },
  {
   "cell_type": "code",
   "execution_count": 10,
   "metadata": {},
   "outputs": [],
   "source": [
    "nw_list=['Idaho','Oregon','Washington']\n",
    "nw_region='Northwest'\n",
    "north_west=state_region_dict(nw_list,nw_region)\n",
    "\n",
    "s_list=['Arkansas','Kansas','Louisiana','Mississippi','Oklahoma','Texas']\n",
    "s_region='South'\n",
    "south=state_region_dict(s_list,s_region)\n",
    "\n",
    "se_list=['Alabama','Florida','Georgia','North Carolina','South Carolina','Virginia']\n",
    "se_region='Southeast'\n",
    "south_east=state_region_dict(se_list,se_region)\n",
    "\n",
    "sw_list=['Arizona','Colorado','New Mexico','Utah']\n",
    "sw_region='Southwest'\n",
    "south_west=state_region_dict(sw_list,sw_region)\n",
    "\n",
    "w_list=['California','Nevada']\n",
    "w_region='West'\n",
    "west=state_region_dict(w_list,w_region)\n",
    "\n",
    "wnc_list=['Montana','Nebraska','North Dakota','South Dakota','Wyoming']\n",
    "wnc_region='Northern Rockies and Plains'\n",
    "northern_rockies=state_region_dict(wnc_list,wnc_region)"
   ]
  },
  {
   "cell_type": "code",
   "execution_count": 11,
   "metadata": {},
   "outputs": [],
   "source": [
    "final_dict={**ohio_valley,**upper_midwest,**north_east,**north_west,**south,\n",
    "            **south_east,**south_west,**west,**northern_rockies}\n",
    "#combine multiple dictionaries into one\n",
    "#https://towardsdatascience.com/merge-dictionaries-in-python-d4e9ce137374"
   ]
  },
  {
   "cell_type": "code",
   "execution_count": 12,
   "metadata": {},
   "outputs": [],
   "source": [
    "drought['climate_regions']=drought['Name']"
   ]
  },
  {
   "cell_type": "code",
   "execution_count": 13,
   "metadata": {},
   "outputs": [],
   "source": [
    "#Replaced initial values with dictionary region values\n",
    "drought.replace({'climate_regions':final_dict},inplace=True)\n",
    "#https://sparkbyexamples.com/pandas/pandas-remap-values-in-column-with-a-dictionary-dict/"
   ]
  },
  {
   "cell_type": "code",
   "execution_count": 14,
   "metadata": {},
   "outputs": [],
   "source": [
    "drought['ValidEnd'] = pd.to_datetime(drought['ValidEnd'])"
   ]
  },
  {
   "cell_type": "code",
   "execution_count": 15,
   "metadata": {},
   "outputs": [],
   "source": [
    "drought = drought[drought['ValidEnd']<'2021-01-01']"
   ]
  },
  {
   "cell_type": "code",
   "execution_count": 16,
   "metadata": {},
   "outputs": [],
   "source": [
    "ohio_valley = drought[drought['climate_regions'] == 'Ohio Valley']"
   ]
  },
  {
   "cell_type": "code",
   "execution_count": 17,
   "metadata": {},
   "outputs": [],
   "source": [
    "west = drought[drought['climate_regions'] == 'West']"
   ]
  },
  {
   "cell_type": "code",
   "execution_count": 18,
   "metadata": {},
   "outputs": [],
   "source": [
    "up_mid = drought[drought['climate_regions'] == 'Upper Midwest']"
   ]
  },
  {
   "cell_type": "code",
   "execution_count": 19,
   "metadata": {},
   "outputs": [],
   "source": [
    "nrp = drought[drought['climate_regions'] == 'Northern Rockies and Plains']"
   ]
  },
  {
   "cell_type": "code",
   "execution_count": 20,
   "metadata": {},
   "outputs": [],
   "source": [
    "ne = drought[drought['climate_regions'] == 'Northeast']"
   ]
  },
  {
   "cell_type": "code",
   "execution_count": 21,
   "metadata": {},
   "outputs": [],
   "source": [
    "nw = drought[drought['climate_regions'] == 'Northwest']"
   ]
  },
  {
   "cell_type": "code",
   "execution_count": 22,
   "metadata": {},
   "outputs": [],
   "source": [
    "south = drought[drought['climate_regions'] == 'South']"
   ]
  },
  {
   "cell_type": "code",
   "execution_count": 23,
   "metadata": {},
   "outputs": [],
   "source": [
    "sw = drought[drought['climate_regions'] == 'Southwest']"
   ]
  },
  {
   "cell_type": "code",
   "execution_count": 24,
   "metadata": {},
   "outputs": [],
   "source": [
    "se = sw = drought[drought['climate_regions'] == 'Southeast']"
   ]
  },
  {
   "cell_type": "code",
   "execution_count": 25,
   "metadata": {},
   "outputs": [
    {
     "data": {
      "text/html": [
       "<div>\n",
       "<style scoped>\n",
       "    .dataframe tbody tr th:only-of-type {\n",
       "        vertical-align: middle;\n",
       "    }\n",
       "\n",
       "    .dataframe tbody tr th {\n",
       "        vertical-align: top;\n",
       "    }\n",
       "\n",
       "    .dataframe thead th {\n",
       "        text-align: right;\n",
       "    }\n",
       "</style>\n",
       "<table border=\"1\" class=\"dataframe\">\n",
       "  <thead>\n",
       "    <tr style=\"text-align: right;\">\n",
       "      <th></th>\n",
       "      <th>ValidEnd</th>\n",
       "      <th>Name</th>\n",
       "      <th>state</th>\n",
       "      <th>area_none</th>\n",
       "      <th>area_d0</th>\n",
       "      <th>area_d1</th>\n",
       "      <th>area_d2</th>\n",
       "      <th>area_d3</th>\n",
       "      <th>area_d4</th>\n",
       "      <th>population_none</th>\n",
       "      <th>...</th>\n",
       "      <th>population_d4</th>\n",
       "      <th>DSCI</th>\n",
       "      <th>total_area</th>\n",
       "      <th>total_population</th>\n",
       "      <th>climate_regions</th>\n",
       "      <th>avg_tmax</th>\n",
       "      <th>avg_tmin</th>\n",
       "      <th>total_avg_prcp_inches</th>\n",
       "      <th>temp_id</th>\n",
       "      <th>total_avg_prcp_mm</th>\n",
       "    </tr>\n",
       "  </thead>\n",
       "  <tbody>\n",
       "    <tr>\n",
       "      <th>10451</th>\n",
       "      <td>2020-12-28</td>\n",
       "      <td>Illinois</td>\n",
       "      <td>IL</td>\n",
       "      <td>33454.57</td>\n",
       "      <td>15550.66</td>\n",
       "      <td>6236.48</td>\n",
       "      <td>1140.83</td>\n",
       "      <td>0.0</td>\n",
       "      <td>0.0</td>\n",
       "      <td>8875219.25</td>\n",
       "      <td>...</td>\n",
       "      <td>0.0</td>\n",
       "      <td>56</td>\n",
       "      <td>56382.54</td>\n",
       "      <td>12847389.79</td>\n",
       "      <td>Ohio Valley</td>\n",
       "      <td>38.465714</td>\n",
       "      <td>17.117143</td>\n",
       "      <td>0.108000</td>\n",
       "      <td>119</td>\n",
       "      <td>2.743200</td>\n",
       "    </tr>\n",
       "    <tr>\n",
       "      <th>10452</th>\n",
       "      <td>2020-12-21</td>\n",
       "      <td>Illinois</td>\n",
       "      <td>IL</td>\n",
       "      <td>33454.57</td>\n",
       "      <td>15550.66</td>\n",
       "      <td>6236.48</td>\n",
       "      <td>1140.83</td>\n",
       "      <td>0.0</td>\n",
       "      <td>0.0</td>\n",
       "      <td>8875219.25</td>\n",
       "      <td>...</td>\n",
       "      <td>0.0</td>\n",
       "      <td>56</td>\n",
       "      <td>56382.54</td>\n",
       "      <td>12847389.79</td>\n",
       "      <td>Ohio Valley</td>\n",
       "      <td>39.528571</td>\n",
       "      <td>26.411429</td>\n",
       "      <td>0.006000</td>\n",
       "      <td>119</td>\n",
       "      <td>0.152400</td>\n",
       "    </tr>\n",
       "    <tr>\n",
       "      <th>10453</th>\n",
       "      <td>2020-12-14</td>\n",
       "      <td>Illinois</td>\n",
       "      <td>IL</td>\n",
       "      <td>32814.14</td>\n",
       "      <td>16191.10</td>\n",
       "      <td>6236.48</td>\n",
       "      <td>1140.83</td>\n",
       "      <td>0.0</td>\n",
       "      <td>0.0</td>\n",
       "      <td>8839298.46</td>\n",
       "      <td>...</td>\n",
       "      <td>0.0</td>\n",
       "      <td>57</td>\n",
       "      <td>56382.55</td>\n",
       "      <td>12847389.79</td>\n",
       "      <td>Ohio Valley</td>\n",
       "      <td>44.220000</td>\n",
       "      <td>29.057143</td>\n",
       "      <td>1.026000</td>\n",
       "      <td>119</td>\n",
       "      <td>26.060400</td>\n",
       "    </tr>\n",
       "    <tr>\n",
       "      <th>10454</th>\n",
       "      <td>2020-12-07</td>\n",
       "      <td>Illinois</td>\n",
       "      <td>IL</td>\n",
       "      <td>32794.13</td>\n",
       "      <td>18023.24</td>\n",
       "      <td>4619.65</td>\n",
       "      <td>945.53</td>\n",
       "      <td>0.0</td>\n",
       "      <td>0.0</td>\n",
       "      <td>8650968.46</td>\n",
       "      <td>...</td>\n",
       "      <td>0.0</td>\n",
       "      <td>53</td>\n",
       "      <td>56382.55</td>\n",
       "      <td>12847389.80</td>\n",
       "      <td>Ohio Valley</td>\n",
       "      <td>43.485714</td>\n",
       "      <td>24.954286</td>\n",
       "      <td>0.000000</td>\n",
       "      <td>119</td>\n",
       "      <td>0.000000</td>\n",
       "    </tr>\n",
       "    <tr>\n",
       "      <th>10455</th>\n",
       "      <td>2020-11-30</td>\n",
       "      <td>Illinois</td>\n",
       "      <td>IL</td>\n",
       "      <td>28067.62</td>\n",
       "      <td>21244.44</td>\n",
       "      <td>6124.95</td>\n",
       "      <td>945.53</td>\n",
       "      <td>0.0</td>\n",
       "      <td>0.0</td>\n",
       "      <td>8375517.01</td>\n",
       "      <td>...</td>\n",
       "      <td>0.0</td>\n",
       "      <td>64</td>\n",
       "      <td>56382.54</td>\n",
       "      <td>12847389.80</td>\n",
       "      <td>Ohio Valley</td>\n",
       "      <td>46.328571</td>\n",
       "      <td>32.782857</td>\n",
       "      <td>1.082000</td>\n",
       "      <td>119</td>\n",
       "      <td>27.482800</td>\n",
       "    </tr>\n",
       "    <tr>\n",
       "      <th>...</th>\n",
       "      <td>...</td>\n",
       "      <td>...</td>\n",
       "      <td>...</td>\n",
       "      <td>...</td>\n",
       "      <td>...</td>\n",
       "      <td>...</td>\n",
       "      <td>...</td>\n",
       "      <td>...</td>\n",
       "      <td>...</td>\n",
       "      <td>...</td>\n",
       "      <td>...</td>\n",
       "      <td>...</td>\n",
       "      <td>...</td>\n",
       "      <td>...</td>\n",
       "      <td>...</td>\n",
       "      <td>...</td>\n",
       "      <td>...</td>\n",
       "      <td>...</td>\n",
       "      <td>...</td>\n",
       "      <td>...</td>\n",
       "      <td>...</td>\n",
       "    </tr>\n",
       "    <tr>\n",
       "      <th>45975</th>\n",
       "      <td>2001-01-29</td>\n",
       "      <td>West Virginia</td>\n",
       "      <td>WV</td>\n",
       "      <td>3547.74</td>\n",
       "      <td>19253.58</td>\n",
       "      <td>1403.34</td>\n",
       "      <td>0.00</td>\n",
       "      <td>0.0</td>\n",
       "      <td>0.0</td>\n",
       "      <td>261876.40</td>\n",
       "      <td>...</td>\n",
       "      <td>0.0</td>\n",
       "      <td>91</td>\n",
       "      <td>24204.66</td>\n",
       "      <td>1852994.01</td>\n",
       "      <td>Ohio Valley</td>\n",
       "      <td>40.380952</td>\n",
       "      <td>19.880952</td>\n",
       "      <td>0.223333</td>\n",
       "      <td>77</td>\n",
       "      <td>5.672667</td>\n",
       "    </tr>\n",
       "    <tr>\n",
       "      <th>45976</th>\n",
       "      <td>2001-01-22</td>\n",
       "      <td>West Virginia</td>\n",
       "      <td>WV</td>\n",
       "      <td>5496.60</td>\n",
       "      <td>14287.99</td>\n",
       "      <td>3143.43</td>\n",
       "      <td>1276.64</td>\n",
       "      <td>0.0</td>\n",
       "      <td>0.0</td>\n",
       "      <td>443651.89</td>\n",
       "      <td>...</td>\n",
       "      <td>0.0</td>\n",
       "      <td>101</td>\n",
       "      <td>24204.66</td>\n",
       "      <td>1852994.00</td>\n",
       "      <td>Ohio Valley</td>\n",
       "      <td>35.142857</td>\n",
       "      <td>23.095238</td>\n",
       "      <td>1.165000</td>\n",
       "      <td>77</td>\n",
       "      <td>29.591000</td>\n",
       "    </tr>\n",
       "    <tr>\n",
       "      <th>45977</th>\n",
       "      <td>2001-01-15</td>\n",
       "      <td>West Virginia</td>\n",
       "      <td>WV</td>\n",
       "      <td>7763.39</td>\n",
       "      <td>12021.20</td>\n",
       "      <td>3143.44</td>\n",
       "      <td>1276.64</td>\n",
       "      <td>0.0</td>\n",
       "      <td>0.0</td>\n",
       "      <td>664684.83</td>\n",
       "      <td>...</td>\n",
       "      <td>0.0</td>\n",
       "      <td>91</td>\n",
       "      <td>24204.67</td>\n",
       "      <td>1852994.00</td>\n",
       "      <td>Ohio Valley</td>\n",
       "      <td>43.904762</td>\n",
       "      <td>24.714286</td>\n",
       "      <td>0.008333</td>\n",
       "      <td>77</td>\n",
       "      <td>0.211667</td>\n",
       "    </tr>\n",
       "    <tr>\n",
       "      <th>45978</th>\n",
       "      <td>2001-01-08</td>\n",
       "      <td>West Virginia</td>\n",
       "      <td>WV</td>\n",
       "      <td>7763.16</td>\n",
       "      <td>12391.29</td>\n",
       "      <td>3670.41</td>\n",
       "      <td>379.81</td>\n",
       "      <td>0.0</td>\n",
       "      <td>0.0</td>\n",
       "      <td>664647.42</td>\n",
       "      <td>...</td>\n",
       "      <td>0.0</td>\n",
       "      <td>86</td>\n",
       "      <td>24204.67</td>\n",
       "      <td>1852993.99</td>\n",
       "      <td>Ohio Valley</td>\n",
       "      <td>33.119048</td>\n",
       "      <td>21.452381</td>\n",
       "      <td>0.055000</td>\n",
       "      <td>77</td>\n",
       "      <td>1.397000</td>\n",
       "    </tr>\n",
       "    <tr>\n",
       "      <th>45979</th>\n",
       "      <td>2001-01-01</td>\n",
       "      <td>West Virginia</td>\n",
       "      <td>WV</td>\n",
       "      <td>7763.16</td>\n",
       "      <td>12391.31</td>\n",
       "      <td>3670.42</td>\n",
       "      <td>379.79</td>\n",
       "      <td>0.0</td>\n",
       "      <td>0.0</td>\n",
       "      <td>664647.42</td>\n",
       "      <td>...</td>\n",
       "      <td>0.0</td>\n",
       "      <td>86</td>\n",
       "      <td>24204.68</td>\n",
       "      <td>1852994.00</td>\n",
       "      <td>Ohio Valley</td>\n",
       "      <td>24.000000</td>\n",
       "      <td>18.333333</td>\n",
       "      <td>0.000000</td>\n",
       "      <td>West Virginia</td>\n",
       "      <td>0.000000</td>\n",
       "    </tr>\n",
       "  </tbody>\n",
       "</table>\n",
       "<p>7308 rows × 24 columns</p>\n",
       "</div>"
      ],
      "text/plain": [
       "        ValidEnd           Name state  area_none   area_d0  area_d1  area_d2  \\\n",
       "10451 2020-12-28       Illinois    IL   33454.57  15550.66  6236.48  1140.83   \n",
       "10452 2020-12-21       Illinois    IL   33454.57  15550.66  6236.48  1140.83   \n",
       "10453 2020-12-14       Illinois    IL   32814.14  16191.10  6236.48  1140.83   \n",
       "10454 2020-12-07       Illinois    IL   32794.13  18023.24  4619.65   945.53   \n",
       "10455 2020-11-30       Illinois    IL   28067.62  21244.44  6124.95   945.53   \n",
       "...          ...            ...   ...        ...       ...      ...      ...   \n",
       "45975 2001-01-29  West Virginia    WV    3547.74  19253.58  1403.34     0.00   \n",
       "45976 2001-01-22  West Virginia    WV    5496.60  14287.99  3143.43  1276.64   \n",
       "45977 2001-01-15  West Virginia    WV    7763.39  12021.20  3143.44  1276.64   \n",
       "45978 2001-01-08  West Virginia    WV    7763.16  12391.29  3670.41   379.81   \n",
       "45979 2001-01-01  West Virginia    WV    7763.16  12391.31  3670.42   379.79   \n",
       "\n",
       "       area_d3  area_d4  population_none  ...  population_d4  DSCI  \\\n",
       "10451      0.0      0.0       8875219.25  ...            0.0    56   \n",
       "10452      0.0      0.0       8875219.25  ...            0.0    56   \n",
       "10453      0.0      0.0       8839298.46  ...            0.0    57   \n",
       "10454      0.0      0.0       8650968.46  ...            0.0    53   \n",
       "10455      0.0      0.0       8375517.01  ...            0.0    64   \n",
       "...        ...      ...              ...  ...            ...   ...   \n",
       "45975      0.0      0.0        261876.40  ...            0.0    91   \n",
       "45976      0.0      0.0        443651.89  ...            0.0   101   \n",
       "45977      0.0      0.0        664684.83  ...            0.0    91   \n",
       "45978      0.0      0.0        664647.42  ...            0.0    86   \n",
       "45979      0.0      0.0        664647.42  ...            0.0    86   \n",
       "\n",
       "       total_area  total_population  climate_regions   avg_tmax   avg_tmin  \\\n",
       "10451    56382.54       12847389.79      Ohio Valley  38.465714  17.117143   \n",
       "10452    56382.54       12847389.79      Ohio Valley  39.528571  26.411429   \n",
       "10453    56382.55       12847389.79      Ohio Valley  44.220000  29.057143   \n",
       "10454    56382.55       12847389.80      Ohio Valley  43.485714  24.954286   \n",
       "10455    56382.54       12847389.80      Ohio Valley  46.328571  32.782857   \n",
       "...           ...               ...              ...        ...        ...   \n",
       "45975    24204.66        1852994.01      Ohio Valley  40.380952  19.880952   \n",
       "45976    24204.66        1852994.00      Ohio Valley  35.142857  23.095238   \n",
       "45977    24204.67        1852994.00      Ohio Valley  43.904762  24.714286   \n",
       "45978    24204.67        1852993.99      Ohio Valley  33.119048  21.452381   \n",
       "45979    24204.68        1852994.00      Ohio Valley  24.000000  18.333333   \n",
       "\n",
       "       total_avg_prcp_inches        temp_id  total_avg_prcp_mm  \n",
       "10451               0.108000            119           2.743200  \n",
       "10452               0.006000            119           0.152400  \n",
       "10453               1.026000            119          26.060400  \n",
       "10454               0.000000            119           0.000000  \n",
       "10455               1.082000            119          27.482800  \n",
       "...                      ...            ...                ...  \n",
       "45975               0.223333             77           5.672667  \n",
       "45976               1.165000             77          29.591000  \n",
       "45977               0.008333             77           0.211667  \n",
       "45978               0.055000             77           1.397000  \n",
       "45979               0.000000  West Virginia           0.000000  \n",
       "\n",
       "[7308 rows x 24 columns]"
      ]
     },
     "execution_count": 25,
     "metadata": {},
     "output_type": "execute_result"
    }
   ],
   "source": [
    "ohio_valley"
   ]
  },
  {
   "cell_type": "markdown",
   "metadata": {},
   "source": [
    "#### Julio's Code"
   ]
  },
  {
   "cell_type": "code",
   "execution_count": 26,
   "metadata": {},
   "outputs": [],
   "source": [
    "#julio's code\n",
    "west=west.groupby('ValidEnd').agg({'area_none':'sum','area_d0':'sum','area_d1':'sum','area_d2':'sum','area_d3':'sum','area_d4':'sum',\n",
    "                                                  'population_none':'sum','population_d0':'sum','population_d1':'sum','population_d2':'sum','population_d3':'sum',\n",
    "                                                  'population_d4':'sum','DSCI':'mean','total_population':'sum','total_area':'sum', 'avg_tmax': 'mean', 'avg_tmin': 'mean', 'total_avg_prcp_inches':'sum', 'total_avg_prcp_mm': 'sum'})"
   ]
  },
  {
   "cell_type": "code",
   "execution_count": 27,
   "metadata": {},
   "outputs": [
    {
     "data": {
      "text/html": [
       "<div>\n",
       "<style scoped>\n",
       "    .dataframe tbody tr th:only-of-type {\n",
       "        vertical-align: middle;\n",
       "    }\n",
       "\n",
       "    .dataframe tbody tr th {\n",
       "        vertical-align: top;\n",
       "    }\n",
       "\n",
       "    .dataframe thead th {\n",
       "        text-align: right;\n",
       "    }\n",
       "</style>\n",
       "<table border=\"1\" class=\"dataframe\">\n",
       "  <thead>\n",
       "    <tr style=\"text-align: right;\">\n",
       "      <th></th>\n",
       "      <th>area_none</th>\n",
       "      <th>area_d0</th>\n",
       "      <th>area_d1</th>\n",
       "      <th>area_d2</th>\n",
       "      <th>area_d3</th>\n",
       "      <th>area_d4</th>\n",
       "      <th>population_none</th>\n",
       "      <th>population_d0</th>\n",
       "      <th>population_d1</th>\n",
       "      <th>population_d2</th>\n",
       "      <th>population_d3</th>\n",
       "      <th>population_d4</th>\n",
       "      <th>DSCI</th>\n",
       "      <th>total_population</th>\n",
       "      <th>total_area</th>\n",
       "      <th>avg_tmax</th>\n",
       "      <th>avg_tmin</th>\n",
       "      <th>total_avg_prcp_inches</th>\n",
       "      <th>total_avg_prcp_mm</th>\n",
       "    </tr>\n",
       "    <tr>\n",
       "      <th>ValidEnd</th>\n",
       "      <th></th>\n",
       "      <th></th>\n",
       "      <th></th>\n",
       "      <th></th>\n",
       "      <th></th>\n",
       "      <th></th>\n",
       "      <th></th>\n",
       "      <th></th>\n",
       "      <th></th>\n",
       "      <th></th>\n",
       "      <th></th>\n",
       "      <th></th>\n",
       "      <th></th>\n",
       "      <th></th>\n",
       "      <th></th>\n",
       "      <th></th>\n",
       "      <th></th>\n",
       "      <th></th>\n",
       "      <th></th>\n",
       "    </tr>\n",
       "  </thead>\n",
       "  <tbody>\n",
       "    <tr>\n",
       "      <th>2001-01-01</th>\n",
       "      <td>268682.71</td>\n",
       "      <td>0.00</td>\n",
       "      <td>0.00</td>\n",
       "      <td>0.00</td>\n",
       "      <td>0.00</td>\n",
       "      <td>0.00</td>\n",
       "      <td>39954507.39</td>\n",
       "      <td>0.00</td>\n",
       "      <td>0.00</td>\n",
       "      <td>0.00</td>\n",
       "      <td>0.00</td>\n",
       "      <td>0.00</td>\n",
       "      <td>0.0</td>\n",
       "      <td>39954507.39</td>\n",
       "      <td>268682.71</td>\n",
       "      <td>55.340909</td>\n",
       "      <td>25.125000</td>\n",
       "      <td>0.000000</td>\n",
       "      <td>0.000000</td>\n",
       "    </tr>\n",
       "    <tr>\n",
       "      <th>2001-01-08</th>\n",
       "      <td>219867.53</td>\n",
       "      <td>48815.18</td>\n",
       "      <td>0.00</td>\n",
       "      <td>0.00</td>\n",
       "      <td>0.00</td>\n",
       "      <td>0.00</td>\n",
       "      <td>19148835.12</td>\n",
       "      <td>20805672.27</td>\n",
       "      <td>0.00</td>\n",
       "      <td>0.00</td>\n",
       "      <td>0.00</td>\n",
       "      <td>0.00</td>\n",
       "      <td>15.5</td>\n",
       "      <td>39954507.39</td>\n",
       "      <td>268682.71</td>\n",
       "      <td>56.907792</td>\n",
       "      <td>26.157468</td>\n",
       "      <td>0.573636</td>\n",
       "      <td>14.570364</td>\n",
       "    </tr>\n",
       "    <tr>\n",
       "      <th>2001-01-15</th>\n",
       "      <td>183369.34</td>\n",
       "      <td>85313.37</td>\n",
       "      <td>0.00</td>\n",
       "      <td>0.00</td>\n",
       "      <td>0.00</td>\n",
       "      <td>0.00</td>\n",
       "      <td>19147061.90</td>\n",
       "      <td>20807445.49</td>\n",
       "      <td>0.00</td>\n",
       "      <td>0.00</td>\n",
       "      <td>0.00</td>\n",
       "      <td>0.00</td>\n",
       "      <td>29.5</td>\n",
       "      <td>39954507.39</td>\n",
       "      <td>268682.71</td>\n",
       "      <td>45.813312</td>\n",
       "      <td>28.798701</td>\n",
       "      <td>1.895909</td>\n",
       "      <td>48.156091</td>\n",
       "    </tr>\n",
       "    <tr>\n",
       "      <th>2001-01-22</th>\n",
       "      <td>229132.27</td>\n",
       "      <td>39550.44</td>\n",
       "      <td>0.00</td>\n",
       "      <td>0.00</td>\n",
       "      <td>0.00</td>\n",
       "      <td>0.00</td>\n",
       "      <td>38419211.81</td>\n",
       "      <td>1535295.58</td>\n",
       "      <td>0.00</td>\n",
       "      <td>0.00</td>\n",
       "      <td>0.00</td>\n",
       "      <td>0.00</td>\n",
       "      <td>15.0</td>\n",
       "      <td>39954507.39</td>\n",
       "      <td>268682.71</td>\n",
       "      <td>47.125649</td>\n",
       "      <td>23.713312</td>\n",
       "      <td>0.072500</td>\n",
       "      <td>1.841500</td>\n",
       "    </tr>\n",
       "    <tr>\n",
       "      <th>2001-01-29</th>\n",
       "      <td>193653.20</td>\n",
       "      <td>75029.51</td>\n",
       "      <td>0.00</td>\n",
       "      <td>0.00</td>\n",
       "      <td>0.00</td>\n",
       "      <td>0.00</td>\n",
       "      <td>38179628.97</td>\n",
       "      <td>1774878.42</td>\n",
       "      <td>0.00</td>\n",
       "      <td>0.00</td>\n",
       "      <td>0.00</td>\n",
       "      <td>0.00</td>\n",
       "      <td>28.5</td>\n",
       "      <td>39954507.39</td>\n",
       "      <td>268682.71</td>\n",
       "      <td>46.303571</td>\n",
       "      <td>27.376623</td>\n",
       "      <td>1.511818</td>\n",
       "      <td>38.400182</td>\n",
       "    </tr>\n",
       "    <tr>\n",
       "      <th>...</th>\n",
       "      <td>...</td>\n",
       "      <td>...</td>\n",
       "      <td>...</td>\n",
       "      <td>...</td>\n",
       "      <td>...</td>\n",
       "      <td>...</td>\n",
       "      <td>...</td>\n",
       "      <td>...</td>\n",
       "      <td>...</td>\n",
       "      <td>...</td>\n",
       "      <td>...</td>\n",
       "      <td>...</td>\n",
       "      <td>...</td>\n",
       "      <td>...</td>\n",
       "      <td>...</td>\n",
       "      <td>...</td>\n",
       "      <td>...</td>\n",
       "      <td>...</td>\n",
       "      <td>...</td>\n",
       "    </tr>\n",
       "    <tr>\n",
       "      <th>2020-11-30</th>\n",
       "      <td>5542.04</td>\n",
       "      <td>34654.88</td>\n",
       "      <td>60303.12</td>\n",
       "      <td>60478.93</td>\n",
       "      <td>88304.37</td>\n",
       "      <td>19399.37</td>\n",
       "      <td>5547783.11</td>\n",
       "      <td>14970129.93</td>\n",
       "      <td>5063039.47</td>\n",
       "      <td>10253169.73</td>\n",
       "      <td>2805310.34</td>\n",
       "      <td>1315074.81</td>\n",
       "      <td>304.5</td>\n",
       "      <td>39954507.39</td>\n",
       "      <td>268682.71</td>\n",
       "      <td>56.321537</td>\n",
       "      <td>27.510931</td>\n",
       "      <td>0.078106</td>\n",
       "      <td>1.983894</td>\n",
       "    </tr>\n",
       "    <tr>\n",
       "      <th>2020-12-07</th>\n",
       "      <td>5473.73</td>\n",
       "      <td>34723.19</td>\n",
       "      <td>60303.12</td>\n",
       "      <td>60312.51</td>\n",
       "      <td>84406.25</td>\n",
       "      <td>23463.92</td>\n",
       "      <td>5523003.27</td>\n",
       "      <td>14994909.77</td>\n",
       "      <td>5063039.47</td>\n",
       "      <td>10252697.32</td>\n",
       "      <td>2798285.43</td>\n",
       "      <td>1322572.14</td>\n",
       "      <td>306.5</td>\n",
       "      <td>39954507.40</td>\n",
       "      <td>268682.72</td>\n",
       "      <td>57.441558</td>\n",
       "      <td>25.848864</td>\n",
       "      <td>0.075455</td>\n",
       "      <td>1.916545</td>\n",
       "    </tr>\n",
       "    <tr>\n",
       "      <th>2020-12-14</th>\n",
       "      <td>0.00</td>\n",
       "      <td>7958.10</td>\n",
       "      <td>54374.95</td>\n",
       "      <td>93821.89</td>\n",
       "      <td>89063.85</td>\n",
       "      <td>23463.92</td>\n",
       "      <td>0.00</td>\n",
       "      <td>6801658.18</td>\n",
       "      <td>16499875.50</td>\n",
       "      <td>12485483.68</td>\n",
       "      <td>2844917.89</td>\n",
       "      <td>1322572.14</td>\n",
       "      <td>333.0</td>\n",
       "      <td>39954507.39</td>\n",
       "      <td>268682.71</td>\n",
       "      <td>52.524567</td>\n",
       "      <td>28.696212</td>\n",
       "      <td>0.907500</td>\n",
       "      <td>23.050500</td>\n",
       "    </tr>\n",
       "    <tr>\n",
       "      <th>2020-12-21</th>\n",
       "      <td>0.00</td>\n",
       "      <td>7958.10</td>\n",
       "      <td>42367.07</td>\n",
       "      <td>84858.59</td>\n",
       "      <td>105442.72</td>\n",
       "      <td>28056.24</td>\n",
       "      <td>0.00</td>\n",
       "      <td>6801658.18</td>\n",
       "      <td>14056405.16</td>\n",
       "      <td>13318555.30</td>\n",
       "      <td>3622545.92</td>\n",
       "      <td>2155342.83</td>\n",
       "      <td>345.5</td>\n",
       "      <td>39954507.39</td>\n",
       "      <td>268682.72</td>\n",
       "      <td>53.556006</td>\n",
       "      <td>30.579545</td>\n",
       "      <td>0.725455</td>\n",
       "      <td>18.426545</td>\n",
       "    </tr>\n",
       "    <tr>\n",
       "      <th>2020-12-28</th>\n",
       "      <td>0.00</td>\n",
       "      <td>7958.10</td>\n",
       "      <td>42368.85</td>\n",
       "      <td>84856.81</td>\n",
       "      <td>105442.72</td>\n",
       "      <td>28056.24</td>\n",
       "      <td>0.00</td>\n",
       "      <td>6801657.29</td>\n",
       "      <td>14056474.71</td>\n",
       "      <td>13318486.65</td>\n",
       "      <td>3622545.92</td>\n",
       "      <td>2155342.83</td>\n",
       "      <td>345.5</td>\n",
       "      <td>39954507.40</td>\n",
       "      <td>268682.72</td>\n",
       "      <td>50.110714</td>\n",
       "      <td>28.344102</td>\n",
       "      <td>0.749848</td>\n",
       "      <td>19.046152</td>\n",
       "    </tr>\n",
       "  </tbody>\n",
       "</table>\n",
       "<p>1044 rows × 19 columns</p>\n",
       "</div>"
      ],
      "text/plain": [
       "            area_none   area_d0   area_d1   area_d2    area_d3   area_d4  \\\n",
       "ValidEnd                                                                   \n",
       "2001-01-01  268682.71      0.00      0.00      0.00       0.00      0.00   \n",
       "2001-01-08  219867.53  48815.18      0.00      0.00       0.00      0.00   \n",
       "2001-01-15  183369.34  85313.37      0.00      0.00       0.00      0.00   \n",
       "2001-01-22  229132.27  39550.44      0.00      0.00       0.00      0.00   \n",
       "2001-01-29  193653.20  75029.51      0.00      0.00       0.00      0.00   \n",
       "...               ...       ...       ...       ...        ...       ...   \n",
       "2020-11-30    5542.04  34654.88  60303.12  60478.93   88304.37  19399.37   \n",
       "2020-12-07    5473.73  34723.19  60303.12  60312.51   84406.25  23463.92   \n",
       "2020-12-14       0.00   7958.10  54374.95  93821.89   89063.85  23463.92   \n",
       "2020-12-21       0.00   7958.10  42367.07  84858.59  105442.72  28056.24   \n",
       "2020-12-28       0.00   7958.10  42368.85  84856.81  105442.72  28056.24   \n",
       "\n",
       "            population_none  population_d0  population_d1  population_d2  \\\n",
       "ValidEnd                                                                   \n",
       "2001-01-01      39954507.39           0.00           0.00           0.00   \n",
       "2001-01-08      19148835.12    20805672.27           0.00           0.00   \n",
       "2001-01-15      19147061.90    20807445.49           0.00           0.00   \n",
       "2001-01-22      38419211.81     1535295.58           0.00           0.00   \n",
       "2001-01-29      38179628.97     1774878.42           0.00           0.00   \n",
       "...                     ...            ...            ...            ...   \n",
       "2020-11-30       5547783.11    14970129.93     5063039.47    10253169.73   \n",
       "2020-12-07       5523003.27    14994909.77     5063039.47    10252697.32   \n",
       "2020-12-14             0.00     6801658.18    16499875.50    12485483.68   \n",
       "2020-12-21             0.00     6801658.18    14056405.16    13318555.30   \n",
       "2020-12-28             0.00     6801657.29    14056474.71    13318486.65   \n",
       "\n",
       "            population_d3  population_d4   DSCI  total_population  total_area  \\\n",
       "ValidEnd                                                                        \n",
       "2001-01-01           0.00           0.00    0.0       39954507.39   268682.71   \n",
       "2001-01-08           0.00           0.00   15.5       39954507.39   268682.71   \n",
       "2001-01-15           0.00           0.00   29.5       39954507.39   268682.71   \n",
       "2001-01-22           0.00           0.00   15.0       39954507.39   268682.71   \n",
       "2001-01-29           0.00           0.00   28.5       39954507.39   268682.71   \n",
       "...                   ...            ...    ...               ...         ...   \n",
       "2020-11-30     2805310.34     1315074.81  304.5       39954507.39   268682.71   \n",
       "2020-12-07     2798285.43     1322572.14  306.5       39954507.40   268682.72   \n",
       "2020-12-14     2844917.89     1322572.14  333.0       39954507.39   268682.71   \n",
       "2020-12-21     3622545.92     2155342.83  345.5       39954507.39   268682.72   \n",
       "2020-12-28     3622545.92     2155342.83  345.5       39954507.40   268682.72   \n",
       "\n",
       "             avg_tmax   avg_tmin  total_avg_prcp_inches  total_avg_prcp_mm  \n",
       "ValidEnd                                                                    \n",
       "2001-01-01  55.340909  25.125000               0.000000           0.000000  \n",
       "2001-01-08  56.907792  26.157468               0.573636          14.570364  \n",
       "2001-01-15  45.813312  28.798701               1.895909          48.156091  \n",
       "2001-01-22  47.125649  23.713312               0.072500           1.841500  \n",
       "2001-01-29  46.303571  27.376623               1.511818          38.400182  \n",
       "...               ...        ...                    ...                ...  \n",
       "2020-11-30  56.321537  27.510931               0.078106           1.983894  \n",
       "2020-12-07  57.441558  25.848864               0.075455           1.916545  \n",
       "2020-12-14  52.524567  28.696212               0.907500          23.050500  \n",
       "2020-12-21  53.556006  30.579545               0.725455          18.426545  \n",
       "2020-12-28  50.110714  28.344102               0.749848          19.046152  \n",
       "\n",
       "[1044 rows x 19 columns]"
      ]
     },
     "execution_count": 27,
     "metadata": {},
     "output_type": "execute_result"
    }
   ],
   "source": [
    "west"
   ]
  },
  {
   "cell_type": "markdown",
   "metadata": {},
   "source": [
    "#### Son's Code"
   ]
  },
  {
   "cell_type": "code",
   "execution_count": 28,
   "metadata": {},
   "outputs": [],
   "source": [
    "#imports\n",
    "from tensorflow.keras.models import Sequential\n",
    "from tensorflow.keras.layers import * \n",
    "from tensorflow.keras.layers import Conv1D\n",
    "from tensorflow.keras.callbacks import ModelCheckpoint\n",
    "from tensorflow.keras.losses import MeanSquaredError\n",
    "from tensorflow.keras.metrics import RootMeanSquaredError\n",
    "from tensorflow.keras.optimizers import Adam\n",
    "from tensorflow.keras.models import load_model\n"
   ]
  },
  {
   "cell_type": "code",
   "execution_count": 29,
   "metadata": {},
   "outputs": [],
   "source": [
    "#plotting Drought history\n",
    "def plot_dsci(region, name):\n",
    "    region['DSCI'].plot(figsize = (10, 8))\n",
    "    plt.xlabel(\"Year\")\n",
    "    plt.ylabel(\"DSCI (Severity Level)\")\n",
    "    plt.title(f'{name} Region Drought Severity 2001-2020')\n",
    "    plt.savefig('fig.png')"
   ]
  },
  {
   "cell_type": "code",
   "execution_count": 30,
   "metadata": {},
   "outputs": [
    {
     "data": {
      "image/png": "[encoded data removed]",
      "text/plain": [
       "<Figure size 720x576 with 1 Axes>"
      ]
     },
     "metadata": {
      "needs_background": "light"
     },
     "output_type": "display_data"
    }
   ],
   "source": [
    "#looking at west drought severity\n",
    "plot_dsci(west, 'West')"
   ]
  },
  {
   "cell_type": "code",
   "execution_count": 31,
   "metadata": {},
   "outputs": [],
   "source": [
    "#creating function to create window size and DF input. window size or kernal size \n",
    "#is used by NN to make predictions on next iteration.\n",
    "# Code modified from Greg Hogg https://www.youtube.com/watch?v=kGdbPnMCdOg\n",
    "def df_to_X_y(df, windowsize=5):\n",
    "    df_as_np = df.to_numpy()\n",
    "    X = []\n",
    "    y = []\n",
    "    for i in range(len(df_as_np)-windowsize):\n",
    "        row = [[a] for a in df_as_np[i:i+5]]\n",
    "        X.append(row)\n",
    "        label = df_as_np[i+5]\n",
    "        y.append(label)\n",
    "    return np.array(X), np.array(y)"
   ]
  },
  {
   "cell_type": "code",
   "execution_count": 32,
   "metadata": {},
   "outputs": [
    {
     "data": {
      "text/plain": [
       "((1039, 5, 1), (1039,))"
      ]
     },
     "execution_count": 32,
     "metadata": {},
     "output_type": "execute_result"
    }
   ],
   "source": [
    "WINDOW_SIZE = 5\n",
    "X, y = df_to_X_y(west['DSCI'], WINDOW_SIZE)\n",
    "X.shape, y.shape"
   ]
  },
  {
   "cell_type": "code",
   "execution_count": 33,
   "metadata": {},
   "outputs": [],
   "source": [
    "#Creating training, val, and test set as shown By Hogg. https://www.youtube.com/watch?v=kGdbPnMCdOg\n",
    "X_train, y_train = X[:750], y[:750]\n",
    "X_val, y_val = X[750:850], y[750:850]\n",
    "X_test, y_test = X[850:], y[850:]"
   ]
  },
  {
   "cell_type": "code",
   "execution_count": 34,
   "metadata": {},
   "outputs": [
    {
     "name": "stdout",
     "output_type": "stream",
     "text": [
      "Model: \"sequential\"\n",
      "_________________________________________________________________\n",
      " Layer (type)                Output Shape              Param #   \n",
      "=================================================================\n",
      " lstm (LSTM)                 (None, 64)                16896     \n",
      "                                                                 \n",
      " dense (Dense)               (None, 8)                 520       \n",
      "                                                                 \n",
      " dense_1 (Dense)             (None, 1)                 9         \n",
      "                                                                 \n",
      "=================================================================\n",
      "Total params: 17,425\n",
      "Trainable params: 17,425\n",
      "Non-trainable params: 0\n",
      "_________________________________________________________________\n"
     ]
    }
   ],
   "source": [
    "model1 = Sequential()\n",
    "model1.add(InputLayer((5,1)))\n",
    "model1.add(LSTM(64))\n",
    "model1.add(Dense(8, 'relu'))\n",
    "model1.add(Dense(1, 'linear'))\n",
    "model1.summary()"
   ]
  },
  {
   "cell_type": "code",
   "execution_count": 35,
   "metadata": {},
   "outputs": [],
   "source": [
    "#Model checkpoint, saving best model. \n",
    "#Loss function is measured on MSE and metrics used is RMSE\n",
    "cp = ModelCheckpoint('model1/', save_best_only=True)\n",
    "model1.compile(loss=MeanSquaredError(), optimizer = Adam(learning_rate=0.005), metrics=[RootMeanSquaredError()])"
   ]
  },
  {
   "cell_type": "code",
   "execution_count": 36,
   "metadata": {},
   "outputs": [
    {
     "name": "stdout",
     "output_type": "stream",
     "text": [
      "Epoch 1/10\n",
      "16/24 [===================>..........] - ETA: 0s - loss: 43115.3242 - root_mean_squared_error: 207.6423 "
     ]
    },
    {
     "name": "stderr",
     "output_type": "stream",
     "text": [
      "WARNING:absl:Found untraced functions such as lstm_cell_layer_call_fn, lstm_cell_layer_call_and_return_conditional_losses, lstm_cell_layer_call_fn, lstm_cell_layer_call_and_return_conditional_losses, lstm_cell_layer_call_and_return_conditional_losses while saving (showing 5 of 5). These functions will not be directly callable after loading.\n"
     ]
    },
    {
     "name": "stdout",
     "output_type": "stream",
     "text": [
      "INFO:tensorflow:Assets written to: model1/assets\n"
     ]
    },
    {
     "name": "stderr",
     "output_type": "stream",
     "text": [
      "INFO:tensorflow:Assets written to: model1/assets\n",
      "WARNING:absl:<keras.layers.recurrent.LSTMCell object at 0x7feabf3604c0> has the same name 'LSTMCell' as a built-in Keras object. Consider renaming <class 'keras.layers.recurrent.LSTMCell'> to avoid naming conflicts when loading with `tf.keras.models.load_model`. If renaming is not possible, pass the object in the `custom_objects` parameter of the load function.\n"
     ]
    },
    {
     "name": "stdout",
     "output_type": "stream",
     "text": [
      "24/24 [==============================] - 4s 137ms/step - loss: 42144.6992 - root_mean_squared_error: 205.2917 - val_loss: 66857.0234 - val_root_mean_squared_error: 258.5673\n",
      "Epoch 2/10\n",
      "17/24 [====================>.........] - ETA: 0s - loss: 38331.3906 - root_mean_squared_error: 195.7840"
     ]
    },
    {
     "name": "stderr",
     "output_type": "stream",
     "text": [
      "WARNING:absl:Found untraced functions such as lstm_cell_layer_call_fn, lstm_cell_layer_call_and_return_conditional_losses, lstm_cell_layer_call_fn, lstm_cell_layer_call_and_return_conditional_losses, lstm_cell_layer_call_and_return_conditional_losses while saving (showing 5 of 5). These functions will not be directly callable after loading.\n"
     ]
    },
    {
     "name": "stdout",
     "output_type": "stream",
     "text": [
      "INFO:tensorflow:Assets written to: model1/assets\n"
     ]
    },
    {
     "name": "stderr",
     "output_type": "stream",
     "text": [
      "INFO:tensorflow:Assets written to: model1/assets\n",
      "WARNING:absl:<keras.layers.recurrent.LSTMCell object at 0x7feabf3604c0> has the same name 'LSTMCell' as a built-in Keras object. Consider renaming <class 'keras.layers.recurrent.LSTMCell'> to avoid naming conflicts when loading with `tf.keras.models.load_model`. If renaming is not possible, pass the object in the `custom_objects` parameter of the load function.\n"
     ]
    },
    {
     "name": "stdout",
     "output_type": "stream",
     "text": [
      "24/24 [==============================] - 3s 119ms/step - loss: 37049.9531 - root_mean_squared_error: 192.4836 - val_loss: 57448.0664 - val_root_mean_squared_error: 239.6833\n",
      "Epoch 3/10\n",
      "17/24 [====================>.........] - ETA: 0s - loss: 32238.4785 - root_mean_squared_error: 179.5508"
     ]
    },
    {
     "name": "stderr",
     "output_type": "stream",
     "text": [
      "WARNING:absl:Found untraced functions such as lstm_cell_layer_call_fn, lstm_cell_layer_call_and_return_conditional_losses, lstm_cell_layer_call_fn, lstm_cell_layer_call_and_return_conditional_losses, lstm_cell_layer_call_and_return_conditional_losses while saving (showing 5 of 5). These functions will not be directly callable after loading.\n"
     ]
    },
    {
     "name": "stdout",
     "output_type": "stream",
     "text": [
      "INFO:tensorflow:Assets written to: model1/assets\n"
     ]
    },
    {
     "name": "stderr",
     "output_type": "stream",
     "text": [
      "INFO:tensorflow:Assets written to: model1/assets\n",
      "WARNING:absl:<keras.layers.recurrent.LSTMCell object at 0x7feabf3604c0> has the same name 'LSTMCell' as a built-in Keras object. Consider renaming <class 'keras.layers.recurrent.LSTMCell'> to avoid naming conflicts when loading with `tf.keras.models.load_model`. If renaming is not possible, pass the object in the `custom_objects` parameter of the load function.\n"
     ]
    },
    {
     "name": "stdout",
     "output_type": "stream",
     "text": [
      "24/24 [==============================] - 3s 111ms/step - loss: 30359.4434 - root_mean_squared_error: 174.2396 - val_loss: 46524.5938 - val_root_mean_squared_error: 215.6956\n",
      "Epoch 4/10\n",
      "15/24 [=================>............] - ETA: 0s - loss: 23604.8066 - root_mean_squared_error: 153.6386"
     ]
    },
    {
     "name": "stderr",
     "output_type": "stream",
     "text": [
      "WARNING:absl:Found untraced functions such as lstm_cell_layer_call_fn, lstm_cell_layer_call_and_return_conditional_losses, lstm_cell_layer_call_fn, lstm_cell_layer_call_and_return_conditional_losses, lstm_cell_layer_call_and_return_conditional_losses while saving (showing 5 of 5). These functions will not be directly callable after loading.\n"
     ]
    },
    {
     "name": "stdout",
     "output_type": "stream",
     "text": [
      "INFO:tensorflow:Assets written to: model1/assets\n"
     ]
    },
    {
     "name": "stderr",
     "output_type": "stream",
     "text": [
      "INFO:tensorflow:Assets written to: model1/assets\n",
      "WARNING:absl:<keras.layers.recurrent.LSTMCell object at 0x7feabf3604c0> has the same name 'LSTMCell' as a built-in Keras object. Consider renaming <class 'keras.layers.recurrent.LSTMCell'> to avoid naming conflicts when loading with `tf.keras.models.load_model`. If renaming is not possible, pass the object in the `custom_objects` parameter of the load function.\n"
     ]
    },
    {
     "name": "stdout",
     "output_type": "stream",
     "text": [
      "24/24 [==============================] - 3s 124ms/step - loss: 22499.2676 - root_mean_squared_error: 149.9976 - val_loss: 34728.2695 - val_root_mean_squared_error: 186.3552\n",
      "Epoch 5/10\n",
      "19/24 [======================>.......] - ETA: 0s - loss: 14736.5195 - root_mean_squared_error: 121.3941"
     ]
    },
    {
     "name": "stderr",
     "output_type": "stream",
     "text": [
      "WARNING:absl:Found untraced functions such as lstm_cell_layer_call_fn, lstm_cell_layer_call_and_return_conditional_losses, lstm_cell_layer_call_fn, lstm_cell_layer_call_and_return_conditional_losses, lstm_cell_layer_call_and_return_conditional_losses while saving (showing 5 of 5). These functions will not be directly callable after loading.\n"
     ]
    },
    {
     "name": "stdout",
     "output_type": "stream",
     "text": [
      "INFO:tensorflow:Assets written to: model1/assets\n"
     ]
    },
    {
     "name": "stderr",
     "output_type": "stream",
     "text": [
      "INFO:tensorflow:Assets written to: model1/assets\n",
      "WARNING:absl:<keras.layers.recurrent.LSTMCell object at 0x7feabf3604c0> has the same name 'LSTMCell' as a built-in Keras object. Consider renaming <class 'keras.layers.recurrent.LSTMCell'> to avoid naming conflicts when loading with `tf.keras.models.load_model`. If renaming is not possible, pass the object in the `custom_objects` parameter of the load function.\n"
     ]
    },
    {
     "name": "stdout",
     "output_type": "stream",
     "text": [
      "24/24 [==============================] - 3s 135ms/step - loss: 14984.5684 - root_mean_squared_error: 122.4115 - val_loss: 23842.0859 - val_root_mean_squared_error: 154.4088\n",
      "Epoch 6/10\n",
      "15/24 [=================>............] - ETA: 0s - loss: 9565.7520 - root_mean_squared_error: 97.8047  "
     ]
    },
    {
     "name": "stderr",
     "output_type": "stream",
     "text": [
      "WARNING:absl:Found untraced functions such as lstm_cell_layer_call_fn, lstm_cell_layer_call_and_return_conditional_losses, lstm_cell_layer_call_fn, lstm_cell_layer_call_and_return_conditional_losses, lstm_cell_layer_call_and_return_conditional_losses while saving (showing 5 of 5). These functions will not be directly callable after loading.\n"
     ]
    },
    {
     "name": "stdout",
     "output_type": "stream",
     "text": [
      "INFO:tensorflow:Assets written to: model1/assets\n"
     ]
    },
    {
     "name": "stderr",
     "output_type": "stream",
     "text": [
      "INFO:tensorflow:Assets written to: model1/assets\n",
      "WARNING:absl:<keras.layers.recurrent.LSTMCell object at 0x7feabf3604c0> has the same name 'LSTMCell' as a built-in Keras object. Consider renaming <class 'keras.layers.recurrent.LSTMCell'> to avoid naming conflicts when loading with `tf.keras.models.load_model`. If renaming is not possible, pass the object in the `custom_objects` parameter of the load function.\n"
     ]
    },
    {
     "name": "stdout",
     "output_type": "stream",
     "text": [
      "24/24 [==============================] - 3s 133ms/step - loss: 9016.4277 - root_mean_squared_error: 94.9549 - val_loss: 14889.5898 - val_root_mean_squared_error: 122.0229\n",
      "Epoch 7/10\n",
      "16/24 [===================>..........] - ETA: 0s - loss: 5839.3560 - root_mean_squared_error: 76.4157"
     ]
    },
    {
     "name": "stderr",
     "output_type": "stream",
     "text": [
      "WARNING:absl:Found untraced functions such as lstm_cell_layer_call_fn, lstm_cell_layer_call_and_return_conditional_losses, lstm_cell_layer_call_fn, lstm_cell_layer_call_and_return_conditional_losses, lstm_cell_layer_call_and_return_conditional_losses while saving (showing 5 of 5). These functions will not be directly callable after loading.\n"
     ]
    },
    {
     "name": "stdout",
     "output_type": "stream",
     "text": [
      "INFO:tensorflow:Assets written to: model1/assets\n"
     ]
    },
    {
     "name": "stderr",
     "output_type": "stream",
     "text": [
      "INFO:tensorflow:Assets written to: model1/assets\n",
      "WARNING:absl:<keras.layers.recurrent.LSTMCell object at 0x7feabf3604c0> has the same name 'LSTMCell' as a built-in Keras object. Consider renaming <class 'keras.layers.recurrent.LSTMCell'> to avoid naming conflicts when loading with `tf.keras.models.load_model`. If renaming is not possible, pass the object in the `custom_objects` parameter of the load function.\n"
     ]
    },
    {
     "name": "stdout",
     "output_type": "stream",
     "text": [
      "24/24 [==============================] - 3s 110ms/step - loss: 5192.0605 - root_mean_squared_error: 72.0560 - val_loss: 9229.1885 - val_root_mean_squared_error: 96.0687\n",
      "Epoch 8/10\n",
      "17/24 [====================>.........] - ETA: 0s - loss: 3687.1470 - root_mean_squared_error: 60.7219"
     ]
    },
    {
     "name": "stderr",
     "output_type": "stream",
     "text": [
      "WARNING:absl:Found untraced functions such as lstm_cell_layer_call_fn, lstm_cell_layer_call_and_return_conditional_losses, lstm_cell_layer_call_fn, lstm_cell_layer_call_and_return_conditional_losses, lstm_cell_layer_call_and_return_conditional_losses while saving (showing 5 of 5). These functions will not be directly callable after loading.\n"
     ]
    },
    {
     "name": "stdout",
     "output_type": "stream",
     "text": [
      "INFO:tensorflow:Assets written to: model1/assets\n"
     ]
    },
    {
     "name": "stderr",
     "output_type": "stream",
     "text": [
      "INFO:tensorflow:Assets written to: model1/assets\n",
      "WARNING:absl:<keras.layers.recurrent.LSTMCell object at 0x7feabf3604c0> has the same name 'LSTMCell' as a built-in Keras object. Consider renaming <class 'keras.layers.recurrent.LSTMCell'> to avoid naming conflicts when loading with `tf.keras.models.load_model`. If renaming is not possible, pass the object in the `custom_objects` parameter of the load function.\n"
     ]
    },
    {
     "name": "stdout",
     "output_type": "stream",
     "text": [
      "24/24 [==============================] - 3s 128ms/step - loss: 3151.5979 - root_mean_squared_error: 56.1391 - val_loss: 6090.4194 - val_root_mean_squared_error: 78.0411\n",
      "Epoch 9/10\n",
      "24/24 [==============================] - ETA: 0s - loss: 2072.5713 - root_mean_squared_error: 45.5255"
     ]
    },
    {
     "name": "stderr",
     "output_type": "stream",
     "text": [
      "WARNING:absl:Found untraced functions such as lstm_cell_layer_call_fn, lstm_cell_layer_call_and_return_conditional_losses, lstm_cell_layer_call_fn, lstm_cell_layer_call_and_return_conditional_losses, lstm_cell_layer_call_and_return_conditional_losses while saving (showing 5 of 5). These functions will not be directly callable after loading.\n"
     ]
    },
    {
     "name": "stdout",
     "output_type": "stream",
     "text": [
      "INFO:tensorflow:Assets written to: model1/assets\n"
     ]
    },
    {
     "name": "stderr",
     "output_type": "stream",
     "text": [
      "INFO:tensorflow:Assets written to: model1/assets\n",
      "WARNING:absl:<keras.layers.recurrent.LSTMCell object at 0x7feabf3604c0> has the same name 'LSTMCell' as a built-in Keras object. Consider renaming <class 'keras.layers.recurrent.LSTMCell'> to avoid naming conflicts when loading with `tf.keras.models.load_model`. If renaming is not possible, pass the object in the `custom_objects` parameter of the load function.\n"
     ]
    },
    {
     "name": "stdout",
     "output_type": "stream",
     "text": [
      "24/24 [==============================] - 4s 153ms/step - loss: 2072.5713 - root_mean_squared_error: 45.5255 - val_loss: 4273.8599 - val_root_mean_squared_error: 65.3748\n",
      "Epoch 10/10\n",
      "24/24 [==============================] - ETA: 0s - loss: 1489.6598 - root_mean_squared_error: 38.5961"
     ]
    },
    {
     "name": "stderr",
     "output_type": "stream",
     "text": [
      "WARNING:absl:Found untraced functions such as lstm_cell_layer_call_fn, lstm_cell_layer_call_and_return_conditional_losses, lstm_cell_layer_call_fn, lstm_cell_layer_call_and_return_conditional_losses, lstm_cell_layer_call_and_return_conditional_losses while saving (showing 5 of 5). These functions will not be directly callable after loading.\n"
     ]
    },
    {
     "name": "stdout",
     "output_type": "stream",
     "text": [
      "INFO:tensorflow:Assets written to: model1/assets\n"
     ]
    },
    {
     "name": "stderr",
     "output_type": "stream",
     "text": [
      "INFO:tensorflow:Assets written to: model1/assets\n",
      "WARNING:absl:<keras.layers.recurrent.LSTMCell object at 0x7feabf3604c0> has the same name 'LSTMCell' as a built-in Keras object. Consider renaming <class 'keras.layers.recurrent.LSTMCell'> to avoid naming conflicts when loading with `tf.keras.models.load_model`. If renaming is not possible, pass the object in the `custom_objects` parameter of the load function.\n"
     ]
    },
    {
     "name": "stdout",
     "output_type": "stream",
     "text": [
      "24/24 [==============================] - 4s 156ms/step - loss: 1489.6598 - root_mean_squared_error: 38.5961 - val_loss: 2853.0928 - val_root_mean_squared_error: 53.4143\n"
     ]
    }
   ],
   "source": [
    "#Saving history to view loss\n",
    "history = (model1.fit(X_train, y_train, validation_data=(X_val, y_val), epochs=10, callbacks=[cp]))"
   ]
  },
  {
   "cell_type": "code",
   "execution_count": 37,
   "metadata": {},
   "outputs": [
    {
     "data": {
      "text/html": [
       "<div>\n",
       "<style scoped>\n",
       "    .dataframe tbody tr th:only-of-type {\n",
       "        vertical-align: middle;\n",
       "    }\n",
       "\n",
       "    .dataframe tbody tr th {\n",
       "        vertical-align: top;\n",
       "    }\n",
       "\n",
       "    .dataframe thead th {\n",
       "        text-align: right;\n",
       "    }\n",
       "</style>\n",
       "<table border=\"1\" class=\"dataframe\">\n",
       "  <thead>\n",
       "    <tr style=\"text-align: right;\">\n",
       "      <th></th>\n",
       "      <th>loss</th>\n",
       "      <th>root_mean_squared_error</th>\n",
       "      <th>val_loss</th>\n",
       "      <th>val_root_mean_squared_error</th>\n",
       "    </tr>\n",
       "  </thead>\n",
       "  <tbody>\n",
       "    <tr>\n",
       "      <th>0</th>\n",
       "      <td>42144.699219</td>\n",
       "      <td>205.291748</td>\n",
       "      <td>66857.023438</td>\n",
       "      <td>258.567261</td>\n",
       "    </tr>\n",
       "    <tr>\n",
       "      <th>1</th>\n",
       "      <td>37049.953125</td>\n",
       "      <td>192.483643</td>\n",
       "      <td>57448.066406</td>\n",
       "      <td>239.683258</td>\n",
       "    </tr>\n",
       "    <tr>\n",
       "      <th>2</th>\n",
       "      <td>30359.443359</td>\n",
       "      <td>174.239609</td>\n",
       "      <td>46524.593750</td>\n",
       "      <td>215.695602</td>\n",
       "    </tr>\n",
       "    <tr>\n",
       "      <th>3</th>\n",
       "      <td>22499.267578</td>\n",
       "      <td>149.997559</td>\n",
       "      <td>34728.269531</td>\n",
       "      <td>186.355225</td>\n",
       "    </tr>\n",
       "    <tr>\n",
       "      <th>4</th>\n",
       "      <td>14984.568359</td>\n",
       "      <td>122.411469</td>\n",
       "      <td>23842.085938</td>\n",
       "      <td>154.408829</td>\n",
       "    </tr>\n",
       "    <tr>\n",
       "      <th>5</th>\n",
       "      <td>9016.427734</td>\n",
       "      <td>94.954872</td>\n",
       "      <td>14889.589844</td>\n",
       "      <td>122.022903</td>\n",
       "    </tr>\n",
       "    <tr>\n",
       "      <th>6</th>\n",
       "      <td>5192.060547</td>\n",
       "      <td>72.055954</td>\n",
       "      <td>9229.188477</td>\n",
       "      <td>96.068665</td>\n",
       "    </tr>\n",
       "    <tr>\n",
       "      <th>7</th>\n",
       "      <td>3151.597900</td>\n",
       "      <td>56.139095</td>\n",
       "      <td>6090.419434</td>\n",
       "      <td>78.041138</td>\n",
       "    </tr>\n",
       "    <tr>\n",
       "      <th>8</th>\n",
       "      <td>2072.571289</td>\n",
       "      <td>45.525501</td>\n",
       "      <td>4273.859863</td>\n",
       "      <td>65.374763</td>\n",
       "    </tr>\n",
       "    <tr>\n",
       "      <th>9</th>\n",
       "      <td>1489.659790</td>\n",
       "      <td>38.596111</td>\n",
       "      <td>2853.092773</td>\n",
       "      <td>53.414349</td>\n",
       "    </tr>\n",
       "  </tbody>\n",
       "</table>\n",
       "</div>"
      ],
      "text/plain": [
       "           loss  root_mean_squared_error      val_loss  \\\n",
       "0  42144.699219               205.291748  66857.023438   \n",
       "1  37049.953125               192.483643  57448.066406   \n",
       "2  30359.443359               174.239609  46524.593750   \n",
       "3  22499.267578               149.997559  34728.269531   \n",
       "4  14984.568359               122.411469  23842.085938   \n",
       "5   9016.427734                94.954872  14889.589844   \n",
       "6   5192.060547                72.055954   9229.188477   \n",
       "7   3151.597900                56.139095   6090.419434   \n",
       "8   2072.571289                45.525501   4273.859863   \n",
       "9   1489.659790                38.596111   2853.092773   \n",
       "\n",
       "   val_root_mean_squared_error  \n",
       "0                   258.567261  \n",
       "1                   239.683258  \n",
       "2                   215.695602  \n",
       "3                   186.355225  \n",
       "4                   154.408829  \n",
       "5                   122.022903  \n",
       "6                    96.068665  \n",
       "7                    78.041138  \n",
       "8                    65.374763  \n",
       "9                    53.414349  "
      ]
     },
     "execution_count": 37,
     "metadata": {},
     "output_type": "execute_result"
    }
   ],
   "source": [
    "#Creating DF for loss history\n",
    "history_df = pd.DataFrame(history.history)\n",
    "history_df"
   ]
  },
  {
   "cell_type": "code",
   "execution_count": 38,
   "metadata": {},
   "outputs": [
    {
     "data": {
      "image/png": "[encoded data removed]",
      "text/plain": [
       "<Figure size 432x288 with 1 Axes>"
      ]
     },
     "metadata": {
      "needs_background": "light"
     },
     "output_type": "display_data"
    }
   ],
   "source": [
    "#plotting loss\n",
    "history_df.filter(like='loss').plot()\n",
    "plt.title(\"LSTM MSE\", fontsize=16)\n",
    "plt.legend(loc='upper left')\n",
    "plt.savefig('fig2.png')"
   ]
  },
  {
   "cell_type": "code",
   "execution_count": 39,
   "metadata": {},
   "outputs": [],
   "source": [
    "#loading in best model from memory.\n",
    "model1 = load_model(\"model1/\")"
   ]
  },
  {
   "cell_type": "code",
   "execution_count": 40,
   "metadata": {},
   "outputs": [
    {
     "data": {
      "text/html": [
       "<div>\n",
       "<style scoped>\n",
       "    .dataframe tbody tr th:only-of-type {\n",
       "        vertical-align: middle;\n",
       "    }\n",
       "\n",
       "    .dataframe tbody tr th {\n",
       "        vertical-align: top;\n",
       "    }\n",
       "\n",
       "    .dataframe thead th {\n",
       "        text-align: right;\n",
       "    }\n",
       "</style>\n",
       "<table border=\"1\" class=\"dataframe\">\n",
       "  <thead>\n",
       "    <tr style=\"text-align: right;\">\n",
       "      <th></th>\n",
       "      <th>Train Predictions</th>\n",
       "      <th>Actuals</th>\n",
       "    </tr>\n",
       "  </thead>\n",
       "  <tbody>\n",
       "    <tr>\n",
       "      <th>0</th>\n",
       "      <td>18.516102</td>\n",
       "      <td>25.5</td>\n",
       "    </tr>\n",
       "    <tr>\n",
       "      <th>1</th>\n",
       "      <td>25.718834</td>\n",
       "      <td>34.0</td>\n",
       "    </tr>\n",
       "    <tr>\n",
       "      <th>2</th>\n",
       "      <td>32.342590</td>\n",
       "      <td>37.0</td>\n",
       "    </tr>\n",
       "    <tr>\n",
       "      <th>3</th>\n",
       "      <td>38.092957</td>\n",
       "      <td>32.5</td>\n",
       "    </tr>\n",
       "    <tr>\n",
       "      <th>4</th>\n",
       "      <td>27.284458</td>\n",
       "      <td>36.0</td>\n",
       "    </tr>\n",
       "    <tr>\n",
       "      <th>...</th>\n",
       "      <td>...</td>\n",
       "      <td>...</td>\n",
       "    </tr>\n",
       "    <tr>\n",
       "      <th>745</th>\n",
       "      <td>269.151703</td>\n",
       "      <td>379.5</td>\n",
       "    </tr>\n",
       "    <tr>\n",
       "      <th>746</th>\n",
       "      <td>269.151703</td>\n",
       "      <td>380.0</td>\n",
       "    </tr>\n",
       "    <tr>\n",
       "      <th>747</th>\n",
       "      <td>269.151886</td>\n",
       "      <td>380.5</td>\n",
       "    </tr>\n",
       "    <tr>\n",
       "      <th>748</th>\n",
       "      <td>269.152130</td>\n",
       "      <td>382.0</td>\n",
       "    </tr>\n",
       "    <tr>\n",
       "      <th>749</th>\n",
       "      <td>269.152740</td>\n",
       "      <td>378.5</td>\n",
       "    </tr>\n",
       "  </tbody>\n",
       "</table>\n",
       "<p>750 rows × 2 columns</p>\n",
       "</div>"
      ],
      "text/plain": [
       "     Train Predictions  Actuals\n",
       "0            18.516102     25.5\n",
       "1            25.718834     34.0\n",
       "2            32.342590     37.0\n",
       "3            38.092957     32.5\n",
       "4            27.284458     36.0\n",
       "..                 ...      ...\n",
       "745         269.151703    379.5\n",
       "746         269.151703    380.0\n",
       "747         269.151886    380.5\n",
       "748         269.152130    382.0\n",
       "749         269.152740    378.5\n",
       "\n",
       "[750 rows x 2 columns]"
      ]
     },
     "execution_count": 40,
     "metadata": {},
     "output_type": "execute_result"
    }
   ],
   "source": [
    "#Predictions\n",
    "train_predictions = model1.predict(X_train).flatten()\n",
    "train_results = pd.DataFrame(data={'Train Predictions':train_predictions, 'Actuals': y_train})\n",
    "train_results"
   ]
  },
  {
   "cell_type": "code",
   "execution_count": 41,
   "metadata": {},
   "outputs": [
    {
     "data": {
      "image/png": "[encoded data removed]",
      "text/plain": [
       "<Figure size 720x576 with 1 Axes>"
      ]
     },
     "metadata": {
      "needs_background": "light"
     },
     "output_type": "display_data"
    }
   ],
   "source": [
    "#plot pred vs actuals\n",
    "import matplotlib.pyplot as plt\n",
    "plt.figure(figsize = (10,8))\n",
    "plt.plot(train_results['Train Predictions'][:400], label = 'DSCI Predictions')\n",
    "plt.plot(train_results['Actuals'][:400], label = \"DSCI Actuals\")\n",
    "plt.xlabel(\"Weeks\", fontsize=14)\n",
    "plt.ylabel(\"DSCI\", fontsize=14)\n",
    "plt.title(\"DSCI Predicitions vs Actuals\", fontsize=16)\n",
    "plt.legend(loc='upper left')\n",
    "plt.savefig('fig1.png')"
   ]
  },
  {
   "cell_type": "code",
   "execution_count": 42,
   "metadata": {},
   "outputs": [
    {
     "data": {
      "text/html": [
       "<div>\n",
       "<style scoped>\n",
       "    .dataframe tbody tr th:only-of-type {\n",
       "        vertical-align: middle;\n",
       "    }\n",
       "\n",
       "    .dataframe tbody tr th {\n",
       "        vertical-align: top;\n",
       "    }\n",
       "\n",
       "    .dataframe thead th {\n",
       "        text-align: right;\n",
       "    }\n",
       "</style>\n",
       "<table border=\"1\" class=\"dataframe\">\n",
       "  <thead>\n",
       "    <tr style=\"text-align: right;\">\n",
       "      <th></th>\n",
       "      <th>Val Predictions</th>\n",
       "      <th>Actuals</th>\n",
       "    </tr>\n",
       "  </thead>\n",
       "  <tbody>\n",
       "    <tr>\n",
       "      <th>0</th>\n",
       "      <td>269.151489</td>\n",
       "      <td>370.5</td>\n",
       "    </tr>\n",
       "    <tr>\n",
       "      <th>1</th>\n",
       "      <td>269.147217</td>\n",
       "      <td>370.5</td>\n",
       "    </tr>\n",
       "    <tr>\n",
       "      <th>2</th>\n",
       "      <td>269.146362</td>\n",
       "      <td>370.5</td>\n",
       "    </tr>\n",
       "    <tr>\n",
       "      <th>3</th>\n",
       "      <td>269.145874</td>\n",
       "      <td>370.5</td>\n",
       "    </tr>\n",
       "    <tr>\n",
       "      <th>4</th>\n",
       "      <td>269.145813</td>\n",
       "      <td>370.0</td>\n",
       "    </tr>\n",
       "    <tr>\n",
       "      <th>...</th>\n",
       "      <td>...</td>\n",
       "      <td>...</td>\n",
       "    </tr>\n",
       "    <tr>\n",
       "      <th>95</th>\n",
       "      <td>14.221318</td>\n",
       "      <td>19.5</td>\n",
       "    </tr>\n",
       "    <tr>\n",
       "      <th>96</th>\n",
       "      <td>14.221320</td>\n",
       "      <td>19.5</td>\n",
       "    </tr>\n",
       "    <tr>\n",
       "      <th>97</th>\n",
       "      <td>14.221320</td>\n",
       "      <td>19.5</td>\n",
       "    </tr>\n",
       "    <tr>\n",
       "      <th>98</th>\n",
       "      <td>14.221320</td>\n",
       "      <td>19.5</td>\n",
       "    </tr>\n",
       "    <tr>\n",
       "      <th>99</th>\n",
       "      <td>14.221320</td>\n",
       "      <td>19.5</td>\n",
       "    </tr>\n",
       "  </tbody>\n",
       "</table>\n",
       "<p>100 rows × 2 columns</p>\n",
       "</div>"
      ],
      "text/plain": [
       "    Val Predictions  Actuals\n",
       "0        269.151489    370.5\n",
       "1        269.147217    370.5\n",
       "2        269.146362    370.5\n",
       "3        269.145874    370.5\n",
       "4        269.145813    370.0\n",
       "..              ...      ...\n",
       "95        14.221318     19.5\n",
       "96        14.221320     19.5\n",
       "97        14.221320     19.5\n",
       "98        14.221320     19.5\n",
       "99        14.221320     19.5\n",
       "\n",
       "[100 rows x 2 columns]"
      ]
     },
     "execution_count": 42,
     "metadata": {},
     "output_type": "execute_result"
    }
   ],
   "source": [
    "#Validation set results\n",
    "val_predictions = model1.predict(X_val).flatten()\n",
    "val_results = pd.DataFrame(data={'Val Predictions':val_predictions, 'Actuals': y_val})\n",
    "val_results"
   ]
  },
  {
   "cell_type": "code",
   "execution_count": 43,
   "metadata": {},
   "outputs": [
    {
     "data": {
      "image/png": "[encoded data removed]",
      "text/plain": [
       "<Figure size 720x576 with 1 Axes>"
      ]
     },
     "metadata": {
      "needs_background": "light"
     },
     "output_type": "display_data"
    }
   ],
   "source": [
    "#plot validation set \n",
    "plt.figure(figsize = (10,8))\n",
    "plt.plot(val_results['Val Predictions'], label = 'DSCI Predictions')\n",
    "plt.plot(val_results['Actuals'], label = 'DSCI Actuals')\n",
    "plt.xlabel(\"Weeks\", fontsize=14)\n",
    "plt.ylabel(\"DSCI\", fontsize=14)\n",
    "plt.title(\"DSCI Predicitions vs Actuals, Validation\", fontsize=16)\n",
    "plt.legend()\n",
    "plt.savefig('fig3.png')"
   ]
  },
  {
   "cell_type": "code",
   "execution_count": 44,
   "metadata": {},
   "outputs": [
    {
     "data": {
      "text/html": [
       "<div>\n",
       "<style scoped>\n",
       "    .dataframe tbody tr th:only-of-type {\n",
       "        vertical-align: middle;\n",
       "    }\n",
       "\n",
       "    .dataframe tbody tr th {\n",
       "        vertical-align: top;\n",
       "    }\n",
       "\n",
       "    .dataframe thead th {\n",
       "        text-align: right;\n",
       "    }\n",
       "</style>\n",
       "<table border=\"1\" class=\"dataframe\">\n",
       "  <thead>\n",
       "    <tr style=\"text-align: right;\">\n",
       "      <th></th>\n",
       "      <th>Test Predictions</th>\n",
       "      <th>Actuals</th>\n",
       "    </tr>\n",
       "  </thead>\n",
       "  <tbody>\n",
       "    <tr>\n",
       "      <th>0</th>\n",
       "      <td>269.151489</td>\n",
       "      <td>370.5</td>\n",
       "    </tr>\n",
       "    <tr>\n",
       "      <th>1</th>\n",
       "      <td>269.147217</td>\n",
       "      <td>370.5</td>\n",
       "    </tr>\n",
       "    <tr>\n",
       "      <th>2</th>\n",
       "      <td>269.146362</td>\n",
       "      <td>370.5</td>\n",
       "    </tr>\n",
       "    <tr>\n",
       "      <th>3</th>\n",
       "      <td>269.145874</td>\n",
       "      <td>370.5</td>\n",
       "    </tr>\n",
       "    <tr>\n",
       "      <th>4</th>\n",
       "      <td>269.145813</td>\n",
       "      <td>370.0</td>\n",
       "    </tr>\n",
       "    <tr>\n",
       "      <th>...</th>\n",
       "      <td>...</td>\n",
       "      <td>...</td>\n",
       "    </tr>\n",
       "    <tr>\n",
       "      <th>95</th>\n",
       "      <td>14.221318</td>\n",
       "      <td>19.5</td>\n",
       "    </tr>\n",
       "    <tr>\n",
       "      <th>96</th>\n",
       "      <td>14.221320</td>\n",
       "      <td>19.5</td>\n",
       "    </tr>\n",
       "    <tr>\n",
       "      <th>97</th>\n",
       "      <td>14.221320</td>\n",
       "      <td>19.5</td>\n",
       "    </tr>\n",
       "    <tr>\n",
       "      <th>98</th>\n",
       "      <td>14.221320</td>\n",
       "      <td>19.5</td>\n",
       "    </tr>\n",
       "    <tr>\n",
       "      <th>99</th>\n",
       "      <td>14.221320</td>\n",
       "      <td>19.5</td>\n",
       "    </tr>\n",
       "  </tbody>\n",
       "</table>\n",
       "<p>100 rows × 2 columns</p>\n",
       "</div>"
      ],
      "text/plain": [
       "    Test Predictions  Actuals\n",
       "0         269.151489    370.5\n",
       "1         269.147217    370.5\n",
       "2         269.146362    370.5\n",
       "3         269.145874    370.5\n",
       "4         269.145813    370.0\n",
       "..               ...      ...\n",
       "95         14.221318     19.5\n",
       "96         14.221320     19.5\n",
       "97         14.221320     19.5\n",
       "98         14.221320     19.5\n",
       "99         14.221320     19.5\n",
       "\n",
       "[100 rows x 2 columns]"
      ]
     },
     "execution_count": 44,
     "metadata": {},
     "output_type": "execute_result"
    }
   ],
   "source": [
    "test_predictions = model1.predict(X_test).flatten()\n",
    "test_results = pd.DataFrame(data={'Test Predictions':val_predictions, 'Actuals': y_val})\n",
    "test_results"
   ]
  },
  {
   "cell_type": "code",
   "execution_count": 46,
   "metadata": {},
   "outputs": [
    {
     "data": {
      "text/plain": [
       "<matplotlib.legend.Legend at 0x7feac2c2bc10>"
      ]
     },
     "execution_count": 46,
     "metadata": {},
     "output_type": "execute_result"
    },
    {
     "data": {
      "image/png": "[encoded data removed]",
      "text/plain": [
       "<Figure size 720x576 with 1 Axes>"
      ]
     },
     "metadata": {
      "needs_background": "light"
     },
     "output_type": "display_data"
    }
   ],
   "source": [
    "plt.figure(figsize = (10,8))\n",
    "plt.plot(test_results['Test Predictions'], label = 'DSCI Predictions')\n",
    "plt.plot(test_results['Actuals'], label = 'DSCI Actuals')\n",
    "plt.xlabel(\"Weeks\", fontsize=14)\n",
    "plt.ylabel(\"DSCI\", fontsize=14)\n",
    "plt.title(\"DSCI Predicitions vs Actuals, Test Data\", fontsize=16)\n",
    "plt.legend()"
   ]
  },
  {
   "cell_type": "code",
   "execution_count": 48,
   "metadata": {},
   "outputs": [],
   "source": [
    "#plotting predictions \n",
    "from sklearn.metrics import mean_squared_error as mse\n",
    "\n",
    "def plot_predictions1(fignum, model, X, y, start = 0, end=100):\n",
    "    predictions = model.predict(X).flatten()\n",
    "    df = pd.DataFrame(data={'Predictions':predictions, 'Actuals':y})\n",
    "    plt.figure(figsize = (10,8))\n",
    "    plt.plot(df['Predictions'][start:end], label = 'DSCI Predictions')\n",
    "    plt.plot(df['Actuals'][start:end], label = 'DSCI Actuals' )\n",
    "    plt.xlabel(\"Weeks\", fontsize=14)\n",
    "    plt.ylabel(\"DSCI\", fontsize=14)\n",
    "    plt.title(\"DSCI Predicitions vs Actuals\", fontsize=16)\n",
    "    plt.legend()\n",
    "    return df, mse(y, predictions)"
   ]
  },
  {
   "cell_type": "code",
   "execution_count": 49,
   "metadata": {},
   "outputs": [
    {
     "data": {
      "text/plain": [
       "(     Predictions  Actuals\n",
       " 0      14.221320     19.5\n",
       " 1      14.221320     19.5\n",
       " 2      14.221320     19.5\n",
       " 3      14.221320     19.5\n",
       " 4      14.221320     19.5\n",
       " ..           ...      ...\n",
       " 184   266.438049    304.5\n",
       " 185   268.297180    306.5\n",
       " 186   268.590118    333.0\n",
       " 187   268.974121    345.5\n",
       " 188   269.069122    345.5\n",
       " \n",
       " [189 rows x 2 columns],\n",
       " 272.229981886015)"
      ]
     },
     "execution_count": 49,
     "metadata": {},
     "output_type": "execute_result"
    },
    {
     "data": {
      "image/png": "[encoded data removed]",
      "text/plain": [
       "<Figure size 720x576 with 1 Axes>"
      ]
     },
     "metadata": {
      "needs_background": "light"
     },
     "output_type": "display_data"
    }
   ],
   "source": [
    "plot_predictions1(5, model1, X_test, y_test)"
   ]
  },
  {
   "cell_type": "code",
   "execution_count": 50,
   "metadata": {},
   "outputs": [
    {
     "name": "stdout",
     "output_type": "stream",
     "text": [
      "Model: \"sequential_1\"\n",
      "_________________________________________________________________\n",
      " Layer (type)                Output Shape              Param #   \n",
      "=================================================================\n",
      " conv1d (Conv1D)             (None, 4, 64)             192       \n",
      "                                                                 \n",
      " flatten (Flatten)           (None, 256)               0         \n",
      "                                                                 \n",
      " dense_2 (Dense)             (None, 8)                 2056      \n",
      "                                                                 \n",
      " dense_3 (Dense)             (None, 1)                 9         \n",
      "                                                                 \n",
      "=================================================================\n",
      "Total params: 2,257\n",
      "Trainable params: 2,257\n",
      "Non-trainable params: 0\n",
      "_________________________________________________________________\n",
      "Model: \"sequential_1\"\n",
      "_________________________________________________________________\n",
      " Layer (type)                Output Shape              Param #   \n",
      "=================================================================\n",
      " conv1d (Conv1D)             (None, 4, 64)             192       \n",
      "                                                                 \n",
      " flatten (Flatten)           (None, 256)               0         \n",
      "                                                                 \n",
      " dense_2 (Dense)             (None, 8)                 2056      \n",
      "                                                                 \n",
      " dense_3 (Dense)             (None, 1)                 9         \n",
      "                                                                 \n",
      "=================================================================\n",
      "Total params: 2,257\n",
      "Trainable params: 2,257\n",
      "Non-trainable params: 0\n",
      "_________________________________________________________________\n"
     ]
    }
   ],
   "source": [
    "model2 = Sequential()\n",
    "model2.add(InputLayer((5,1)))\n",
    "model2.add(Conv1D(64, kernel_size=2))\n",
    "model2.add(Flatten())\n",
    "model2.add(Dense(8, 'relu'))\n",
    "model2.add(Dense(1, 'linear'))\n",
    "model2.summary()\n",
    "\n",
    "model2.summary()"
   ]
  },
  {
   "cell_type": "code",
   "execution_count": 51,
   "metadata": {},
   "outputs": [],
   "source": [
    "cp2 = ModelCheckpoint('model2/', save_best_only=True)\n",
    "model2.compile(loss=MeanSquaredError(), optimizer = Adam(learning_rate=0.005), metrics=[RootMeanSquaredError()])"
   ]
  },
  {
   "cell_type": "code",
   "execution_count": 52,
   "metadata": {},
   "outputs": [
    {
     "name": "stdout",
     "output_type": "stream",
     "text": [
      "Epoch 1/10\n",
      " 1/24 [>.............................] - ETA: 7s - loss: 44178.9258 - root_mean_squared_error: 210.1878INFO:tensorflow:Assets written to: model2/assets\n"
     ]
    },
    {
     "name": "stderr",
     "output_type": "stream",
     "text": [
      "INFO:tensorflow:Assets written to: model2/assets\n"
     ]
    },
    {
     "name": "stdout",
     "output_type": "stream",
     "text": [
      "24/24 [==============================] - 1s 34ms/step - loss: 7204.7578 - root_mean_squared_error: 84.8808 - val_loss: 1460.0066 - val_root_mean_squared_error: 38.2100\n",
      "Epoch 2/10\n",
      " 1/24 [>.............................] - ETA: 0s - loss: 1237.6658 - root_mean_squared_error: 35.1805INFO:tensorflow:Assets written to: model2/assets\n"
     ]
    },
    {
     "name": "stderr",
     "output_type": "stream",
     "text": [
      "INFO:tensorflow:Assets written to: model2/assets\n"
     ]
    },
    {
     "name": "stdout",
     "output_type": "stream",
     "text": [
      "24/24 [==============================] - 0s 21ms/step - loss: 660.4294 - root_mean_squared_error: 25.6988 - val_loss: 330.3842 - val_root_mean_squared_error: 18.1765\n",
      "Epoch 3/10\n",
      "24/24 [==============================] - 0s 2ms/step - loss: 335.1135 - root_mean_squared_error: 18.3061 - val_loss: 344.4657 - val_root_mean_squared_error: 18.5598\n",
      "Epoch 4/10\n",
      "24/24 [==============================] - 0s 2ms/step - loss: 299.5768 - root_mean_squared_error: 17.3083 - val_loss: 331.4019 - val_root_mean_squared_error: 18.2044\n",
      "Epoch 5/10\n",
      "24/24 [==============================] - 0s 2ms/step - loss: 286.1831 - root_mean_squared_error: 16.9169 - val_loss: 343.3103 - val_root_mean_squared_error: 18.5286\n",
      "Epoch 6/10\n",
      " 1/24 [>.............................] - ETA: 0s - loss: 224.6627 - root_mean_squared_error: 14.9888INFO:tensorflow:Assets written to: model2/assets\n"
     ]
    },
    {
     "name": "stderr",
     "output_type": "stream",
     "text": [
      "INFO:tensorflow:Assets written to: model2/assets\n"
     ]
    },
    {
     "name": "stdout",
     "output_type": "stream",
     "text": [
      "24/24 [==============================] - 0s 20ms/step - loss: 281.6490 - root_mean_squared_error: 16.7824 - val_loss: 325.5139 - val_root_mean_squared_error: 18.0420\n",
      "Epoch 7/10\n",
      "24/24 [==============================] - 0s 2ms/step - loss: 272.4095 - root_mean_squared_error: 16.5048 - val_loss: 342.8838 - val_root_mean_squared_error: 18.5171\n",
      "Epoch 8/10\n",
      "24/24 [==============================] - 0s 2ms/step - loss: 263.8951 - root_mean_squared_error: 16.2448 - val_loss: 373.8310 - val_root_mean_squared_error: 19.3347\n",
      "Epoch 9/10\n",
      " 1/24 [>.............................] - ETA: 0s - loss: 169.2630 - root_mean_squared_error: 13.0101INFO:tensorflow:Assets written to: model2/assets\n"
     ]
    },
    {
     "name": "stderr",
     "output_type": "stream",
     "text": [
      "INFO:tensorflow:Assets written to: model2/assets\n"
     ]
    },
    {
     "name": "stdout",
     "output_type": "stream",
     "text": [
      "24/24 [==============================] - 0s 20ms/step - loss: 252.8874 - root_mean_squared_error: 15.9024 - val_loss: 290.8894 - val_root_mean_squared_error: 17.0555\n",
      "Epoch 10/10\n",
      "24/24 [==============================] - 0s 2ms/step - loss: 241.8121 - root_mean_squared_error: 15.5503 - val_loss: 316.5549 - val_root_mean_squared_error: 17.7920\n"
     ]
    }
   ],
   "source": [
    "history = (model2.fit(X_train, y_train, validation_data=(X_val, y_val), epochs=10, callbacks=[cp2]))"
   ]
  },
  {
   "cell_type": "code",
   "execution_count": 53,
   "metadata": {},
   "outputs": [
    {
     "data": {
      "text/html": [
       "<div>\n",
       "<style scoped>\n",
       "    .dataframe tbody tr th:only-of-type {\n",
       "        vertical-align: middle;\n",
       "    }\n",
       "\n",
       "    .dataframe tbody tr th {\n",
       "        vertical-align: top;\n",
       "    }\n",
       "\n",
       "    .dataframe thead th {\n",
       "        text-align: right;\n",
       "    }\n",
       "</style>\n",
       "<table border=\"1\" class=\"dataframe\">\n",
       "  <thead>\n",
       "    <tr style=\"text-align: right;\">\n",
       "      <th></th>\n",
       "      <th>loss</th>\n",
       "      <th>root_mean_squared_error</th>\n",
       "      <th>val_loss</th>\n",
       "      <th>val_root_mean_squared_error</th>\n",
       "    </tr>\n",
       "  </thead>\n",
       "  <tbody>\n",
       "    <tr>\n",
       "      <th>0</th>\n",
       "      <td>7204.757812</td>\n",
       "      <td>84.880844</td>\n",
       "      <td>1460.006592</td>\n",
       "      <td>38.210033</td>\n",
       "    </tr>\n",
       "    <tr>\n",
       "      <th>1</th>\n",
       "      <td>660.429443</td>\n",
       "      <td>25.698822</td>\n",
       "      <td>330.384186</td>\n",
       "      <td>18.176474</td>\n",
       "    </tr>\n",
       "    <tr>\n",
       "      <th>2</th>\n",
       "      <td>335.113464</td>\n",
       "      <td>18.306105</td>\n",
       "      <td>344.465698</td>\n",
       "      <td>18.559788</td>\n",
       "    </tr>\n",
       "    <tr>\n",
       "      <th>3</th>\n",
       "      <td>299.576782</td>\n",
       "      <td>17.308287</td>\n",
       "      <td>331.401947</td>\n",
       "      <td>18.204449</td>\n",
       "    </tr>\n",
       "    <tr>\n",
       "      <th>4</th>\n",
       "      <td>286.183105</td>\n",
       "      <td>16.916946</td>\n",
       "      <td>343.310272</td>\n",
       "      <td>18.528633</td>\n",
       "    </tr>\n",
       "    <tr>\n",
       "      <th>5</th>\n",
       "      <td>281.649048</td>\n",
       "      <td>16.782402</td>\n",
       "      <td>325.513916</td>\n",
       "      <td>18.042004</td>\n",
       "    </tr>\n",
       "    <tr>\n",
       "      <th>6</th>\n",
       "      <td>272.409485</td>\n",
       "      <td>16.504831</td>\n",
       "      <td>342.883820</td>\n",
       "      <td>18.517122</td>\n",
       "    </tr>\n",
       "    <tr>\n",
       "      <th>7</th>\n",
       "      <td>263.895050</td>\n",
       "      <td>16.244846</td>\n",
       "      <td>373.831024</td>\n",
       "      <td>19.334711</td>\n",
       "    </tr>\n",
       "    <tr>\n",
       "      <th>8</th>\n",
       "      <td>252.887390</td>\n",
       "      <td>15.902433</td>\n",
       "      <td>290.889404</td>\n",
       "      <td>17.055481</td>\n",
       "    </tr>\n",
       "    <tr>\n",
       "      <th>9</th>\n",
       "      <td>241.812119</td>\n",
       "      <td>15.550309</td>\n",
       "      <td>316.554871</td>\n",
       "      <td>17.791988</td>\n",
       "    </tr>\n",
       "  </tbody>\n",
       "</table>\n",
       "</div>"
      ],
      "text/plain": [
       "          loss  root_mean_squared_error     val_loss  \\\n",
       "0  7204.757812                84.880844  1460.006592   \n",
       "1   660.429443                25.698822   330.384186   \n",
       "2   335.113464                18.306105   344.465698   \n",
       "3   299.576782                17.308287   331.401947   \n",
       "4   286.183105                16.916946   343.310272   \n",
       "5   281.649048                16.782402   325.513916   \n",
       "6   272.409485                16.504831   342.883820   \n",
       "7   263.895050                16.244846   373.831024   \n",
       "8   252.887390                15.902433   290.889404   \n",
       "9   241.812119                15.550309   316.554871   \n",
       "\n",
       "   val_root_mean_squared_error  \n",
       "0                    38.210033  \n",
       "1                    18.176474  \n",
       "2                    18.559788  \n",
       "3                    18.204449  \n",
       "4                    18.528633  \n",
       "5                    18.042004  \n",
       "6                    18.517122  \n",
       "7                    19.334711  \n",
       "8                    17.055481  \n",
       "9                    17.791988  "
      ]
     },
     "execution_count": 53,
     "metadata": {},
     "output_type": "execute_result"
    }
   ],
   "source": [
    "history_df = pd.DataFrame(history.history)\n",
    "history_df"
   ]
  },
  {
   "cell_type": "code",
   "execution_count": 56,
   "metadata": {},
   "outputs": [
    {
     "data": {
      "text/plain": [
       "Text(0.5, 1.0, 'CNN MSE Loss')"
      ]
     },
     "execution_count": 56,
     "metadata": {},
     "output_type": "execute_result"
    },
    {
     "data": {
      "image/png": "[encoded data removed]",
      "text/plain": [
       "<Figure size 432x288 with 1 Axes>"
      ]
     },
     "metadata": {
      "needs_background": "light"
     },
     "output_type": "display_data"
    }
   ],
   "source": [
    "history_df.filter(like='loss').plot();\n",
    "plt.title(\"CNN MSE Loss\", fontsize=16)"
   ]
  },
  {
   "cell_type": "code",
   "execution_count": 57,
   "metadata": {},
   "outputs": [
    {
     "data": {
      "text/plain": [
       "(     Predictions  Actuals\n",
       " 0      19.868820     19.5\n",
       " 1      19.868820     19.5\n",
       " 2      19.868820     19.5\n",
       " 3      19.868820     19.5\n",
       " 4      19.868820     19.5\n",
       " ..           ...      ...\n",
       " 184   277.661377    304.5\n",
       " 185   284.787354    306.5\n",
       " 186   294.283569    333.0\n",
       " 187   305.605621    345.5\n",
       " 188   322.093384    345.5\n",
       " \n",
       " [189 rows x 2 columns],\n",
       " 417.4851862441947)"
      ]
     },
     "execution_count": 57,
     "metadata": {},
     "output_type": "execute_result"
    },
    {
     "data": {
      "image/png": "[encoded data removed]",
      "text/plain": [
       "<Figure size 720x576 with 1 Axes>"
      ]
     },
     "metadata": {
      "needs_background": "light"
     },
     "output_type": "display_data"
    }
   ],
   "source": [
    "plot_predictions1('cnn', model2, X_test, y_test)"
   ]
  },
  {
   "cell_type": "code",
   "execution_count": 58,
   "metadata": {},
   "outputs": [
    {
     "name": "stdout",
     "output_type": "stream",
     "text": [
      "Model: \"sequential_2\"\n",
      "_________________________________________________________________\n",
      " Layer (type)                Output Shape              Param #   \n",
      "=================================================================\n",
      " gru (GRU)                   (None, 64)                12864     \n",
      "                                                                 \n",
      " dense_4 (Dense)             (None, 8)                 520       \n",
      "                                                                 \n",
      " dense_5 (Dense)             (None, 1)                 9         \n",
      "                                                                 \n",
      "=================================================================\n",
      "Total params: 13,393\n",
      "Trainable params: 13,393\n",
      "Non-trainable params: 0\n",
      "_________________________________________________________________\n"
     ]
    }
   ],
   "source": [
    "model3 = Sequential()\n",
    "model3.add(InputLayer((5,1)))\n",
    "model3.add(GRU(64))\n",
    "model3.add(Dense(8, 'relu'))\n",
    "model3.add(Dense(1, 'linear'))\n",
    "model3.summary()"
   ]
  },
  {
   "cell_type": "code",
   "execution_count": 59,
   "metadata": {},
   "outputs": [],
   "source": [
    "cp3 = ModelCheckpoint('model3/', save_best_only=True)\n",
    "model3.compile(loss=MeanSquaredError(), optimizer = Adam(learning_rate=0.005), metrics=[RootMeanSquaredError()])"
   ]
  },
  {
   "cell_type": "code",
   "execution_count": 60,
   "metadata": {},
   "outputs": [
    {
     "name": "stdout",
     "output_type": "stream",
     "text": [
      "Epoch 1/10\n",
      "13/24 [===============>..............] - ETA: 0s - loss: 40107.2695 - root_mean_squared_error: 200.2680 "
     ]
    },
    {
     "name": "stderr",
     "output_type": "stream",
     "text": [
      "WARNING:absl:Found untraced functions such as gru_cell_layer_call_fn, gru_cell_layer_call_and_return_conditional_losses, gru_cell_layer_call_fn, gru_cell_layer_call_and_return_conditional_losses, gru_cell_layer_call_and_return_conditional_losses while saving (showing 5 of 5). These functions will not be directly callable after loading.\n"
     ]
    },
    {
     "name": "stdout",
     "output_type": "stream",
     "text": [
      "INFO:tensorflow:Assets written to: model3/assets\n"
     ]
    },
    {
     "name": "stderr",
     "output_type": "stream",
     "text": [
      "INFO:tensorflow:Assets written to: model3/assets\n",
      "WARNING:absl:<keras.layers.recurrent.GRUCell object at 0x7feac42f07c0> has the same name 'GRUCell' as a built-in Keras object. Consider renaming <class 'keras.layers.recurrent.GRUCell'> to avoid naming conflicts when loading with `tf.keras.models.load_model`. If renaming is not possible, pass the object in the `custom_objects` parameter of the load function.\n"
     ]
    },
    {
     "name": "stdout",
     "output_type": "stream",
     "text": [
      "24/24 [==============================] - 4s 120ms/step - loss: 40953.6016 - root_mean_squared_error: 202.3700 - val_loss: 64522.1719 - val_root_mean_squared_error: 254.0121\n",
      "Epoch 2/10\n",
      "18/24 [=====================>........] - ETA: 0s - loss: 37607.6875 - root_mean_squared_error: 193.9270"
     ]
    },
    {
     "name": "stderr",
     "output_type": "stream",
     "text": [
      "WARNING:absl:Found untraced functions such as gru_cell_layer_call_fn, gru_cell_layer_call_and_return_conditional_losses, gru_cell_layer_call_fn, gru_cell_layer_call_and_return_conditional_losses, gru_cell_layer_call_and_return_conditional_losses while saving (showing 5 of 5). These functions will not be directly callable after loading.\n"
     ]
    },
    {
     "name": "stdout",
     "output_type": "stream",
     "text": [
      "INFO:tensorflow:Assets written to: model3/assets\n"
     ]
    },
    {
     "name": "stderr",
     "output_type": "stream",
     "text": [
      "INFO:tensorflow:Assets written to: model3/assets\n",
      "WARNING:absl:<keras.layers.recurrent.GRUCell object at 0x7feac42f07c0> has the same name 'GRUCell' as a built-in Keras object. Consider renaming <class 'keras.layers.recurrent.GRUCell'> to avoid naming conflicts when loading with `tf.keras.models.load_model`. If renaming is not possible, pass the object in the `custom_objects` parameter of the load function.\n"
     ]
    },
    {
     "name": "stdout",
     "output_type": "stream",
     "text": [
      "24/24 [==============================] - 2s 102ms/step - loss: 35938.3164 - root_mean_squared_error: 189.5740 - val_loss: 56152.0547 - val_root_mean_squared_error: 236.9642\n",
      "Epoch 3/10\n",
      "17/24 [====================>.........] - ETA: 0s - loss: 30492.0293 - root_mean_squared_error: 174.6197"
     ]
    },
    {
     "name": "stderr",
     "output_type": "stream",
     "text": [
      "WARNING:absl:Found untraced functions such as gru_cell_layer_call_fn, gru_cell_layer_call_and_return_conditional_losses, gru_cell_layer_call_fn, gru_cell_layer_call_and_return_conditional_losses, gru_cell_layer_call_and_return_conditional_losses while saving (showing 5 of 5). These functions will not be directly callable after loading.\n"
     ]
    },
    {
     "name": "stdout",
     "output_type": "stream",
     "text": [
      "INFO:tensorflow:Assets written to: model3/assets\n"
     ]
    },
    {
     "name": "stderr",
     "output_type": "stream",
     "text": [
      "INFO:tensorflow:Assets written to: model3/assets\n",
      "WARNING:absl:<keras.layers.recurrent.GRUCell object at 0x7feac42f07c0> has the same name 'GRUCell' as a built-in Keras object. Consider renaming <class 'keras.layers.recurrent.GRUCell'> to avoid naming conflicts when loading with `tf.keras.models.load_model`. If renaming is not possible, pass the object in the `custom_objects` parameter of the load function.\n"
     ]
    },
    {
     "name": "stdout",
     "output_type": "stream",
     "text": [
      "24/24 [==============================] - 3s 111ms/step - loss: 29845.8828 - root_mean_squared_error: 172.7596 - val_loss: 46912.2383 - val_root_mean_squared_error: 216.5923\n",
      "Epoch 4/10\n",
      "16/24 [===================>..........] - ETA: 0s - loss: 24840.7832 - root_mean_squared_error: 157.6096"
     ]
    },
    {
     "name": "stderr",
     "output_type": "stream",
     "text": [
      "WARNING:absl:Found untraced functions such as gru_cell_layer_call_fn, gru_cell_layer_call_and_return_conditional_losses, gru_cell_layer_call_fn, gru_cell_layer_call_and_return_conditional_losses, gru_cell_layer_call_and_return_conditional_losses while saving (showing 5 of 5). These functions will not be directly callable after loading.\n"
     ]
    },
    {
     "name": "stdout",
     "output_type": "stream",
     "text": [
      "INFO:tensorflow:Assets written to: model3/assets\n"
     ]
    },
    {
     "name": "stderr",
     "output_type": "stream",
     "text": [
      "INFO:tensorflow:Assets written to: model3/assets\n",
      "WARNING:absl:<keras.layers.recurrent.GRUCell object at 0x7feac42f07c0> has the same name 'GRUCell' as a built-in Keras object. Consider renaming <class 'keras.layers.recurrent.GRUCell'> to avoid naming conflicts when loading with `tf.keras.models.load_model`. If renaming is not possible, pass the object in the `custom_objects` parameter of the load function.\n"
     ]
    },
    {
     "name": "stdout",
     "output_type": "stream",
     "text": [
      "24/24 [==============================] - 2s 98ms/step - loss: 23364.0605 - root_mean_squared_error: 152.8531 - val_loss: 37167.3359 - val_root_mean_squared_error: 192.7883\n",
      "Epoch 5/10\n",
      "19/24 [======================>.......] - ETA: 0s - loss: 17227.0488 - root_mean_squared_error: 131.2518"
     ]
    },
    {
     "name": "stderr",
     "output_type": "stream",
     "text": [
      "WARNING:absl:Found untraced functions such as gru_cell_layer_call_fn, gru_cell_layer_call_and_return_conditional_losses, gru_cell_layer_call_fn, gru_cell_layer_call_and_return_conditional_losses, gru_cell_layer_call_and_return_conditional_losses while saving (showing 5 of 5). These functions will not be directly callable after loading.\n"
     ]
    },
    {
     "name": "stdout",
     "output_type": "stream",
     "text": [
      "INFO:tensorflow:Assets written to: model3/assets\n"
     ]
    },
    {
     "name": "stderr",
     "output_type": "stream",
     "text": [
      "INFO:tensorflow:Assets written to: model3/assets\n",
      "WARNING:absl:<keras.layers.recurrent.GRUCell object at 0x7feac42f07c0> has the same name 'GRUCell' as a built-in Keras object. Consider renaming <class 'keras.layers.recurrent.GRUCell'> to avoid naming conflicts when loading with `tf.keras.models.load_model`. If renaming is not possible, pass the object in the `custom_objects` parameter of the load function.\n"
     ]
    },
    {
     "name": "stdout",
     "output_type": "stream",
     "text": [
      "24/24 [==============================] - 3s 111ms/step - loss: 17116.4805 - root_mean_squared_error: 130.8300 - val_loss: 27855.3398 - val_root_mean_squared_error: 166.8992\n",
      "Epoch 6/10\n",
      "18/24 [=====================>........] - ETA: 0s - loss: 12827.4658 - root_mean_squared_error: 113.2584"
     ]
    },
    {
     "name": "stderr",
     "output_type": "stream",
     "text": [
      "WARNING:absl:Found untraced functions such as gru_cell_layer_call_fn, gru_cell_layer_call_and_return_conditional_losses, gru_cell_layer_call_fn, gru_cell_layer_call_and_return_conditional_losses, gru_cell_layer_call_and_return_conditional_losses while saving (showing 5 of 5). These functions will not be directly callable after loading.\n"
     ]
    },
    {
     "name": "stdout",
     "output_type": "stream",
     "text": [
      "INFO:tensorflow:Assets written to: model3/assets\n"
     ]
    },
    {
     "name": "stderr",
     "output_type": "stream",
     "text": [
      "INFO:tensorflow:Assets written to: model3/assets\n",
      "WARNING:absl:<keras.layers.recurrent.GRUCell object at 0x7feac42f07c0> has the same name 'GRUCell' as a built-in Keras object. Consider renaming <class 'keras.layers.recurrent.GRUCell'> to avoid naming conflicts when loading with `tf.keras.models.load_model`. If renaming is not possible, pass the object in the `custom_objects` parameter of the load function.\n"
     ]
    },
    {
     "name": "stdout",
     "output_type": "stream",
     "text": [
      "24/24 [==============================] - 2s 97ms/step - loss: 11749.1689 - root_mean_squared_error: 108.3936 - val_loss: 19718.8887 - val_root_mean_squared_error: 140.4240\n",
      "Epoch 7/10\n",
      "20/24 [========================>.....] - ETA: 0s - loss: 8103.7744 - root_mean_squared_error: 90.0210"
     ]
    },
    {
     "name": "stderr",
     "output_type": "stream",
     "text": [
      "WARNING:absl:Found untraced functions such as gru_cell_layer_call_fn, gru_cell_layer_call_and_return_conditional_losses, gru_cell_layer_call_fn, gru_cell_layer_call_and_return_conditional_losses, gru_cell_layer_call_and_return_conditional_losses while saving (showing 5 of 5). These functions will not be directly callable after loading.\n"
     ]
    },
    {
     "name": "stdout",
     "output_type": "stream",
     "text": [
      "INFO:tensorflow:Assets written to: model3/assets\n"
     ]
    },
    {
     "name": "stderr",
     "output_type": "stream",
     "text": [
      "INFO:tensorflow:Assets written to: model3/assets\n",
      "WARNING:absl:<keras.layers.recurrent.GRUCell object at 0x7feac42f07c0> has the same name 'GRUCell' as a built-in Keras object. Consider renaming <class 'keras.layers.recurrent.GRUCell'> to avoid naming conflicts when loading with `tf.keras.models.load_model`. If renaming is not possible, pass the object in the `custom_objects` parameter of the load function.\n"
     ]
    },
    {
     "name": "stdout",
     "output_type": "stream",
     "text": [
      "24/24 [==============================] - 2s 108ms/step - loss: 7682.0415 - root_mean_squared_error: 87.6473 - val_loss: 13817.4229 - val_root_mean_squared_error: 117.5475\n",
      "Epoch 8/10\n",
      "21/24 [=========================>....] - ETA: 0s - loss: 5248.3403 - root_mean_squared_error: 72.4454"
     ]
    },
    {
     "name": "stderr",
     "output_type": "stream",
     "text": [
      "WARNING:absl:Found untraced functions such as gru_cell_layer_call_fn, gru_cell_layer_call_and_return_conditional_losses, gru_cell_layer_call_fn, gru_cell_layer_call_and_return_conditional_losses, gru_cell_layer_call_and_return_conditional_losses while saving (showing 5 of 5). These functions will not be directly callable after loading.\n"
     ]
    },
    {
     "name": "stdout",
     "output_type": "stream",
     "text": [
      "INFO:tensorflow:Assets written to: model3/assets\n"
     ]
    },
    {
     "name": "stderr",
     "output_type": "stream",
     "text": [
      "INFO:tensorflow:Assets written to: model3/assets\n",
      "WARNING:absl:<keras.layers.recurrent.GRUCell object at 0x7feac42f07c0> has the same name 'GRUCell' as a built-in Keras object. Consider renaming <class 'keras.layers.recurrent.GRUCell'> to avoid naming conflicts when loading with `tf.keras.models.load_model`. If renaming is not possible, pass the object in the `custom_objects` parameter of the load function.\n"
     ]
    },
    {
     "name": "stdout",
     "output_type": "stream",
     "text": [
      "24/24 [==============================] - 3s 131ms/step - loss: 5047.9531 - root_mean_squared_error: 71.0490 - val_loss: 9713.9326 - val_root_mean_squared_error: 98.5593\n",
      "Epoch 9/10\n",
      "16/24 [===================>..........] - ETA: 0s - loss: 3789.1040 - root_mean_squared_error: 61.5557"
     ]
    },
    {
     "name": "stderr",
     "output_type": "stream",
     "text": [
      "WARNING:absl:Found untraced functions such as gru_cell_layer_call_fn, gru_cell_layer_call_and_return_conditional_losses, gru_cell_layer_call_fn, gru_cell_layer_call_and_return_conditional_losses, gru_cell_layer_call_and_return_conditional_losses while saving (showing 5 of 5). These functions will not be directly callable after loading.\n"
     ]
    },
    {
     "name": "stdout",
     "output_type": "stream",
     "text": [
      "INFO:tensorflow:Assets written to: model3/assets\n"
     ]
    },
    {
     "name": "stderr",
     "output_type": "stream",
     "text": [
      "INFO:tensorflow:Assets written to: model3/assets\n",
      "WARNING:absl:<keras.layers.recurrent.GRUCell object at 0x7feac42f07c0> has the same name 'GRUCell' as a built-in Keras object. Consider renaming <class 'keras.layers.recurrent.GRUCell'> to avoid naming conflicts when loading with `tf.keras.models.load_model`. If renaming is not possible, pass the object in the `custom_objects` parameter of the load function.\n"
     ]
    },
    {
     "name": "stdout",
     "output_type": "stream",
     "text": [
      "24/24 [==============================] - 3s 113ms/step - loss: 3425.7791 - root_mean_squared_error: 58.5302 - val_loss: 6964.1914 - val_root_mean_squared_error: 83.4517\n",
      "Epoch 10/10\n",
      "16/24 [===================>..........] - ETA: 0s - loss: 2700.0950 - root_mean_squared_error: 51.9624"
     ]
    },
    {
     "name": "stderr",
     "output_type": "stream",
     "text": [
      "WARNING:absl:Found untraced functions such as gru_cell_layer_call_fn, gru_cell_layer_call_and_return_conditional_losses, gru_cell_layer_call_fn, gru_cell_layer_call_and_return_conditional_losses, gru_cell_layer_call_and_return_conditional_losses while saving (showing 5 of 5). These functions will not be directly callable after loading.\n"
     ]
    },
    {
     "name": "stdout",
     "output_type": "stream",
     "text": [
      "INFO:tensorflow:Assets written to: model3/assets\n"
     ]
    },
    {
     "name": "stderr",
     "output_type": "stream",
     "text": [
      "INFO:tensorflow:Assets written to: model3/assets\n",
      "WARNING:absl:<keras.layers.recurrent.GRUCell object at 0x7feac42f07c0> has the same name 'GRUCell' as a built-in Keras object. Consider renaming <class 'keras.layers.recurrent.GRUCell'> to avoid naming conflicts when loading with `tf.keras.models.load_model`. If renaming is not possible, pass the object in the `custom_objects` parameter of the load function.\n"
     ]
    },
    {
     "name": "stdout",
     "output_type": "stream",
     "text": [
      "24/24 [==============================] - 3s 132ms/step - loss: 2444.9695 - root_mean_squared_error: 49.4466 - val_loss: 5004.0039 - val_root_mean_squared_error: 70.7390\n"
     ]
    }
   ],
   "source": [
    "history = (model3.fit(X_train, y_train, validation_data=(X_val, y_val), epochs=10, callbacks=[cp3]))"
   ]
  },
  {
   "cell_type": "code",
   "execution_count": 61,
   "metadata": {},
   "outputs": [
    {
     "data": {
      "text/plain": [
       "(     Predictions  Actuals\n",
       " 0      21.633200     19.5\n",
       " 1      21.633200     19.5\n",
       " 2      21.633200     19.5\n",
       " 3      21.633200     19.5\n",
       " 4      21.633200     19.5\n",
       " ..           ...      ...\n",
       " 184   241.135452    304.5\n",
       " 185   241.211624    306.5\n",
       " 186   241.213120    333.0\n",
       " 187   241.219193    345.5\n",
       " 188   241.219513    345.5\n",
       " \n",
       " [189 rows x 2 columns],\n",
       " 405.52476863461914)"
      ]
     },
     "execution_count": 61,
     "metadata": {},
     "output_type": "execute_result"
    },
    {
     "data": {
      "image/png": "[encoded data removed]",
      "text/plain": [
       "<Figure size 720x576 with 1 Axes>"
      ]
     },
     "metadata": {
      "needs_background": "light"
     },
     "output_type": "display_data"
    }
   ],
   "source": [
    "plot_predictions1(7, model3, X_test, y_test)"
   ]
  },
  {
   "cell_type": "code",
   "execution_count": 62,
   "metadata": {},
   "outputs": [
    {
     "data": {
      "text/html": [
       "<div>\n",
       "<style scoped>\n",
       "    .dataframe tbody tr th:only-of-type {\n",
       "        vertical-align: middle;\n",
       "    }\n",
       "\n",
       "    .dataframe tbody tr th {\n",
       "        vertical-align: top;\n",
       "    }\n",
       "\n",
       "    .dataframe thead th {\n",
       "        text-align: right;\n",
       "    }\n",
       "</style>\n",
       "<table border=\"1\" class=\"dataframe\">\n",
       "  <thead>\n",
       "    <tr style=\"text-align: right;\">\n",
       "      <th></th>\n",
       "      <th>loss</th>\n",
       "      <th>root_mean_squared_error</th>\n",
       "      <th>val_loss</th>\n",
       "      <th>val_root_mean_squared_error</th>\n",
       "    </tr>\n",
       "  </thead>\n",
       "  <tbody>\n",
       "    <tr>\n",
       "      <th>0</th>\n",
       "      <td>40953.601562</td>\n",
       "      <td>202.369965</td>\n",
       "      <td>64522.171875</td>\n",
       "      <td>254.012146</td>\n",
       "    </tr>\n",
       "    <tr>\n",
       "      <th>1</th>\n",
       "      <td>35938.316406</td>\n",
       "      <td>189.574036</td>\n",
       "      <td>56152.054688</td>\n",
       "      <td>236.964249</td>\n",
       "    </tr>\n",
       "    <tr>\n",
       "      <th>2</th>\n",
       "      <td>29845.882812</td>\n",
       "      <td>172.759613</td>\n",
       "      <td>46912.238281</td>\n",
       "      <td>216.592331</td>\n",
       "    </tr>\n",
       "    <tr>\n",
       "      <th>3</th>\n",
       "      <td>23364.060547</td>\n",
       "      <td>152.853073</td>\n",
       "      <td>37167.335938</td>\n",
       "      <td>192.788315</td>\n",
       "    </tr>\n",
       "    <tr>\n",
       "      <th>4</th>\n",
       "      <td>17116.480469</td>\n",
       "      <td>130.829971</td>\n",
       "      <td>27855.339844</td>\n",
       "      <td>166.899185</td>\n",
       "    </tr>\n",
       "    <tr>\n",
       "      <th>5</th>\n",
       "      <td>11749.168945</td>\n",
       "      <td>108.393585</td>\n",
       "      <td>19718.888672</td>\n",
       "      <td>140.423965</td>\n",
       "    </tr>\n",
       "    <tr>\n",
       "      <th>6</th>\n",
       "      <td>7682.041504</td>\n",
       "      <td>87.647255</td>\n",
       "      <td>13817.422852</td>\n",
       "      <td>117.547531</td>\n",
       "    </tr>\n",
       "    <tr>\n",
       "      <th>7</th>\n",
       "      <td>5047.953125</td>\n",
       "      <td>71.048950</td>\n",
       "      <td>9713.932617</td>\n",
       "      <td>98.559288</td>\n",
       "    </tr>\n",
       "    <tr>\n",
       "      <th>8</th>\n",
       "      <td>3425.779053</td>\n",
       "      <td>58.530155</td>\n",
       "      <td>6964.191406</td>\n",
       "      <td>83.451729</td>\n",
       "    </tr>\n",
       "    <tr>\n",
       "      <th>9</th>\n",
       "      <td>2444.969482</td>\n",
       "      <td>49.446632</td>\n",
       "      <td>5004.003906</td>\n",
       "      <td>70.738983</td>\n",
       "    </tr>\n",
       "  </tbody>\n",
       "</table>\n",
       "</div>"
      ],
      "text/plain": [
       "           loss  root_mean_squared_error      val_loss  \\\n",
       "0  40953.601562               202.369965  64522.171875   \n",
       "1  35938.316406               189.574036  56152.054688   \n",
       "2  29845.882812               172.759613  46912.238281   \n",
       "3  23364.060547               152.853073  37167.335938   \n",
       "4  17116.480469               130.829971  27855.339844   \n",
       "5  11749.168945               108.393585  19718.888672   \n",
       "6   7682.041504                87.647255  13817.422852   \n",
       "7   5047.953125                71.048950   9713.932617   \n",
       "8   3425.779053                58.530155   6964.191406   \n",
       "9   2444.969482                49.446632   5004.003906   \n",
       "\n",
       "   val_root_mean_squared_error  \n",
       "0                   254.012146  \n",
       "1                   236.964249  \n",
       "2                   216.592331  \n",
       "3                   192.788315  \n",
       "4                   166.899185  \n",
       "5                   140.423965  \n",
       "6                   117.547531  \n",
       "7                    98.559288  \n",
       "8                    83.451729  \n",
       "9                    70.738983  "
      ]
     },
     "execution_count": 62,
     "metadata": {},
     "output_type": "execute_result"
    }
   ],
   "source": [
    "history_df = pd.DataFrame(history.history)\n",
    "history_df"
   ]
  },
  {
   "cell_type": "code",
   "execution_count": 65,
   "metadata": {},
   "outputs": [
    {
     "data": {
      "text/plain": [
       "Text(0.5, 1.0, 'GRU MSE Loss')"
      ]
     },
     "execution_count": 65,
     "metadata": {},
     "output_type": "execute_result"
    },
    {
     "data": {
      "image/png": "[encoded data removed]",
      "text/plain": [
       "<Figure size 432x288 with 1 Axes>"
      ]
     },
     "metadata": {
      "needs_background": "light"
     },
     "output_type": "display_data"
    }
   ],
   "source": [
    "history_df.filter(like='loss').plot();\n",
    "plt.title(\"GRU MSE Loss\", fontsize=16)\n"
   ]
  },
  {
   "cell_type": "code",
   "execution_count": 66,
   "metadata": {},
   "outputs": [
    {
     "data": {
      "text/html": [
       "<div>\n",
       "<style scoped>\n",
       "    .dataframe tbody tr th:only-of-type {\n",
       "        vertical-align: middle;\n",
       "    }\n",
       "\n",
       "    .dataframe tbody tr th {\n",
       "        vertical-align: top;\n",
       "    }\n",
       "\n",
       "    .dataframe thead th {\n",
       "        text-align: right;\n",
       "    }\n",
       "</style>\n",
       "<table border=\"1\" class=\"dataframe\">\n",
       "  <thead>\n",
       "    <tr style=\"text-align: right;\">\n",
       "      <th></th>\n",
       "      <th>DSCI</th>\n",
       "      <th>Seconds</th>\n",
       "      <th>year sin</th>\n",
       "      <th>year cos</th>\n",
       "    </tr>\n",
       "    <tr>\n",
       "      <th>ValidEnd</th>\n",
       "      <th></th>\n",
       "      <th></th>\n",
       "      <th></th>\n",
       "      <th></th>\n",
       "    </tr>\n",
       "  </thead>\n",
       "  <tbody>\n",
       "    <tr>\n",
       "      <th>2001-01-01</th>\n",
       "      <td>0.0</td>\n",
       "      <td>9.783072e+08</td>\n",
       "      <td>0.008300</td>\n",
       "      <td>0.999966</td>\n",
       "    </tr>\n",
       "    <tr>\n",
       "      <th>2001-01-08</th>\n",
       "      <td>15.5</td>\n",
       "      <td>9.789120e+08</td>\n",
       "      <td>0.128365</td>\n",
       "      <td>0.991727</td>\n",
       "    </tr>\n",
       "    <tr>\n",
       "      <th>2001-01-15</th>\n",
       "      <td>29.5</td>\n",
       "      <td>9.795168e+08</td>\n",
       "      <td>0.246570</td>\n",
       "      <td>0.969125</td>\n",
       "    </tr>\n",
       "    <tr>\n",
       "      <th>2001-01-22</th>\n",
       "      <td>15.0</td>\n",
       "      <td>9.801216e+08</td>\n",
       "      <td>0.361204</td>\n",
       "      <td>0.932487</td>\n",
       "    </tr>\n",
       "    <tr>\n",
       "      <th>2001-01-29</th>\n",
       "      <td>28.5</td>\n",
       "      <td>9.807264e+08</td>\n",
       "      <td>0.470607</td>\n",
       "      <td>0.882343</td>\n",
       "    </tr>\n",
       "    <tr>\n",
       "      <th>...</th>\n",
       "      <td>...</td>\n",
       "      <td>...</td>\n",
       "      <td>...</td>\n",
       "      <td>...</td>\n",
       "    </tr>\n",
       "    <tr>\n",
       "      <th>2020-11-30</th>\n",
       "      <td>304.5</td>\n",
       "      <td>1.606694e+09</td>\n",
       "      <td>-0.513800</td>\n",
       "      <td>0.857910</td>\n",
       "    </tr>\n",
       "    <tr>\n",
       "      <th>2020-12-07</th>\n",
       "      <td>306.5</td>\n",
       "      <td>1.607299e+09</td>\n",
       "      <td>-0.407020</td>\n",
       "      <td>0.913419</td>\n",
       "    </tr>\n",
       "    <tr>\n",
       "      <th>2020-12-14</th>\n",
       "      <td>333.0</td>\n",
       "      <td>1.607904e+09</td>\n",
       "      <td>-0.294344</td>\n",
       "      <td>0.955699</td>\n",
       "    </tr>\n",
       "    <tr>\n",
       "      <th>2020-12-21</th>\n",
       "      <td>345.5</td>\n",
       "      <td>1.608509e+09</td>\n",
       "      <td>-0.177406</td>\n",
       "      <td>0.984138</td>\n",
       "    </tr>\n",
       "    <tr>\n",
       "      <th>2020-12-28</th>\n",
       "      <td>345.5</td>\n",
       "      <td>1.609114e+09</td>\n",
       "      <td>-0.057898</td>\n",
       "      <td>0.998323</td>\n",
       "    </tr>\n",
       "  </tbody>\n",
       "</table>\n",
       "<p>1044 rows × 4 columns</p>\n",
       "</div>"
      ],
      "text/plain": [
       "             DSCI       Seconds  year sin  year cos\n",
       "ValidEnd                                           \n",
       "2001-01-01    0.0  9.783072e+08  0.008300  0.999966\n",
       "2001-01-08   15.5  9.789120e+08  0.128365  0.991727\n",
       "2001-01-15   29.5  9.795168e+08  0.246570  0.969125\n",
       "2001-01-22   15.0  9.801216e+08  0.361204  0.932487\n",
       "2001-01-29   28.5  9.807264e+08  0.470607  0.882343\n",
       "...           ...           ...       ...       ...\n",
       "2020-11-30  304.5  1.606694e+09 -0.513800  0.857910\n",
       "2020-12-07  306.5  1.607299e+09 -0.407020  0.913419\n",
       "2020-12-14  333.0  1.607904e+09 -0.294344  0.955699\n",
       "2020-12-21  345.5  1.608509e+09 -0.177406  0.984138\n",
       "2020-12-28  345.5  1.609114e+09 -0.057898  0.998323\n",
       "\n",
       "[1044 rows x 4 columns]"
      ]
     },
     "execution_count": 66,
     "metadata": {},
     "output_type": "execute_result"
    }
   ],
   "source": [
    "dsci_df = pd.DataFrame({'DSCI':west['DSCI']})\n",
    "dsci_df['Seconds']=dsci_df.index.map(pd.Timestamp.timestamp)\n",
    "\n",
    "day = 60*60*24\n",
    "year = 365.2425*day\n",
    "dsci_df['year sin'] = np.sin(dsci_df['Seconds'] * (2*np.pi/year))\n",
    "dsci_df['year cos'] = np.cos(dsci_df['Seconds'] * (2*np.pi/year))\n",
    "dsci_df"
   ]
  },
  {
   "cell_type": "code",
   "execution_count": 67,
   "metadata": {},
   "outputs": [],
   "source": [
    "dsci_df.drop('Seconds', axis=1, inplace=True)"
   ]
  },
  {
   "cell_type": "code",
   "execution_count": 68,
   "metadata": {},
   "outputs": [],
   "source": [
    "def df_to_X_y2(df, windowsize=6):\n",
    "    df_as_np = df.to_numpy()\n",
    "    X = []\n",
    "    y = []\n",
    "    for i in range(len(df_as_np)-windowsize):\n",
    "        row = [r for r in df_as_np[i:i+windowsize]]\n",
    "        X.append(row)\n",
    "        label = df_as_np[i+5][0]\n",
    "        y.append(label)\n",
    "    return np.array(X), np.array(y)"
   ]
  },
  {
   "cell_type": "code",
   "execution_count": 69,
   "metadata": {},
   "outputs": [
    {
     "data": {
      "text/plain": [
       "((1038, 6, 3), (1038,))"
      ]
     },
     "execution_count": 69,
     "metadata": {},
     "output_type": "execute_result"
    }
   ],
   "source": [
    "X2, y2 = df_to_X_y2(dsci_df)\n",
    "X2.shape, y2.shape"
   ]
  },
  {
   "cell_type": "code",
   "execution_count": 70,
   "metadata": {},
   "outputs": [],
   "source": [
    "X2_train, y2_train = X2[:750], y2[:750]\n",
    "X2_val, y2_val = X2[750:850], y2[750:850]\n",
    "X2_test, y2_test = X2[850:], y2[850:]"
   ]
  },
  {
   "cell_type": "code",
   "execution_count": 71,
   "metadata": {},
   "outputs": [],
   "source": [
    "dsci_training_mean = np.mean(X2_train[:, :, 0])\n",
    "temp_training_sd = np.std(X2_train[:, :, 0])\n",
    "\n",
    "def preprocess(X):\n",
    "    X[:, :, 0] = (X[:, :, 0] - dsci_training_mean/temp_training_sd)\n",
    "    return X\n"
   ]
  },
  {
   "cell_type": "code",
   "execution_count": 72,
   "metadata": {},
   "outputs": [
    {
     "data": {
      "text/plain": [
       "array([[[ 1.79446130e+01,  9.65598082e-01, -2.60039120e-01],\n",
       "        [ 1.79446130e+01,  9.27367405e-01, -3.74151970e-01],\n",
       "        [ 1.79446130e+01,  8.75705362e-01, -4.82845853e-01],\n",
       "        [ 1.79446130e+01,  8.11360193e-01, -5.84546523e-01],\n",
       "        [ 1.79446130e+01,  7.35263828e-01, -6.77781014e-01],\n",
       "        [ 1.79446130e+01,  6.48518397e-01, -7.61198981e-01]],\n",
       "\n",
       "       [[ 1.79446130e+01,  9.27367405e-01, -3.74151970e-01],\n",
       "        [ 1.79446130e+01,  8.75705362e-01, -4.82845853e-01],\n",
       "        [ 1.79446130e+01,  8.11360193e-01, -5.84546523e-01],\n",
       "        [ 1.79446130e+01,  7.35263828e-01, -6.77781014e-01],\n",
       "        [ 1.79446130e+01,  6.48518397e-01, -7.61198981e-01],\n",
       "        [ 1.79446130e+01,  5.52380262e-01, -8.33592254e-01]],\n",
       "\n",
       "       [[ 1.79446130e+01,  8.75705362e-01, -4.82845853e-01],\n",
       "        [ 1.79446130e+01,  8.11360193e-01, -5.84546523e-01],\n",
       "        [ 1.79446130e+01,  7.35263828e-01, -6.77781014e-01],\n",
       "        [ 1.79446130e+01,  6.48518397e-01, -7.61198981e-01],\n",
       "        [ 1.79446130e+01,  5.52380262e-01, -8.33592254e-01],\n",
       "        [ 1.79446130e+01,  4.48241823e-01, -8.93912338e-01]],\n",
       "\n",
       "       ...,\n",
       "\n",
       "       [[ 2.69944613e+02, -8.52780297e-01,  5.22269820e-01],\n",
       "        [ 2.69944613e+02, -7.83865196e-01,  6.20931038e-01],\n",
       "        [ 2.80944613e+02, -7.03597120e-01,  7.10599109e-01],\n",
       "        [ 2.80444613e+02, -6.13138616e-01,  7.89975340e-01],\n",
       "        [ 3.02944613e+02, -5.13799825e-01,  8.57910100e-01],\n",
       "        [ 3.04944613e+02, -4.07019503e-01,  9.13419468e-01]],\n",
       "\n",
       "       [[ 2.69944613e+02, -7.83865196e-01,  6.20931038e-01],\n",
       "        [ 2.80944613e+02, -7.03597120e-01,  7.10599109e-01],\n",
       "        [ 2.80444613e+02, -6.13138616e-01,  7.89975340e-01],\n",
       "        [ 3.02944613e+02, -5.13799825e-01,  8.57910100e-01],\n",
       "        [ 3.04944613e+02, -4.07019503e-01,  9.13419468e-01],\n",
       "        [ 3.31444613e+02, -2.94344185e-01,  9.55699483e-01]],\n",
       "\n",
       "       [[ 2.80944613e+02, -7.03597120e-01,  7.10599109e-01],\n",
       "        [ 2.80444613e+02, -6.13138616e-01,  7.89975340e-01],\n",
       "        [ 3.02944613e+02, -5.13799825e-01,  8.57910100e-01],\n",
       "        [ 3.04944613e+02, -4.07019503e-01,  9.13419468e-01],\n",
       "        [ 3.31444613e+02, -2.94344185e-01,  9.55699483e-01],\n",
       "        [ 3.43944613e+02, -1.77405783e-01,  9.84137789e-01]]])"
      ]
     },
     "execution_count": 72,
     "metadata": {},
     "output_type": "execute_result"
    }
   ],
   "source": [
    "preprocess(X2_train)\n",
    "preprocess(X2_val)\n",
    "preprocess(X2_test)"
   ]
  },
  {
   "cell_type": "code",
   "execution_count": 76,
   "metadata": {},
   "outputs": [],
   "source": [
    "tmax_dsci_df = pd.concat([west['avg_tmax'], dsci_df], axis=1)"
   ]
  },
  {
   "cell_type": "code",
   "execution_count": 77,
   "metadata": {},
   "outputs": [],
   "source": [
    "prcp_dsci_df = pd.concat([west['total_avg_prcp_inches'], dsci_df], axis=1)"
   ]
  },
  {
   "cell_type": "code",
   "execution_count": 78,
   "metadata": {},
   "outputs": [
    {
     "data": {
      "text/html": [
       "<div>\n",
       "<style scoped>\n",
       "    .dataframe tbody tr th:only-of-type {\n",
       "        vertical-align: middle;\n",
       "    }\n",
       "\n",
       "    .dataframe tbody tr th {\n",
       "        vertical-align: top;\n",
       "    }\n",
       "\n",
       "    .dataframe thead th {\n",
       "        text-align: right;\n",
       "    }\n",
       "</style>\n",
       "<table border=\"1\" class=\"dataframe\">\n",
       "  <thead>\n",
       "    <tr style=\"text-align: right;\">\n",
       "      <th></th>\n",
       "      <th>avg_tmax</th>\n",
       "      <th>DSCI</th>\n",
       "      <th>year sin</th>\n",
       "      <th>year cos</th>\n",
       "    </tr>\n",
       "    <tr>\n",
       "      <th>ValidEnd</th>\n",
       "      <th></th>\n",
       "      <th></th>\n",
       "      <th></th>\n",
       "      <th></th>\n",
       "    </tr>\n",
       "  </thead>\n",
       "  <tbody>\n",
       "    <tr>\n",
       "      <th>2001-01-01</th>\n",
       "      <td>55.340909</td>\n",
       "      <td>0.0</td>\n",
       "      <td>0.008300</td>\n",
       "      <td>0.999966</td>\n",
       "    </tr>\n",
       "    <tr>\n",
       "      <th>2001-01-08</th>\n",
       "      <td>56.907792</td>\n",
       "      <td>15.5</td>\n",
       "      <td>0.128365</td>\n",
       "      <td>0.991727</td>\n",
       "    </tr>\n",
       "    <tr>\n",
       "      <th>2001-01-15</th>\n",
       "      <td>45.813312</td>\n",
       "      <td>29.5</td>\n",
       "      <td>0.246570</td>\n",
       "      <td>0.969125</td>\n",
       "    </tr>\n",
       "    <tr>\n",
       "      <th>2001-01-22</th>\n",
       "      <td>47.125649</td>\n",
       "      <td>15.0</td>\n",
       "      <td>0.361204</td>\n",
       "      <td>0.932487</td>\n",
       "    </tr>\n",
       "    <tr>\n",
       "      <th>2001-01-29</th>\n",
       "      <td>46.303571</td>\n",
       "      <td>28.5</td>\n",
       "      <td>0.470607</td>\n",
       "      <td>0.882343</td>\n",
       "    </tr>\n",
       "  </tbody>\n",
       "</table>\n",
       "</div>"
      ],
      "text/plain": [
       "             avg_tmax  DSCI  year sin  year cos\n",
       "ValidEnd                                       \n",
       "2001-01-01  55.340909   0.0  0.008300  0.999966\n",
       "2001-01-08  56.907792  15.5  0.128365  0.991727\n",
       "2001-01-15  45.813312  29.5  0.246570  0.969125\n",
       "2001-01-22  47.125649  15.0  0.361204  0.932487\n",
       "2001-01-29  46.303571  28.5  0.470607  0.882343"
      ]
     },
     "execution_count": 78,
     "metadata": {},
     "output_type": "execute_result"
    }
   ],
   "source": [
    "tmax_dsci_df.head()"
   ]
  },
  {
   "cell_type": "code",
   "execution_count": 79,
   "metadata": {},
   "outputs": [
    {
     "data": {
      "text/html": [
       "<div>\n",
       "<style scoped>\n",
       "    .dataframe tbody tr th:only-of-type {\n",
       "        vertical-align: middle;\n",
       "    }\n",
       "\n",
       "    .dataframe tbody tr th {\n",
       "        vertical-align: top;\n",
       "    }\n",
       "\n",
       "    .dataframe thead th {\n",
       "        text-align: right;\n",
       "    }\n",
       "</style>\n",
       "<table border=\"1\" class=\"dataframe\">\n",
       "  <thead>\n",
       "    <tr style=\"text-align: right;\">\n",
       "      <th></th>\n",
       "      <th>total_avg_prcp_inches</th>\n",
       "      <th>DSCI</th>\n",
       "      <th>year sin</th>\n",
       "      <th>year cos</th>\n",
       "    </tr>\n",
       "    <tr>\n",
       "      <th>ValidEnd</th>\n",
       "      <th></th>\n",
       "      <th></th>\n",
       "      <th></th>\n",
       "      <th></th>\n",
       "    </tr>\n",
       "  </thead>\n",
       "  <tbody>\n",
       "    <tr>\n",
       "      <th>2001-01-01</th>\n",
       "      <td>0.000000</td>\n",
       "      <td>0.0</td>\n",
       "      <td>0.008300</td>\n",
       "      <td>0.999966</td>\n",
       "    </tr>\n",
       "    <tr>\n",
       "      <th>2001-01-08</th>\n",
       "      <td>0.573636</td>\n",
       "      <td>15.5</td>\n",
       "      <td>0.128365</td>\n",
       "      <td>0.991727</td>\n",
       "    </tr>\n",
       "    <tr>\n",
       "      <th>2001-01-15</th>\n",
       "      <td>1.895909</td>\n",
       "      <td>29.5</td>\n",
       "      <td>0.246570</td>\n",
       "      <td>0.969125</td>\n",
       "    </tr>\n",
       "    <tr>\n",
       "      <th>2001-01-22</th>\n",
       "      <td>0.072500</td>\n",
       "      <td>15.0</td>\n",
       "      <td>0.361204</td>\n",
       "      <td>0.932487</td>\n",
       "    </tr>\n",
       "    <tr>\n",
       "      <th>2001-01-29</th>\n",
       "      <td>1.511818</td>\n",
       "      <td>28.5</td>\n",
       "      <td>0.470607</td>\n",
       "      <td>0.882343</td>\n",
       "    </tr>\n",
       "  </tbody>\n",
       "</table>\n",
       "</div>"
      ],
      "text/plain": [
       "            total_avg_prcp_inches  DSCI  year sin  year cos\n",
       "ValidEnd                                                   \n",
       "2001-01-01               0.000000   0.0  0.008300  0.999966\n",
       "2001-01-08               0.573636  15.5  0.128365  0.991727\n",
       "2001-01-15               1.895909  29.5  0.246570  0.969125\n",
       "2001-01-22               0.072500  15.0  0.361204  0.932487\n",
       "2001-01-29               1.511818  28.5  0.470607  0.882343"
      ]
     },
     "execution_count": 79,
     "metadata": {},
     "output_type": "execute_result"
    }
   ],
   "source": [
    "prcp_dsci_df.head()"
   ]
  },
  {
   "cell_type": "code",
   "execution_count": 80,
   "metadata": {},
   "outputs": [],
   "source": [
    "def df_to_X_y3(df, windowsize=7):\n",
    "    df_as_np = df.to_numpy()\n",
    "    X = []\n",
    "    y = []\n",
    "    for i in range(len(df_as_np)-windowsize):\n",
    "        row = [r for r in df_as_np[i:i+windowsize]]\n",
    "        X.append(row)\n",
    "        label = df_as_np[i+windowsize][0], df_as_np[i+windowsize][1]\n",
    "        y.append(label)\n",
    "    return np.array(X), np.array(y)"
   ]
  },
  {
   "cell_type": "code",
   "execution_count": 81,
   "metadata": {},
   "outputs": [
    {
     "data": {
      "text/plain": [
       "((1037, 7, 4), (1037, 2))"
      ]
     },
     "execution_count": 81,
     "metadata": {},
     "output_type": "execute_result"
    }
   ],
   "source": [
    "X3, y3 = df_to_X_y3(prcp_dsci_df)\n",
    "X3.shape, y3.shape"
   ]
  },
  {
   "cell_type": "code",
   "execution_count": 82,
   "metadata": {},
   "outputs": [],
   "source": [
    "X3_train, y3_train = X3[:750], y3[:750]\n",
    "X3_val, y3_val = X3[750:850], y3[750:850]\n",
    "X3_test, y3_test = X3[850:], y3[850:]"
   ]
  },
  {
   "cell_type": "code",
   "execution_count": 83,
   "metadata": {},
   "outputs": [],
   "source": [
    "#Standardizing for Preprocessing. Followed video instructions, but could try a MinMax scaler next time\n",
    "prcp_training_mean3 = np.mean(X3_train[:, :, 0])\n",
    "prcp_training_std3 = np.mean(X3_train[:, :, 0])\n",
    "\n",
    "dsci_training_mean3 = np.mean(X3_train[:, :, 1])\n",
    "dsci_training_sd3 = np.std(X3_train[:, :, 1])\n",
    "\n",
    "def preprocess3(X):\n",
    "    X[:, :, 0] = (X[:, :, 0] - prcp_training_mean3/prcp_training_std3)\n",
    "    X[:, :, 1] = (X[:, :,1] - dsci_training_mean3/dsci_training_sd3)\n",
    "    return X\n",
    "def preprocess_out(X):\n",
    "    X[:, 0] = (X[:, 0] - prcp_training_mean3/prcp_training_std3)\n",
    "    X[:, 1] = (X[:,1] - dsci_training_mean3/dsci_training_sd3)\n",
    "    return X\n",
    "\n"
   ]
  },
  {
   "cell_type": "code",
   "execution_count": 84,
   "metadata": {},
   "outputs": [
    {
     "data": {
      "text/plain": [
       "array([[[-3.33333333e-02,  1.79432586e+01,  9.65598082e-01,\n",
       "         -2.60039120e-01],\n",
       "        [-2.27500000e-01,  1.79432586e+01,  9.27367405e-01,\n",
       "         -3.74151970e-01],\n",
       "        [-7.27500000e-01,  1.79432586e+01,  8.75705362e-01,\n",
       "         -4.82845853e-01],\n",
       "        ...,\n",
       "        [-7.60000000e-01,  1.79432586e+01,  7.35263828e-01,\n",
       "         -6.77781014e-01],\n",
       "        [-7.49166667e-01,  1.79432586e+01,  6.48518397e-01,\n",
       "         -7.61198981e-01],\n",
       "        [-9.82500000e-01,  1.79432586e+01,  5.52380262e-01,\n",
       "         -8.33592254e-01]],\n",
       "\n",
       "       [[-2.27500000e-01,  1.79432586e+01,  9.27367405e-01,\n",
       "         -3.74151970e-01],\n",
       "        [-7.27500000e-01,  1.79432586e+01,  8.75705362e-01,\n",
       "         -4.82845853e-01],\n",
       "        [-5.22500000e-01,  1.79432586e+01,  8.11360193e-01,\n",
       "         -5.84546523e-01],\n",
       "        ...,\n",
       "        [-7.49166667e-01,  1.79432586e+01,  6.48518397e-01,\n",
       "         -7.61198981e-01],\n",
       "        [-9.82500000e-01,  1.79432586e+01,  5.52380262e-01,\n",
       "         -8.33592254e-01],\n",
       "        [-9.65000000e-01,  1.79432586e+01,  4.48241823e-01,\n",
       "         -8.93912338e-01]],\n",
       "\n",
       "       [[-7.27500000e-01,  1.79432586e+01,  8.75705362e-01,\n",
       "         -4.82845853e-01],\n",
       "        [-5.22500000e-01,  1.79432586e+01,  8.11360193e-01,\n",
       "         -5.84546523e-01],\n",
       "        [-7.60000000e-01,  1.79432586e+01,  7.35263828e-01,\n",
       "         -6.77781014e-01],\n",
       "        ...,\n",
       "        [-9.82500000e-01,  1.79432586e+01,  5.52380262e-01,\n",
       "         -8.33592254e-01],\n",
       "        [-9.65000000e-01,  1.79432586e+01,  4.48241823e-01,\n",
       "         -8.93912338e-01],\n",
       "        [-2.50833333e-01,  1.79432586e+01,  3.37611351e-01,\n",
       "         -9.41285597e-01]],\n",
       "\n",
       "       ...,\n",
       "\n",
       "       [[-9.83333333e-01,  2.69943259e+02, -9.09344302e-01,\n",
       "          4.16044398e-01],\n",
       "        [-1.00000000e+00,  2.69943259e+02, -8.52780297e-01,\n",
       "          5.22269820e-01],\n",
       "        [-2.33409091e-01,  2.69943259e+02, -7.83865196e-01,\n",
       "          6.20931038e-01],\n",
       "        ...,\n",
       "        [-3.73181818e-01,  2.80443259e+02, -6.13138616e-01,\n",
       "          7.89975340e-01],\n",
       "        [-9.21893939e-01,  3.02943259e+02, -5.13799825e-01,\n",
       "          8.57910100e-01],\n",
       "        [-9.24545455e-01,  3.04943259e+02, -4.07019503e-01,\n",
       "          9.13419468e-01]],\n",
       "\n",
       "       [[-1.00000000e+00,  2.69943259e+02, -8.52780297e-01,\n",
       "          5.22269820e-01],\n",
       "        [-2.33409091e-01,  2.69943259e+02, -7.83865196e-01,\n",
       "          6.20931038e-01],\n",
       "        [-4.62727273e-01,  2.80943259e+02, -7.03597120e-01,\n",
       "          7.10599109e-01],\n",
       "        ...,\n",
       "        [-9.21893939e-01,  3.02943259e+02, -5.13799825e-01,\n",
       "          8.57910100e-01],\n",
       "        [-9.24545455e-01,  3.04943259e+02, -4.07019503e-01,\n",
       "          9.13419468e-01],\n",
       "        [-9.25000000e-02,  3.31443259e+02, -2.94344185e-01,\n",
       "          9.55699483e-01]],\n",
       "\n",
       "       [[-2.33409091e-01,  2.69943259e+02, -7.83865196e-01,\n",
       "          6.20931038e-01],\n",
       "        [-4.62727273e-01,  2.80943259e+02, -7.03597120e-01,\n",
       "          7.10599109e-01],\n",
       "        [-3.73181818e-01,  2.80443259e+02, -6.13138616e-01,\n",
       "          7.89975340e-01],\n",
       "        ...,\n",
       "        [-9.24545455e-01,  3.04943259e+02, -4.07019503e-01,\n",
       "          9.13419468e-01],\n",
       "        [-9.25000000e-02,  3.31443259e+02, -2.94344185e-01,\n",
       "          9.55699483e-01],\n",
       "        [-2.74545455e-01,  3.43943259e+02, -1.77405783e-01,\n",
       "          9.84137789e-01]]])"
      ]
     },
     "execution_count": 84,
     "metadata": {},
     "output_type": "execute_result"
    }
   ],
   "source": [
    "preprocess3(X3_train)\n",
    "preprocess3(X3_val)\n",
    "preprocess3(X3_test)"
   ]
  },
  {
   "cell_type": "code",
   "execution_count": 85,
   "metadata": {},
   "outputs": [
    {
     "data": {
      "text/plain": [
       "array([[[-1.03333333e+00,  1.69432586e+01, -3.44019180e-02,\n",
       "         -1.26003912e+00],\n",
       "        [-1.78424143e+00,  1.63865171e+01, -6.29374023e-01,\n",
       "         -1.93089340e+00],\n",
       "        [-7.27500000e-01,  1.79432586e+01,  8.75705362e-01,\n",
       "         -4.82845853e-01],\n",
       "        ...,\n",
       "        [-7.60000000e-01,  1.79432586e+01,  7.35263828e-01,\n",
       "         -6.77781014e-01],\n",
       "        [-7.49166667e-01,  1.79432586e+01,  6.48518397e-01,\n",
       "         -7.61198981e-01],\n",
       "        [-9.82500000e-01,  1.79432586e+01,  5.52380262e-01,\n",
       "         -8.33592254e-01]],\n",
       "\n",
       "       [[-1.22750000e+00,  1.69432586e+01, -7.26325951e-02,\n",
       "         -1.37415197e+00],\n",
       "        [-2.28424143e+00,  1.63865171e+01, -6.81036065e-01,\n",
       "         -2.03958728e+00],\n",
       "        [-5.22500000e-01,  1.79432586e+01,  8.11360193e-01,\n",
       "         -5.84546523e-01],\n",
       "        ...,\n",
       "        [-7.49166667e-01,  1.79432586e+01,  6.48518397e-01,\n",
       "         -7.61198981e-01],\n",
       "        [-9.82500000e-01,  1.79432586e+01,  5.52380262e-01,\n",
       "         -8.33592254e-01],\n",
       "        [-9.65000000e-01,  1.79432586e+01,  4.48241823e-01,\n",
       "         -8.93912338e-01]],\n",
       "\n",
       "       [[-1.72750000e+00,  1.69432586e+01, -1.24294638e-01,\n",
       "         -1.48284585e+00],\n",
       "        [-2.07924143e+00,  1.63865171e+01, -7.45381235e-01,\n",
       "         -2.14128795e+00],\n",
       "        [-7.60000000e-01,  1.79432586e+01,  7.35263828e-01,\n",
       "         -6.77781014e-01],\n",
       "        ...,\n",
       "        [-9.82500000e-01,  1.79432586e+01,  5.52380262e-01,\n",
       "         -8.33592254e-01],\n",
       "        [-9.65000000e-01,  1.79432586e+01,  4.48241823e-01,\n",
       "         -8.93912338e-01],\n",
       "        [-2.50833333e-01,  1.79432586e+01,  3.37611351e-01,\n",
       "         -9.41285597e-01]],\n",
       "\n",
       "       ...,\n",
       "\n",
       "       [[-1.98333333e+00,  2.68943259e+02, -1.90934430e+00,\n",
       "         -5.83955602e-01],\n",
       "        [-2.55674143e+00,  2.68386517e+02, -2.40952172e+00,\n",
       "         -1.03447161e+00],\n",
       "        [-2.33409091e-01,  2.69943259e+02, -7.83865196e-01,\n",
       "          6.20931038e-01],\n",
       "        ...,\n",
       "        [-3.73181818e-01,  2.80443259e+02, -6.13138616e-01,\n",
       "          7.89975340e-01],\n",
       "        [-9.21893939e-01,  3.02943259e+02, -5.13799825e-01,\n",
       "          8.57910100e-01],\n",
       "        [-9.24545455e-01,  3.04943259e+02, -4.07019503e-01,\n",
       "          9.13419468e-01]],\n",
       "\n",
       "       [[-2.00000000e+00,  2.68943259e+02, -1.85278030e+00,\n",
       "         -4.77730180e-01],\n",
       "        [-1.79015052e+00,  2.68386517e+02, -2.34060662e+00,\n",
       "         -9.35810390e-01],\n",
       "        [-4.62727273e-01,  2.80943259e+02, -7.03597120e-01,\n",
       "          7.10599109e-01],\n",
       "        ...,\n",
       "        [-9.21893939e-01,  3.02943259e+02, -5.13799825e-01,\n",
       "          8.57910100e-01],\n",
       "        [-9.24545455e-01,  3.04943259e+02, -4.07019503e-01,\n",
       "          9.13419468e-01],\n",
       "        [-9.25000000e-02,  3.31443259e+02, -2.94344185e-01,\n",
       "          9.55699483e-01]],\n",
       "\n",
       "       [[-1.23340909e+00,  2.68943259e+02, -1.78386520e+00,\n",
       "         -3.79068962e-01],\n",
       "        [-2.01946870e+00,  2.79386517e+02, -2.26033855e+00,\n",
       "         -8.46142319e-01],\n",
       "        [-3.73181818e-01,  2.80443259e+02, -6.13138616e-01,\n",
       "          7.89975340e-01],\n",
       "        ...,\n",
       "        [-9.24545455e-01,  3.04943259e+02, -4.07019503e-01,\n",
       "          9.13419468e-01],\n",
       "        [-9.25000000e-02,  3.31443259e+02, -2.94344185e-01,\n",
       "          9.55699483e-01],\n",
       "        [-2.74545455e-01,  3.43943259e+02, -1.77405783e-01,\n",
       "          9.84137789e-01]]])"
      ]
     },
     "execution_count": 85,
     "metadata": {},
     "output_type": "execute_result"
    }
   ],
   "source": [
    "preprocess_out(X3_train)\n",
    "preprocess_out(X3_val)\n",
    "preprocess_out(X3_test)"
   ]
  },
  {
   "cell_type": "code",
   "execution_count": 86,
   "metadata": {},
   "outputs": [
    {
     "name": "stdout",
     "output_type": "stream",
     "text": [
      "Model: \"sequential_4\"\n",
      "_________________________________________________________________\n",
      " Layer (type)                Output Shape              Param #   \n",
      "=================================================================\n",
      " lstm_2 (LSTM)               (None, 64)                17664     \n",
      "                                                                 \n",
      " dense_8 (Dense)             (None, 8)                 520       \n",
      "                                                                 \n",
      " dense_9 (Dense)             (None, 2)                 18        \n",
      "                                                                 \n",
      "=================================================================\n",
      "Total params: 18,202\n",
      "Trainable params: 18,202\n",
      "Non-trainable params: 0\n",
      "_________________________________________________________________\n"
     ]
    }
   ],
   "source": [
    "model5 = Sequential()\n",
    "model5.add(InputLayer((7,4)))\n",
    "model5.add(LSTM(64))\n",
    "model5.add(Dense(8, 'relu'))\n",
    "model5.add(Dense(2, 'linear'))\n",
    "model5.summary()"
   ]
  },
  {
   "cell_type": "code",
   "execution_count": 87,
   "metadata": {},
   "outputs": [],
   "source": [
    "cp5 = ModelCheckpoint('model5/', save_best_only=True)\n",
    "model5.compile(loss=MeanSquaredError(), optimizer = Adam(learning_rate=0.005), metrics=[RootMeanSquaredError()])"
   ]
  },
  {
   "cell_type": "code",
   "execution_count": 88,
   "metadata": {},
   "outputs": [
    {
     "name": "stdout",
     "output_type": "stream",
     "text": [
      "Epoch 1/10\n",
      "13/24 [===============>..............] - ETA: 0s - loss: 21967.0215 - root_mean_squared_error: 148.2128 "
     ]
    },
    {
     "name": "stderr",
     "output_type": "stream",
     "text": [
      "WARNING:absl:Found untraced functions such as lstm_cell_3_layer_call_fn, lstm_cell_3_layer_call_and_return_conditional_losses, lstm_cell_3_layer_call_fn, lstm_cell_3_layer_call_and_return_conditional_losses, lstm_cell_3_layer_call_and_return_conditional_losses while saving (showing 5 of 5). These functions will not be directly callable after loading.\n"
     ]
    },
    {
     "name": "stdout",
     "output_type": "stream",
     "text": [
      "INFO:tensorflow:Assets written to: model5/assets\n"
     ]
    },
    {
     "name": "stderr",
     "output_type": "stream",
     "text": [
      "INFO:tensorflow:Assets written to: model5/assets\n",
      "WARNING:absl:<keras.layers.recurrent.LSTMCell object at 0x7feac31a7820> has the same name 'LSTMCell' as a built-in Keras object. Consider renaming <class 'keras.layers.recurrent.LSTMCell'> to avoid naming conflicts when loading with `tf.keras.models.load_model`. If renaming is not possible, pass the object in the `custom_objects` parameter of the load function.\n"
     ]
    },
    {
     "name": "stdout",
     "output_type": "stream",
     "text": [
      "24/24 [==============================] - 4s 137ms/step - loss: 21423.3965 - root_mean_squared_error: 146.3673 - val_loss: 32508.1543 - val_root_mean_squared_error: 180.3002\n",
      "Epoch 2/10\n",
      "15/24 [=================>............] - ETA: 0s - loss: 19172.2500 - root_mean_squared_error: 138.4639"
     ]
    },
    {
     "name": "stderr",
     "output_type": "stream",
     "text": [
      "WARNING:absl:Found untraced functions such as lstm_cell_3_layer_call_fn, lstm_cell_3_layer_call_and_return_conditional_losses, lstm_cell_3_layer_call_fn, lstm_cell_3_layer_call_and_return_conditional_losses, lstm_cell_3_layer_call_and_return_conditional_losses while saving (showing 5 of 5). These functions will not be directly callable after loading.\n"
     ]
    },
    {
     "name": "stdout",
     "output_type": "stream",
     "text": [
      "INFO:tensorflow:Assets written to: model5/assets\n"
     ]
    },
    {
     "name": "stderr",
     "output_type": "stream",
     "text": [
      "INFO:tensorflow:Assets written to: model5/assets\n",
      "WARNING:absl:<keras.layers.recurrent.LSTMCell object at 0x7feac31a7820> has the same name 'LSTMCell' as a built-in Keras object. Consider renaming <class 'keras.layers.recurrent.LSTMCell'> to avoid naming conflicts when loading with `tf.keras.models.load_model`. If renaming is not possible, pass the object in the `custom_objects` parameter of the load function.\n"
     ]
    },
    {
     "name": "stdout",
     "output_type": "stream",
     "text": [
      "24/24 [==============================] - 4s 160ms/step - loss: 18923.0938 - root_mean_squared_error: 137.5612 - val_loss: 27538.5449 - val_root_mean_squared_error: 165.9474\n",
      "Epoch 3/10\n",
      "16/24 [===================>..........] - ETA: 0s - loss: 16556.3672 - root_mean_squared_error: 128.6715"
     ]
    },
    {
     "name": "stderr",
     "output_type": "stream",
     "text": [
      "WARNING:absl:Found untraced functions such as lstm_cell_3_layer_call_fn, lstm_cell_3_layer_call_and_return_conditional_losses, lstm_cell_3_layer_call_fn, lstm_cell_3_layer_call_and_return_conditional_losses, lstm_cell_3_layer_call_and_return_conditional_losses while saving (showing 5 of 5). These functions will not be directly callable after loading.\n"
     ]
    },
    {
     "name": "stdout",
     "output_type": "stream",
     "text": [
      "INFO:tensorflow:Assets written to: model5/assets\n"
     ]
    },
    {
     "name": "stderr",
     "output_type": "stream",
     "text": [
      "INFO:tensorflow:Assets written to: model5/assets\n",
      "WARNING:absl:<keras.layers.recurrent.LSTMCell object at 0x7feac31a7820> has the same name 'LSTMCell' as a built-in Keras object. Consider renaming <class 'keras.layers.recurrent.LSTMCell'> to avoid naming conflicts when loading with `tf.keras.models.load_model`. If renaming is not possible, pass the object in the `custom_objects` parameter of the load function.\n"
     ]
    },
    {
     "name": "stdout",
     "output_type": "stream",
     "text": [
      "24/24 [==============================] - 3s 140ms/step - loss: 15199.5586 - root_mean_squared_error: 123.2865 - val_loss: 21882.7578 - val_root_mean_squared_error: 147.9282\n",
      "Epoch 4/10\n",
      "12/24 [==============>...............] - ETA: 0s - loss: 11570.0928 - root_mean_squared_error: 107.5644"
     ]
    },
    {
     "name": "stderr",
     "output_type": "stream",
     "text": [
      "WARNING:absl:Found untraced functions such as lstm_cell_3_layer_call_fn, lstm_cell_3_layer_call_and_return_conditional_losses, lstm_cell_3_layer_call_fn, lstm_cell_3_layer_call_and_return_conditional_losses, lstm_cell_3_layer_call_and_return_conditional_losses while saving (showing 5 of 5). These functions will not be directly callable after loading.\n"
     ]
    },
    {
     "name": "stdout",
     "output_type": "stream",
     "text": [
      "INFO:tensorflow:Assets written to: model5/assets\n"
     ]
    },
    {
     "name": "stderr",
     "output_type": "stream",
     "text": [
      "INFO:tensorflow:Assets written to: model5/assets\n",
      "WARNING:absl:<keras.layers.recurrent.LSTMCell object at 0x7feac31a7820> has the same name 'LSTMCell' as a built-in Keras object. Consider renaming <class 'keras.layers.recurrent.LSTMCell'> to avoid naming conflicts when loading with `tf.keras.models.load_model`. If renaming is not possible, pass the object in the `custom_objects` parameter of the load function.\n"
     ]
    },
    {
     "name": "stdout",
     "output_type": "stream",
     "text": [
      "24/24 [==============================] - 3s 110ms/step - loss: 10996.1357 - root_mean_squared_error: 104.8625 - val_loss: 15905.0791 - val_root_mean_squared_error: 126.1153\n",
      "Epoch 5/10\n",
      "16/24 [===================>..........] - ETA: 0s - loss: 8138.6357 - root_mean_squared_error: 90.2144"
     ]
    },
    {
     "name": "stderr",
     "output_type": "stream",
     "text": [
      "WARNING:absl:Found untraced functions such as lstm_cell_3_layer_call_fn, lstm_cell_3_layer_call_and_return_conditional_losses, lstm_cell_3_layer_call_fn, lstm_cell_3_layer_call_and_return_conditional_losses, lstm_cell_3_layer_call_and_return_conditional_losses while saving (showing 5 of 5). These functions will not be directly callable after loading.\n"
     ]
    },
    {
     "name": "stdout",
     "output_type": "stream",
     "text": [
      "INFO:tensorflow:Assets written to: model5/assets\n"
     ]
    },
    {
     "name": "stderr",
     "output_type": "stream",
     "text": [
      "INFO:tensorflow:Assets written to: model5/assets\n",
      "WARNING:absl:<keras.layers.recurrent.LSTMCell object at 0x7feac31a7820> has the same name 'LSTMCell' as a built-in Keras object. Consider renaming <class 'keras.layers.recurrent.LSTMCell'> to avoid naming conflicts when loading with `tf.keras.models.load_model`. If renaming is not possible, pass the object in the `custom_objects` parameter of the load function.\n"
     ]
    },
    {
     "name": "stdout",
     "output_type": "stream",
     "text": [
      "24/24 [==============================] - 3s 142ms/step - loss: 7138.1929 - root_mean_squared_error: 84.4878 - val_loss: 10261.5381 - val_root_mean_squared_error: 101.2992\n",
      "Epoch 6/10\n",
      "13/24 [===============>..............] - ETA: 0s - loss: 4189.3452 - root_mean_squared_error: 64.7252"
     ]
    },
    {
     "name": "stderr",
     "output_type": "stream",
     "text": [
      "WARNING:absl:Found untraced functions such as lstm_cell_3_layer_call_fn, lstm_cell_3_layer_call_and_return_conditional_losses, lstm_cell_3_layer_call_fn, lstm_cell_3_layer_call_and_return_conditional_losses, lstm_cell_3_layer_call_and_return_conditional_losses while saving (showing 5 of 5). These functions will not be directly callable after loading.\n"
     ]
    },
    {
     "name": "stdout",
     "output_type": "stream",
     "text": [
      "INFO:tensorflow:Assets written to: model5/assets\n"
     ]
    },
    {
     "name": "stderr",
     "output_type": "stream",
     "text": [
      "INFO:tensorflow:Assets written to: model5/assets\n",
      "WARNING:absl:<keras.layers.recurrent.LSTMCell object at 0x7feac31a7820> has the same name 'LSTMCell' as a built-in Keras object. Consider renaming <class 'keras.layers.recurrent.LSTMCell'> to avoid naming conflicts when loading with `tf.keras.models.load_model`. If renaming is not possible, pass the object in the `custom_objects` parameter of the load function.\n"
     ]
    },
    {
     "name": "stdout",
     "output_type": "stream",
     "text": [
      "24/24 [==============================] - 3s 141ms/step - loss: 4056.9500 - root_mean_squared_error: 63.6942 - val_loss: 6288.6401 - val_root_mean_squared_error: 79.3009\n",
      "Epoch 7/10\n",
      "21/24 [=========================>....] - ETA: 0s - loss: 2278.3103 - root_mean_squared_error: 47.7316"
     ]
    },
    {
     "name": "stderr",
     "output_type": "stream",
     "text": [
      "WARNING:absl:Found untraced functions such as lstm_cell_3_layer_call_fn, lstm_cell_3_layer_call_and_return_conditional_losses, lstm_cell_3_layer_call_fn, lstm_cell_3_layer_call_and_return_conditional_losses, lstm_cell_3_layer_call_and_return_conditional_losses while saving (showing 5 of 5). These functions will not be directly callable after loading.\n"
     ]
    },
    {
     "name": "stdout",
     "output_type": "stream",
     "text": [
      "INFO:tensorflow:Assets written to: model5/assets\n"
     ]
    },
    {
     "name": "stderr",
     "output_type": "stream",
     "text": [
      "INFO:tensorflow:Assets written to: model5/assets\n",
      "WARNING:absl:<keras.layers.recurrent.LSTMCell object at 0x7feac31a7820> has the same name 'LSTMCell' as a built-in Keras object. Consider renaming <class 'keras.layers.recurrent.LSTMCell'> to avoid naming conflicts when loading with `tf.keras.models.load_model`. If renaming is not possible, pass the object in the `custom_objects` parameter of the load function.\n"
     ]
    },
    {
     "name": "stdout",
     "output_type": "stream",
     "text": [
      "24/24 [==============================] - 3s 134ms/step - loss: 2293.9604 - root_mean_squared_error: 47.8953 - val_loss: 3872.8406 - val_root_mean_squared_error: 62.2322\n",
      "Epoch 8/10\n",
      "14/24 [================>.............] - ETA: 0s - loss: 1525.7262 - root_mean_squared_error: 39.0605"
     ]
    },
    {
     "name": "stderr",
     "output_type": "stream",
     "text": [
      "WARNING:absl:Found untraced functions such as lstm_cell_3_layer_call_fn, lstm_cell_3_layer_call_and_return_conditional_losses, lstm_cell_3_layer_call_fn, lstm_cell_3_layer_call_and_return_conditional_losses, lstm_cell_3_layer_call_and_return_conditional_losses while saving (showing 5 of 5). These functions will not be directly callable after loading.\n"
     ]
    },
    {
     "name": "stdout",
     "output_type": "stream",
     "text": [
      "INFO:tensorflow:Assets written to: model5/assets\n"
     ]
    },
    {
     "name": "stderr",
     "output_type": "stream",
     "text": [
      "INFO:tensorflow:Assets written to: model5/assets\n",
      "WARNING:absl:<keras.layers.recurrent.LSTMCell object at 0x7feac31a7820> has the same name 'LSTMCell' as a built-in Keras object. Consider renaming <class 'keras.layers.recurrent.LSTMCell'> to avoid naming conflicts when loading with `tf.keras.models.load_model`. If renaming is not possible, pass the object in the `custom_objects` parameter of the load function.\n"
     ]
    },
    {
     "name": "stdout",
     "output_type": "stream",
     "text": [
      "24/24 [==============================] - 4s 152ms/step - loss: 1403.6304 - root_mean_squared_error: 37.4651 - val_loss: 2504.5735 - val_root_mean_squared_error: 50.0457\n",
      "Epoch 9/10\n",
      "23/24 [===========================>..] - ETA: 0s - loss: 930.3464 - root_mean_squared_error: 30.5016"
     ]
    },
    {
     "name": "stderr",
     "output_type": "stream",
     "text": [
      "WARNING:absl:Found untraced functions such as lstm_cell_3_layer_call_fn, lstm_cell_3_layer_call_and_return_conditional_losses, lstm_cell_3_layer_call_fn, lstm_cell_3_layer_call_and_return_conditional_losses, lstm_cell_3_layer_call_and_return_conditional_losses while saving (showing 5 of 5). These functions will not be directly callable after loading.\n"
     ]
    },
    {
     "name": "stdout",
     "output_type": "stream",
     "text": [
      "INFO:tensorflow:Assets written to: model5/assets\n"
     ]
    },
    {
     "name": "stderr",
     "output_type": "stream",
     "text": [
      "INFO:tensorflow:Assets written to: model5/assets\n",
      "WARNING:absl:<keras.layers.recurrent.LSTMCell object at 0x7feac31a7820> has the same name 'LSTMCell' as a built-in Keras object. Consider renaming <class 'keras.layers.recurrent.LSTMCell'> to avoid naming conflicts when loading with `tf.keras.models.load_model`. If renaming is not possible, pass the object in the `custom_objects` parameter of the load function.\n"
     ]
    },
    {
     "name": "stdout",
     "output_type": "stream",
     "text": [
      "24/24 [==============================] - 3s 148ms/step - loss: 933.1204 - root_mean_squared_error: 30.5470 - val_loss: 1672.0652 - val_root_mean_squared_error: 40.8909\n",
      "Epoch 10/10\n",
      "13/24 [===============>..............] - ETA: 0s - loss: 794.8705 - root_mean_squared_error: 28.1934 "
     ]
    },
    {
     "name": "stderr",
     "output_type": "stream",
     "text": [
      "WARNING:absl:Found untraced functions such as lstm_cell_3_layer_call_fn, lstm_cell_3_layer_call_and_return_conditional_losses, lstm_cell_3_layer_call_fn, lstm_cell_3_layer_call_and_return_conditional_losses, lstm_cell_3_layer_call_and_return_conditional_losses while saving (showing 5 of 5). These functions will not be directly callable after loading.\n"
     ]
    },
    {
     "name": "stdout",
     "output_type": "stream",
     "text": [
      "INFO:tensorflow:Assets written to: model5/assets\n"
     ]
    },
    {
     "name": "stderr",
     "output_type": "stream",
     "text": [
      "INFO:tensorflow:Assets written to: model5/assets\n",
      "WARNING:absl:<keras.layers.recurrent.LSTMCell object at 0x7feac31a7820> has the same name 'LSTMCell' as a built-in Keras object. Consider renaming <class 'keras.layers.recurrent.LSTMCell'> to avoid naming conflicts when loading with `tf.keras.models.load_model`. If renaming is not possible, pass the object in the `custom_objects` parameter of the load function.\n"
     ]
    },
    {
     "name": "stdout",
     "output_type": "stream",
     "text": [
      "24/24 [==============================] - 3s 111ms/step - loss: 643.1550 - root_mean_squared_error: 25.3605 - val_loss: 1112.6915 - val_root_mean_squared_error: 33.3570\n"
     ]
    }
   ],
   "source": [
    "history = (model5.fit(X3_train, y3_train, validation_data=(X3_val, y3_val), epochs=10, callbacks=[cp5]))"
   ]
  },
  {
   "cell_type": "code",
   "execution_count": 89,
   "metadata": {},
   "outputs": [],
   "source": [
    "def plot_predictions2(fignum, model, X, y, start=0, end = 100):\n",
    "    predictions = model.predict(X)\n",
    "    prcp_preds, dsci_preds = predictions[:, 0], predictions[:, 1]\n",
    "    prcp_actuals, dsci_actuals = y[:, 0], y[:, 1]\n",
    "    df = pd.DataFrame(data= {\n",
    "        'Precipitation Predictions': prcp_preds, \n",
    "        'Precipitation Actuals': prcp_actuals,\n",
    "        'DSCI Pred': dsci_preds,\n",
    "        'DSCI Actuals': dsci_actuals\n",
    "        })\n",
    "    plt.plot(df['Precipitation Predictions'][start:end], label='Precipitation Pred')\n",
    "    plt.plot(df['Precipitation Actuals'][start:end], label='Precipitation Actual')\n",
    "    plt.plot(df['DSCI Pred'][start:end], label = 'DSCI Predictions')\n",
    "    plt.plot(df['DSCI Actuals'][start:end], label = 'DSCI Actuals')\n",
    "    plt.legend(loc= 'upper left')\n",
    "    plt.savefig(f'fig{fignum}.png')\n",
    "\n",
    "    return df[start:end]\n"
   ]
  },
  {
   "cell_type": "code",
   "execution_count": 90,
   "metadata": {},
   "outputs": [
    {
     "data": {
      "text/html": [
       "<div>\n",
       "<style scoped>\n",
       "    .dataframe tbody tr th:only-of-type {\n",
       "        vertical-align: middle;\n",
       "    }\n",
       "\n",
       "    .dataframe tbody tr th {\n",
       "        vertical-align: top;\n",
       "    }\n",
       "\n",
       "    .dataframe thead th {\n",
       "        text-align: right;\n",
       "    }\n",
       "</style>\n",
       "<table border=\"1\" class=\"dataframe\">\n",
       "  <thead>\n",
       "    <tr style=\"text-align: right;\">\n",
       "      <th></th>\n",
       "      <th>Precipitation Predictions</th>\n",
       "      <th>Precipitation Actuals</th>\n",
       "      <th>DSCI Pred</th>\n",
       "      <th>DSCI Actuals</th>\n",
       "    </tr>\n",
       "  </thead>\n",
       "  <tbody>\n",
       "    <tr>\n",
       "      <th>0</th>\n",
       "      <td>1.314578</td>\n",
       "      <td>0.035000</td>\n",
       "      <td>18.626205</td>\n",
       "      <td>19.5</td>\n",
       "    </tr>\n",
       "    <tr>\n",
       "      <th>1</th>\n",
       "      <td>1.314059</td>\n",
       "      <td>0.749167</td>\n",
       "      <td>18.673901</td>\n",
       "      <td>19.5</td>\n",
       "    </tr>\n",
       "    <tr>\n",
       "      <th>2</th>\n",
       "      <td>1.304832</td>\n",
       "      <td>0.023333</td>\n",
       "      <td>15.284334</td>\n",
       "      <td>19.5</td>\n",
       "    </tr>\n",
       "    <tr>\n",
       "      <th>3</th>\n",
       "      <td>1.302736</td>\n",
       "      <td>0.010000</td>\n",
       "      <td>18.031218</td>\n",
       "      <td>19.5</td>\n",
       "    </tr>\n",
       "    <tr>\n",
       "      <th>4</th>\n",
       "      <td>1.316851</td>\n",
       "      <td>0.005000</td>\n",
       "      <td>19.152168</td>\n",
       "      <td>19.5</td>\n",
       "    </tr>\n",
       "    <tr>\n",
       "      <th>...</th>\n",
       "      <td>...</td>\n",
       "      <td>...</td>\n",
       "      <td>...</td>\n",
       "      <td>...</td>\n",
       "    </tr>\n",
       "    <tr>\n",
       "      <th>95</th>\n",
       "      <td>1.287477</td>\n",
       "      <td>0.760000</td>\n",
       "      <td>16.500763</td>\n",
       "      <td>8.5</td>\n",
       "    </tr>\n",
       "    <tr>\n",
       "      <th>96</th>\n",
       "      <td>0.955018</td>\n",
       "      <td>1.267500</td>\n",
       "      <td>5.386814</td>\n",
       "      <td>8.5</td>\n",
       "    </tr>\n",
       "    <tr>\n",
       "      <th>97</th>\n",
       "      <td>0.861500</td>\n",
       "      <td>0.435000</td>\n",
       "      <td>6.508031</td>\n",
       "      <td>3.5</td>\n",
       "    </tr>\n",
       "    <tr>\n",
       "      <th>98</th>\n",
       "      <td>0.811578</td>\n",
       "      <td>0.490000</td>\n",
       "      <td>2.765819</td>\n",
       "      <td>3.0</td>\n",
       "    </tr>\n",
       "    <tr>\n",
       "      <th>99</th>\n",
       "      <td>0.779964</td>\n",
       "      <td>0.037500</td>\n",
       "      <td>4.256113</td>\n",
       "      <td>3.0</td>\n",
       "    </tr>\n",
       "  </tbody>\n",
       "</table>\n",
       "<p>100 rows × 4 columns</p>\n",
       "</div>"
      ],
      "text/plain": [
       "    Precipitation Predictions  Precipitation Actuals  DSCI Pred  DSCI Actuals\n",
       "0                    1.314578               0.035000  18.626205          19.5\n",
       "1                    1.314059               0.749167  18.673901          19.5\n",
       "2                    1.304832               0.023333  15.284334          19.5\n",
       "3                    1.302736               0.010000  18.031218          19.5\n",
       "4                    1.316851               0.005000  19.152168          19.5\n",
       "..                        ...                    ...        ...           ...\n",
       "95                   1.287477               0.760000  16.500763           8.5\n",
       "96                   0.955018               1.267500   5.386814           8.5\n",
       "97                   0.861500               0.435000   6.508031           3.5\n",
       "98                   0.811578               0.490000   2.765819           3.0\n",
       "99                   0.779964               0.037500   4.256113           3.0\n",
       "\n",
       "[100 rows x 4 columns]"
      ]
     },
     "execution_count": 90,
     "metadata": {},
     "output_type": "execute_result"
    },
    {
     "data": {
      "image/png": "[encoded data removed]",
      "text/plain": [
       "<Figure size 432x288 with 1 Axes>"
      ]
     },
     "metadata": {
      "needs_background": "light"
     },
     "output_type": "display_data"
    }
   ],
   "source": [
    "plot_predictions2(11, model5, X3_test, y3_test)"
   ]
  },
  {
   "cell_type": "markdown",
   "metadata": {},
   "source": []
  },
  {
   "cell_type": "code",
   "execution_count": 91,
   "metadata": {},
   "outputs": [],
   "source": [
    "def postprocess_dsci(arr):\n",
    "    arr = (arr*dsci_training_sd3) + dsci_training_mean3\n",
    "    return arr\n",
    "\n",
    "def postprocess_prcp(arr):\n",
    "    arr = (arr*prcp_training_std3) + prcp_training_mean3\n",
    "    return arr"
   ]
  },
  {
   "cell_type": "code",
   "execution_count": 92,
   "metadata": {},
   "outputs": [],
   "source": [
    "def plot_predictions2(fignum, model, X, y, start=0, end = 100):\n",
    "    predictions = model.predict(X)\n",
    "    prcp_preds, dsci_preds = postprocess_prcp(predictions[:, 0]), postprocess_dsci(predictions[:, 1])\n",
    "    prcp_actuals, dsci_actuals = postprocess_prcp(y[:, 0]), postprocess_dsci(y[:, 1])\n",
    "    df = pd.DataFrame(data= {\n",
    "        'Precipitation Predictions': prcp_preds, \n",
    "        'Precipitation Actuals': prcp_actuals,\n",
    "        'DSCI Pred': dsci_preds,\n",
    "        'DSCI Actuals': dsci_actuals\n",
    "        })\n",
    "    plt.plot(df['Precipitation Predictions'][start:end])\n",
    "    plt.plot(df['Precipitation Actuals'][start:end])\n",
    "    plt.plot(df['DSCI Pred'][start:end])\n",
    "    plt.plot(df['DSCI Actuals'][start:end])\n",
    "    plt.savefig(f'fig{str(fignum)}.png')\n",
    "    return df[start:end]"
   ]
  },
  {
   "cell_type": "code",
   "execution_count": 93,
   "metadata": {},
   "outputs": [
    {
     "data": {
      "image/png": "[encoded data removed]",
      "text/plain": [
       "<Figure size 432x288 with 1 Axes>"
      ]
     },
     "metadata": {
      "needs_background": "light"
     },
     "output_type": "display_data"
    }
   ],
   "source": [
    "post_processed_df = plot_predictions2(12, model5, X3_test, y3_test)"
   ]
  },
  {
   "cell_type": "code",
   "execution_count": 94,
   "metadata": {},
   "outputs": [
    {
     "data": {
      "text/plain": [
       "[<matplotlib.lines.Line2D at 0x7feac94b17f0>]"
      ]
     },
     "execution_count": 94,
     "metadata": {},
     "output_type": "execute_result"
    },
    {
     "data": {
      "image/png": "[encoded data removed]",
      "text/plain": [
       "<Figure size 432x288 with 1 Axes>"
      ]
     },
     "metadata": {
      "needs_background": "light"
     },
     "output_type": "display_data"
    }
   ],
   "source": [
    "start, end = 0, 100\n",
    "plt.plot(post_processed_df['DSCI Pred'][start: end])\n",
    "plt.plot(post_processed_df['DSCI Actuals'][start: end])"
   ]
  },
  {
   "cell_type": "code",
   "execution_count": 95,
   "metadata": {},
   "outputs": [
    {
     "data": {
      "text/plain": [
       "[<matplotlib.lines.Line2D at 0x7feac65056a0>]"
      ]
     },
     "execution_count": 95,
     "metadata": {},
     "output_type": "execute_result"
    },
    {
     "data": {
      "image/png": "[encoded data removed]",
      "text/plain": [
       "<Figure size 432x288 with 1 Axes>"
      ]
     },
     "metadata": {
      "needs_background": "light"
     },
     "output_type": "display_data"
    }
   ],
   "source": [
    "start, end = 0, 100\n",
    "plt.plot(post_processed_df['Precipitation Predictions'][start: end])\n",
    "plt.plot(post_processed_df['Precipitation Actuals'][start: end])"
   ]
  },
  {
   "cell_type": "code",
   "execution_count": 96,
   "metadata": {},
   "outputs": [
    {
     "data": {
      "text/html": [
       "<div>\n",
       "<style scoped>\n",
       "    .dataframe tbody tr th:only-of-type {\n",
       "        vertical-align: middle;\n",
       "    }\n",
       "\n",
       "    .dataframe tbody tr th {\n",
       "        vertical-align: top;\n",
       "    }\n",
       "\n",
       "    .dataframe thead th {\n",
       "        text-align: right;\n",
       "    }\n",
       "</style>\n",
       "<table border=\"1\" class=\"dataframe\">\n",
       "  <thead>\n",
       "    <tr style=\"text-align: right;\">\n",
       "      <th></th>\n",
       "      <th>loss</th>\n",
       "      <th>root_mean_squared_error</th>\n",
       "      <th>val_loss</th>\n",
       "      <th>val_root_mean_squared_error</th>\n",
       "    </tr>\n",
       "  </thead>\n",
       "  <tbody>\n",
       "    <tr>\n",
       "      <th>0</th>\n",
       "      <td>21423.396484</td>\n",
       "      <td>146.367325</td>\n",
       "      <td>32508.154297</td>\n",
       "      <td>180.300171</td>\n",
       "    </tr>\n",
       "    <tr>\n",
       "      <th>1</th>\n",
       "      <td>18923.093750</td>\n",
       "      <td>137.561234</td>\n",
       "      <td>27538.544922</td>\n",
       "      <td>165.947403</td>\n",
       "    </tr>\n",
       "    <tr>\n",
       "      <th>2</th>\n",
       "      <td>15199.558594</td>\n",
       "      <td>123.286476</td>\n",
       "      <td>21882.757812</td>\n",
       "      <td>147.928223</td>\n",
       "    </tr>\n",
       "    <tr>\n",
       "      <th>3</th>\n",
       "      <td>10996.135742</td>\n",
       "      <td>104.862457</td>\n",
       "      <td>15905.079102</td>\n",
       "      <td>126.115334</td>\n",
       "    </tr>\n",
       "    <tr>\n",
       "      <th>4</th>\n",
       "      <td>7138.192871</td>\n",
       "      <td>84.487823</td>\n",
       "      <td>10261.538086</td>\n",
       "      <td>101.299248</td>\n",
       "    </tr>\n",
       "    <tr>\n",
       "      <th>5</th>\n",
       "      <td>4056.949951</td>\n",
       "      <td>63.694191</td>\n",
       "      <td>6288.640137</td>\n",
       "      <td>79.300941</td>\n",
       "    </tr>\n",
       "    <tr>\n",
       "      <th>6</th>\n",
       "      <td>2293.960449</td>\n",
       "      <td>47.895306</td>\n",
       "      <td>3872.840576</td>\n",
       "      <td>62.232151</td>\n",
       "    </tr>\n",
       "    <tr>\n",
       "      <th>7</th>\n",
       "      <td>1403.630371</td>\n",
       "      <td>37.465054</td>\n",
       "      <td>2504.573486</td>\n",
       "      <td>50.045715</td>\n",
       "    </tr>\n",
       "    <tr>\n",
       "      <th>8</th>\n",
       "      <td>933.120361</td>\n",
       "      <td>30.547020</td>\n",
       "      <td>1672.065186</td>\n",
       "      <td>40.890892</td>\n",
       "    </tr>\n",
       "    <tr>\n",
       "      <th>9</th>\n",
       "      <td>643.155029</td>\n",
       "      <td>25.360502</td>\n",
       "      <td>1112.691528</td>\n",
       "      <td>33.357033</td>\n",
       "    </tr>\n",
       "  </tbody>\n",
       "</table>\n",
       "</div>"
      ],
      "text/plain": [
       "           loss  root_mean_squared_error      val_loss  \\\n",
       "0  21423.396484               146.367325  32508.154297   \n",
       "1  18923.093750               137.561234  27538.544922   \n",
       "2  15199.558594               123.286476  21882.757812   \n",
       "3  10996.135742               104.862457  15905.079102   \n",
       "4   7138.192871                84.487823  10261.538086   \n",
       "5   4056.949951                63.694191   6288.640137   \n",
       "6   2293.960449                47.895306   3872.840576   \n",
       "7   1403.630371                37.465054   2504.573486   \n",
       "8    933.120361                30.547020   1672.065186   \n",
       "9    643.155029                25.360502   1112.691528   \n",
       "\n",
       "   val_root_mean_squared_error  \n",
       "0                   180.300171  \n",
       "1                   165.947403  \n",
       "2                   147.928223  \n",
       "3                   126.115334  \n",
       "4                   101.299248  \n",
       "5                    79.300941  \n",
       "6                    62.232151  \n",
       "7                    50.045715  \n",
       "8                    40.890892  \n",
       "9                    33.357033  "
      ]
     },
     "execution_count": 96,
     "metadata": {},
     "output_type": "execute_result"
    }
   ],
   "source": [
    "history_df = pd.DataFrame(history.history)\n",
    "history_df"
   ]
  },
  {
   "cell_type": "code",
   "execution_count": 97,
   "metadata": {},
   "outputs": [
    {
     "data": {
      "image/png": "[encoded data removed]",
      "text/plain": [
       "<Figure size 432x288 with 1 Axes>"
      ]
     },
     "metadata": {
      "needs_background": "light"
     },
     "output_type": "display_data"
    }
   ],
   "source": [
    "history_df.filter(like='loss').plot();\n",
    "plt.title(\"LSTM MSE Loss (Precipitation & Time Features)\", fontsize=16)\n",
    "plt.savefig('fig13.png')"
   ]
  },
  {
   "cell_type": "code",
   "execution_count": 98,
   "metadata": {},
   "outputs": [
    {
     "data": {
      "text/plain": [
       "((1037, 7, 4), (1037, 2))"
      ]
     },
     "execution_count": 98,
     "metadata": {},
     "output_type": "execute_result"
    }
   ],
   "source": [
    "X4, y4 = df_to_X_y3(tmax_dsci_df)\n",
    "X4.shape, y4.shape"
   ]
  },
  {
   "cell_type": "code",
   "execution_count": 99,
   "metadata": {},
   "outputs": [],
   "source": [
    "X4_train, y4_train = X4[:750], y4[:750]\n",
    "X4_val, y4_val = X4[750:850], y4[750:850]\n",
    "X4_test, y4_test = X4[850:], y4[850:]"
   ]
  },
  {
   "cell_type": "code",
   "execution_count": 100,
   "metadata": {},
   "outputs": [
    {
     "data": {
      "text/plain": [
       "array([[[ 6.48452381e+01,  1.79432586e+01,  9.65598082e-01,\n",
       "         -2.60039120e-01],\n",
       "        [ 6.68095238e+01,  1.79432586e+01,  9.27367405e-01,\n",
       "         -3.74151970e-01],\n",
       "        [ 6.71130952e+01,  1.79432586e+01,  8.75705362e-01,\n",
       "         -4.82845853e-01],\n",
       "        ...,\n",
       "        [ 7.00535714e+01,  1.79432586e+01,  7.35263828e-01,\n",
       "         -6.77781014e-01],\n",
       "        [ 7.27797619e+01,  1.79432586e+01,  6.48518397e-01,\n",
       "         -7.61198981e-01],\n",
       "        [ 7.89464286e+01,  1.79432586e+01,  5.52380262e-01,\n",
       "         -8.33592254e-01]],\n",
       "\n",
       "       [[ 6.68095238e+01,  1.79432586e+01,  9.27367405e-01,\n",
       "         -3.74151970e-01],\n",
       "        [ 6.71130952e+01,  1.79432586e+01,  8.75705362e-01,\n",
       "         -4.82845853e-01],\n",
       "        [ 7.46130952e+01,  1.79432586e+01,  8.11360193e-01,\n",
       "         -5.84546523e-01],\n",
       "        ...,\n",
       "        [ 7.27797619e+01,  1.79432586e+01,  6.48518397e-01,\n",
       "         -7.61198981e-01],\n",
       "        [ 7.89464286e+01,  1.79432586e+01,  5.52380262e-01,\n",
       "         -8.33592254e-01],\n",
       "        [ 8.20535714e+01,  1.79432586e+01,  4.48241823e-01,\n",
       "         -8.93912338e-01]],\n",
       "\n",
       "       [[ 6.71130952e+01,  1.79432586e+01,  8.75705362e-01,\n",
       "         -4.82845853e-01],\n",
       "        [ 7.46130952e+01,  1.79432586e+01,  8.11360193e-01,\n",
       "         -5.84546523e-01],\n",
       "        [ 7.00535714e+01,  1.79432586e+01,  7.35263828e-01,\n",
       "         -6.77781014e-01],\n",
       "        ...,\n",
       "        [ 7.89464286e+01,  1.79432586e+01,  5.52380262e-01,\n",
       "         -8.33592254e-01],\n",
       "        [ 8.20535714e+01,  1.79432586e+01,  4.48241823e-01,\n",
       "         -8.93912338e-01],\n",
       "        [ 7.52559524e+01,  1.79432586e+01,  3.37611351e-01,\n",
       "         -9.41285597e-01]],\n",
       "\n",
       "       ...,\n",
       "\n",
       "       [[ 6.73023810e+01,  2.69943259e+02, -9.09344302e-01,\n",
       "          4.16044398e-01],\n",
       "        [ 7.28821429e+01,  2.69943259e+02, -8.52780297e-01,\n",
       "          5.22269820e-01],\n",
       "        [ 6.23613636e+01,  2.69943259e+02, -7.83865196e-01,\n",
       "          6.20931038e-01],\n",
       "        ...,\n",
       "        [ 5.82387987e+01,  2.80443259e+02, -6.13138616e-01,\n",
       "          7.89975340e-01],\n",
       "        [ 5.53215368e+01,  3.02943259e+02, -5.13799825e-01,\n",
       "          8.57910100e-01],\n",
       "        [ 5.64415584e+01,  3.04943259e+02, -4.07019503e-01,\n",
       "          9.13419468e-01]],\n",
       "\n",
       "       [[ 7.28821429e+01,  2.69943259e+02, -8.52780297e-01,\n",
       "          5.22269820e-01],\n",
       "        [ 6.23613636e+01,  2.69943259e+02, -7.83865196e-01,\n",
       "          6.20931038e-01],\n",
       "        [ 5.68425325e+01,  2.80943259e+02, -7.03597120e-01,\n",
       "          7.10599109e-01],\n",
       "        ...,\n",
       "        [ 5.53215368e+01,  3.02943259e+02, -5.13799825e-01,\n",
       "          8.57910100e-01],\n",
       "        [ 5.64415584e+01,  3.04943259e+02, -4.07019503e-01,\n",
       "          9.13419468e-01],\n",
       "        [ 5.15245671e+01,  3.31443259e+02, -2.94344185e-01,\n",
       "          9.55699483e-01]],\n",
       "\n",
       "       [[ 6.23613636e+01,  2.69943259e+02, -7.83865196e-01,\n",
       "          6.20931038e-01],\n",
       "        [ 5.68425325e+01,  2.80943259e+02, -7.03597120e-01,\n",
       "          7.10599109e-01],\n",
       "        [ 5.82387987e+01,  2.80443259e+02, -6.13138616e-01,\n",
       "          7.89975340e-01],\n",
       "        ...,\n",
       "        [ 5.64415584e+01,  3.04943259e+02, -4.07019503e-01,\n",
       "          9.13419468e-01],\n",
       "        [ 5.15245671e+01,  3.31443259e+02, -2.94344185e-01,\n",
       "          9.55699483e-01],\n",
       "        [ 5.25560065e+01,  3.43943259e+02, -1.77405783e-01,\n",
       "          9.84137789e-01]]])"
      ]
     },
     "execution_count": 100,
     "metadata": {},
     "output_type": "execute_result"
    }
   ],
   "source": [
    "preprocess3(X4_train)\n",
    "preprocess3(X4_val)\n",
    "preprocess3(X4_test)"
   ]
  },
  {
   "cell_type": "code",
   "execution_count": 101,
   "metadata": {},
   "outputs": [
    {
     "data": {
      "text/plain": [
       "array([[[ 6.38452381e+01,  1.69432586e+01, -3.44019180e-02,\n",
       "         -1.26003912e+00],\n",
       "        [ 6.52527824e+01,  1.63865171e+01, -6.29374023e-01,\n",
       "         -1.93089340e+00],\n",
       "        [ 6.71130952e+01,  1.79432586e+01,  8.75705362e-01,\n",
       "         -4.82845853e-01],\n",
       "        ...,\n",
       "        [ 7.00535714e+01,  1.79432586e+01,  7.35263828e-01,\n",
       "         -6.77781014e-01],\n",
       "        [ 7.27797619e+01,  1.79432586e+01,  6.48518397e-01,\n",
       "         -7.61198981e-01],\n",
       "        [ 7.89464286e+01,  1.79432586e+01,  5.52380262e-01,\n",
       "         -8.33592254e-01]],\n",
       "\n",
       "       [[ 6.58095238e+01,  1.69432586e+01, -7.26325951e-02,\n",
       "         -1.37415197e+00],\n",
       "        [ 6.55563538e+01,  1.63865171e+01, -6.81036065e-01,\n",
       "         -2.03958728e+00],\n",
       "        [ 7.46130952e+01,  1.79432586e+01,  8.11360193e-01,\n",
       "         -5.84546523e-01],\n",
       "        ...,\n",
       "        [ 7.27797619e+01,  1.79432586e+01,  6.48518397e-01,\n",
       "         -7.61198981e-01],\n",
       "        [ 7.89464286e+01,  1.79432586e+01,  5.52380262e-01,\n",
       "         -8.33592254e-01],\n",
       "        [ 8.20535714e+01,  1.79432586e+01,  4.48241823e-01,\n",
       "         -8.93912338e-01]],\n",
       "\n",
       "       [[ 6.61130952e+01,  1.69432586e+01, -1.24294638e-01,\n",
       "         -1.48284585e+00],\n",
       "        [ 7.30563538e+01,  1.63865171e+01, -7.45381235e-01,\n",
       "         -2.14128795e+00],\n",
       "        [ 7.00535714e+01,  1.79432586e+01,  7.35263828e-01,\n",
       "         -6.77781014e-01],\n",
       "        ...,\n",
       "        [ 7.89464286e+01,  1.79432586e+01,  5.52380262e-01,\n",
       "         -8.33592254e-01],\n",
       "        [ 8.20535714e+01,  1.79432586e+01,  4.48241823e-01,\n",
       "         -8.93912338e-01],\n",
       "        [ 7.52559524e+01,  1.79432586e+01,  3.37611351e-01,\n",
       "         -9.41285597e-01]],\n",
       "\n",
       "       ...,\n",
       "\n",
       "       [[ 6.63023810e+01,  2.68943259e+02, -1.90934430e+00,\n",
       "         -5.83955602e-01],\n",
       "        [ 7.13254014e+01,  2.68386517e+02, -2.40952172e+00,\n",
       "         -1.03447161e+00],\n",
       "        [ 6.23613636e+01,  2.69943259e+02, -7.83865196e-01,\n",
       "          6.20931038e-01],\n",
       "        ...,\n",
       "        [ 5.82387987e+01,  2.80443259e+02, -6.13138616e-01,\n",
       "          7.89975340e-01],\n",
       "        [ 5.53215368e+01,  3.02943259e+02, -5.13799825e-01,\n",
       "          8.57910100e-01],\n",
       "        [ 5.64415584e+01,  3.04943259e+02, -4.07019503e-01,\n",
       "          9.13419468e-01]],\n",
       "\n",
       "       [[ 7.18821429e+01,  2.68943259e+02, -1.85278030e+00,\n",
       "         -4.77730180e-01],\n",
       "        [ 6.08046222e+01,  2.68386517e+02, -2.34060662e+00,\n",
       "         -9.35810390e-01],\n",
       "        [ 5.68425325e+01,  2.80943259e+02, -7.03597120e-01,\n",
       "          7.10599109e-01],\n",
       "        ...,\n",
       "        [ 5.53215368e+01,  3.02943259e+02, -5.13799825e-01,\n",
       "          8.57910100e-01],\n",
       "        [ 5.64415584e+01,  3.04943259e+02, -4.07019503e-01,\n",
       "          9.13419468e-01],\n",
       "        [ 5.15245671e+01,  3.31443259e+02, -2.94344185e-01,\n",
       "          9.55699483e-01]],\n",
       "\n",
       "       [[ 6.13613636e+01,  2.68943259e+02, -1.78386520e+00,\n",
       "         -3.79068962e-01],\n",
       "        [ 5.52857910e+01,  2.79386517e+02, -2.26033855e+00,\n",
       "         -8.46142319e-01],\n",
       "        [ 5.82387987e+01,  2.80443259e+02, -6.13138616e-01,\n",
       "          7.89975340e-01],\n",
       "        ...,\n",
       "        [ 5.64415584e+01,  3.04943259e+02, -4.07019503e-01,\n",
       "          9.13419468e-01],\n",
       "        [ 5.15245671e+01,  3.31443259e+02, -2.94344185e-01,\n",
       "          9.55699483e-01],\n",
       "        [ 5.25560065e+01,  3.43943259e+02, -1.77405783e-01,\n",
       "          9.84137789e-01]]])"
      ]
     },
     "execution_count": 101,
     "metadata": {},
     "output_type": "execute_result"
    }
   ],
   "source": [
    "preprocess_out(X4_train)\n",
    "preprocess_out(X4_val)\n",
    "preprocess_out(X4_test)"
   ]
  },
  {
   "cell_type": "code",
   "execution_count": 102,
   "metadata": {},
   "outputs": [
    {
     "name": "stdout",
     "output_type": "stream",
     "text": [
      "Model: \"sequential_5\"\n",
      "_________________________________________________________________\n",
      " Layer (type)                Output Shape              Param #   \n",
      "=================================================================\n",
      " lstm_3 (LSTM)               (None, 64)                17664     \n",
      "                                                                 \n",
      " dense_10 (Dense)            (None, 8)                 520       \n",
      "                                                                 \n",
      " dense_11 (Dense)            (None, 2)                 18        \n",
      "                                                                 \n",
      "=================================================================\n",
      "Total params: 18,202\n",
      "Trainable params: 18,202\n",
      "Non-trainable params: 0\n",
      "_________________________________________________________________\n"
     ]
    }
   ],
   "source": [
    "model6 = Sequential()\n",
    "model6.add(InputLayer((7,4)))\n",
    "model6.add(LSTM(64))\n",
    "model6.add(Dense(8, 'relu'))\n",
    "model6.add(Dense(2, 'linear'))\n",
    "model6.summary()"
   ]
  },
  {
   "cell_type": "code",
   "execution_count": 103,
   "metadata": {},
   "outputs": [],
   "source": [
    "cp6 = ModelCheckpoint('model6/', save_best_only=True)\n",
    "model6.compile(loss=MeanSquaredError(), optimizer = Adam(learning_rate=0.005), metrics=[RootMeanSquaredError()])"
   ]
  },
  {
   "cell_type": "code",
   "execution_count": 104,
   "metadata": {},
   "outputs": [
    {
     "name": "stdout",
     "output_type": "stream",
     "text": [
      "Epoch 1/10\n",
      "13/24 [===============>..............] - ETA: 0s - loss: 24512.7832 - root_mean_squared_error: 156.5656 "
     ]
    },
    {
     "name": "stderr",
     "output_type": "stream",
     "text": [
      "WARNING:absl:Found untraced functions such as lstm_cell_4_layer_call_fn, lstm_cell_4_layer_call_and_return_conditional_losses, lstm_cell_4_layer_call_fn, lstm_cell_4_layer_call_and_return_conditional_losses, lstm_cell_4_layer_call_and_return_conditional_losses while saving (showing 5 of 5). These functions will not be directly callable after loading.\n"
     ]
    },
    {
     "name": "stdout",
     "output_type": "stream",
     "text": [
      "INFO:tensorflow:Assets written to: model6/assets\n"
     ]
    },
    {
     "name": "stderr",
     "output_type": "stream",
     "text": [
      "INFO:tensorflow:Assets written to: model6/assets\n",
      "WARNING:absl:<keras.layers.recurrent.LSTMCell object at 0x7feac96f2430> has the same name 'LSTMCell' as a built-in Keras object. Consider renaming <class 'keras.layers.recurrent.LSTMCell'> to avoid naming conflicts when loading with `tf.keras.models.load_model`. If renaming is not possible, pass the object in the `custom_objects` parameter of the load function.\n"
     ]
    },
    {
     "name": "stdout",
     "output_type": "stream",
     "text": [
      "24/24 [==============================] - 5s 144ms/step - loss: 23649.6328 - root_mean_squared_error: 153.7844 - val_loss: 34387.7227 - val_root_mean_squared_error: 185.4393\n",
      "Epoch 2/10\n",
      "16/24 [===================>..........] - ETA: 0s - loss: 20935.5508 - root_mean_squared_error: 144.6912"
     ]
    },
    {
     "name": "stderr",
     "output_type": "stream",
     "text": [
      "WARNING:absl:Found untraced functions such as lstm_cell_4_layer_call_fn, lstm_cell_4_layer_call_and_return_conditional_losses, lstm_cell_4_layer_call_fn, lstm_cell_4_layer_call_and_return_conditional_losses, lstm_cell_4_layer_call_and_return_conditional_losses while saving (showing 5 of 5). These functions will not be directly callable after loading.\n"
     ]
    },
    {
     "name": "stdout",
     "output_type": "stream",
     "text": [
      "INFO:tensorflow:Assets written to: model6/assets\n"
     ]
    },
    {
     "name": "stderr",
     "output_type": "stream",
     "text": [
      "INFO:tensorflow:Assets written to: model6/assets\n",
      "WARNING:absl:<keras.layers.recurrent.LSTMCell object at 0x7feac96f2430> has the same name 'LSTMCell' as a built-in Keras object. Consider renaming <class 'keras.layers.recurrent.LSTMCell'> to avoid naming conflicts when loading with `tf.keras.models.load_model`. If renaming is not possible, pass the object in the `custom_objects` parameter of the load function.\n"
     ]
    },
    {
     "name": "stdout",
     "output_type": "stream",
     "text": [
      "24/24 [==============================] - 3s 127ms/step - loss: 20761.2031 - root_mean_squared_error: 144.0875 - val_loss: 28733.9121 - val_root_mean_squared_error: 169.5108\n",
      "Epoch 3/10\n",
      "20/24 [========================>.....] - ETA: 0s - loss: 15492.2891 - root_mean_squared_error: 124.4680"
     ]
    },
    {
     "name": "stderr",
     "output_type": "stream",
     "text": [
      "WARNING:absl:Found untraced functions such as lstm_cell_4_layer_call_fn, lstm_cell_4_layer_call_and_return_conditional_losses, lstm_cell_4_layer_call_fn, lstm_cell_4_layer_call_and_return_conditional_losses, lstm_cell_4_layer_call_and_return_conditional_losses while saving (showing 5 of 5). These functions will not be directly callable after loading.\n"
     ]
    },
    {
     "name": "stdout",
     "output_type": "stream",
     "text": [
      "INFO:tensorflow:Assets written to: model6/assets\n"
     ]
    },
    {
     "name": "stderr",
     "output_type": "stream",
     "text": [
      "INFO:tensorflow:Assets written to: model6/assets\n",
      "WARNING:absl:<keras.layers.recurrent.LSTMCell object at 0x7feac96f2430> has the same name 'LSTMCell' as a built-in Keras object. Consider renaming <class 'keras.layers.recurrent.LSTMCell'> to avoid naming conflicts when loading with `tf.keras.models.load_model`. If renaming is not possible, pass the object in the `custom_objects` parameter of the load function.\n"
     ]
    },
    {
     "name": "stdout",
     "output_type": "stream",
     "text": [
      "24/24 [==============================] - 3s 125ms/step - loss: 15419.4346 - root_mean_squared_error: 124.1750 - val_loss: 20258.0820 - val_root_mean_squared_error: 142.3309\n",
      "Epoch 4/10\n",
      "24/24 [==============================] - ETA: 0s - loss: 9482.6309 - root_mean_squared_error: 97.3788  "
     ]
    },
    {
     "name": "stderr",
     "output_type": "stream",
     "text": [
      "WARNING:absl:Found untraced functions such as lstm_cell_4_layer_call_fn, lstm_cell_4_layer_call_and_return_conditional_losses, lstm_cell_4_layer_call_fn, lstm_cell_4_layer_call_and_return_conditional_losses, lstm_cell_4_layer_call_and_return_conditional_losses while saving (showing 5 of 5). These functions will not be directly callable after loading.\n"
     ]
    },
    {
     "name": "stdout",
     "output_type": "stream",
     "text": [
      "INFO:tensorflow:Assets written to: model6/assets\n"
     ]
    },
    {
     "name": "stderr",
     "output_type": "stream",
     "text": [
      "INFO:tensorflow:Assets written to: model6/assets\n",
      "WARNING:absl:<keras.layers.recurrent.LSTMCell object at 0x7feac96f2430> has the same name 'LSTMCell' as a built-in Keras object. Consider renaming <class 'keras.layers.recurrent.LSTMCell'> to avoid naming conflicts when loading with `tf.keras.models.load_model`. If renaming is not possible, pass the object in the `custom_objects` parameter of the load function.\n"
     ]
    },
    {
     "name": "stdout",
     "output_type": "stream",
     "text": [
      "24/24 [==============================] - 3s 125ms/step - loss: 9482.6309 - root_mean_squared_error: 97.3788 - val_loss: 12551.8760 - val_root_mean_squared_error: 112.0352\n",
      "Epoch 5/10\n",
      "22/24 [==========================>...] - ETA: 0s - loss: 5346.1011 - root_mean_squared_error: 73.1170"
     ]
    },
    {
     "name": "stderr",
     "output_type": "stream",
     "text": [
      "WARNING:absl:Found untraced functions such as lstm_cell_4_layer_call_fn, lstm_cell_4_layer_call_and_return_conditional_losses, lstm_cell_4_layer_call_fn, lstm_cell_4_layer_call_and_return_conditional_losses, lstm_cell_4_layer_call_and_return_conditional_losses while saving (showing 5 of 5). These functions will not be directly callable after loading.\n"
     ]
    },
    {
     "name": "stdout",
     "output_type": "stream",
     "text": [
      "INFO:tensorflow:Assets written to: model6/assets\n"
     ]
    },
    {
     "name": "stderr",
     "output_type": "stream",
     "text": [
      "INFO:tensorflow:Assets written to: model6/assets\n",
      "WARNING:absl:<keras.layers.recurrent.LSTMCell object at 0x7feac96f2430> has the same name 'LSTMCell' as a built-in Keras object. Consider renaming <class 'keras.layers.recurrent.LSTMCell'> to avoid naming conflicts when loading with `tf.keras.models.load_model`. If renaming is not possible, pass the object in the `custom_objects` parameter of the load function.\n"
     ]
    },
    {
     "name": "stdout",
     "output_type": "stream",
     "text": [
      "24/24 [==============================] - 3s 135ms/step - loss: 5273.3340 - root_mean_squared_error: 72.6177 - val_loss: 7070.0669 - val_root_mean_squared_error: 84.0837\n",
      "Epoch 6/10\n",
      "13/24 [===============>..............] - ETA: 0s - loss: 3459.9858 - root_mean_squared_error: 58.8216"
     ]
    },
    {
     "name": "stderr",
     "output_type": "stream",
     "text": [
      "WARNING:absl:Found untraced functions such as lstm_cell_4_layer_call_fn, lstm_cell_4_layer_call_and_return_conditional_losses, lstm_cell_4_layer_call_fn, lstm_cell_4_layer_call_and_return_conditional_losses, lstm_cell_4_layer_call_and_return_conditional_losses while saving (showing 5 of 5). These functions will not be directly callable after loading.\n"
     ]
    },
    {
     "name": "stdout",
     "output_type": "stream",
     "text": [
      "INFO:tensorflow:Assets written to: model6/assets\n"
     ]
    },
    {
     "name": "stderr",
     "output_type": "stream",
     "text": [
      "INFO:tensorflow:Assets written to: model6/assets\n",
      "WARNING:absl:<keras.layers.recurrent.LSTMCell object at 0x7feac96f2430> has the same name 'LSTMCell' as a built-in Keras object. Consider renaming <class 'keras.layers.recurrent.LSTMCell'> to avoid naming conflicts when loading with `tf.keras.models.load_model`. If renaming is not possible, pass the object in the `custom_objects` parameter of the load function.\n"
     ]
    },
    {
     "name": "stdout",
     "output_type": "stream",
     "text": [
      "24/24 [==============================] - 3s 125ms/step - loss: 2830.9104 - root_mean_squared_error: 53.2063 - val_loss: 4022.6306 - val_root_mean_squared_error: 63.4242\n",
      "Epoch 7/10\n",
      "11/24 [============>.................] - ETA: 0s - loss: 1687.3856 - root_mean_squared_error: 41.0778"
     ]
    },
    {
     "name": "stderr",
     "output_type": "stream",
     "text": [
      "WARNING:absl:Found untraced functions such as lstm_cell_4_layer_call_fn, lstm_cell_4_layer_call_and_return_conditional_losses, lstm_cell_4_layer_call_fn, lstm_cell_4_layer_call_and_return_conditional_losses, lstm_cell_4_layer_call_and_return_conditional_losses while saving (showing 5 of 5). These functions will not be directly callable after loading.\n"
     ]
    },
    {
     "name": "stdout",
     "output_type": "stream",
     "text": [
      "INFO:tensorflow:Assets written to: model6/assets\n"
     ]
    },
    {
     "name": "stderr",
     "output_type": "stream",
     "text": [
      "INFO:tensorflow:Assets written to: model6/assets\n",
      "WARNING:absl:<keras.layers.recurrent.LSTMCell object at 0x7feac96f2430> has the same name 'LSTMCell' as a built-in Keras object. Consider renaming <class 'keras.layers.recurrent.LSTMCell'> to avoid naming conflicts when loading with `tf.keras.models.load_model`. If renaming is not possible, pass the object in the `custom_objects` parameter of the load function.\n"
     ]
    },
    {
     "name": "stdout",
     "output_type": "stream",
     "text": [
      "24/24 [==============================] - 3s 142ms/step - loss: 1708.7258 - root_mean_squared_error: 41.3367 - val_loss: 2512.3701 - val_root_mean_squared_error: 50.1236\n",
      "Epoch 8/10\n",
      "14/24 [================>.............] - ETA: 0s - loss: 1421.6980 - root_mean_squared_error: 37.7054"
     ]
    },
    {
     "name": "stderr",
     "output_type": "stream",
     "text": [
      "WARNING:absl:Found untraced functions such as lstm_cell_4_layer_call_fn, lstm_cell_4_layer_call_and_return_conditional_losses, lstm_cell_4_layer_call_fn, lstm_cell_4_layer_call_and_return_conditional_losses, lstm_cell_4_layer_call_and_return_conditional_losses while saving (showing 5 of 5). These functions will not be directly callable after loading.\n"
     ]
    },
    {
     "name": "stdout",
     "output_type": "stream",
     "text": [
      "INFO:tensorflow:Assets written to: model6/assets\n"
     ]
    },
    {
     "name": "stderr",
     "output_type": "stream",
     "text": [
      "INFO:tensorflow:Assets written to: model6/assets\n",
      "WARNING:absl:<keras.layers.recurrent.LSTMCell object at 0x7feac96f2430> has the same name 'LSTMCell' as a built-in Keras object. Consider renaming <class 'keras.layers.recurrent.LSTMCell'> to avoid naming conflicts when loading with `tf.keras.models.load_model`. If renaming is not possible, pass the object in the `custom_objects` parameter of the load function.\n"
     ]
    },
    {
     "name": "stdout",
     "output_type": "stream",
     "text": [
      "24/24 [==============================] - 3s 134ms/step - loss: 1200.1399 - root_mean_squared_error: 34.6430 - val_loss: 1601.1289 - val_root_mean_squared_error: 40.0141\n",
      "Epoch 9/10\n",
      "21/24 [=========================>....] - ETA: 0s - loss: 901.7194 - root_mean_squared_error: 30.0286"
     ]
    },
    {
     "name": "stderr",
     "output_type": "stream",
     "text": [
      "WARNING:absl:Found untraced functions such as lstm_cell_4_layer_call_fn, lstm_cell_4_layer_call_and_return_conditional_losses, lstm_cell_4_layer_call_fn, lstm_cell_4_layer_call_and_return_conditional_losses, lstm_cell_4_layer_call_and_return_conditional_losses while saving (showing 5 of 5). These functions will not be directly callable after loading.\n"
     ]
    },
    {
     "name": "stdout",
     "output_type": "stream",
     "text": [
      "INFO:tensorflow:Assets written to: model6/assets\n"
     ]
    },
    {
     "name": "stderr",
     "output_type": "stream",
     "text": [
      "INFO:tensorflow:Assets written to: model6/assets\n",
      "WARNING:absl:<keras.layers.recurrent.LSTMCell object at 0x7feac96f2430> has the same name 'LSTMCell' as a built-in Keras object. Consider renaming <class 'keras.layers.recurrent.LSTMCell'> to avoid naming conflicts when loading with `tf.keras.models.load_model`. If renaming is not possible, pass the object in the `custom_objects` parameter of the load function.\n"
     ]
    },
    {
     "name": "stdout",
     "output_type": "stream",
     "text": [
      "24/24 [==============================] - 3s 139ms/step - loss: 883.6006 - root_mean_squared_error: 29.7254 - val_loss: 1106.9359 - val_root_mean_squared_error: 33.2706\n",
      "Epoch 10/10\n",
      "14/24 [================>.............] - ETA: 0s - loss: 755.5113 - root_mean_squared_error: 27.4866"
     ]
    },
    {
     "name": "stderr",
     "output_type": "stream",
     "text": [
      "WARNING:absl:Found untraced functions such as lstm_cell_4_layer_call_fn, lstm_cell_4_layer_call_and_return_conditional_losses, lstm_cell_4_layer_call_fn, lstm_cell_4_layer_call_and_return_conditional_losses, lstm_cell_4_layer_call_and_return_conditional_losses while saving (showing 5 of 5). These functions will not be directly callable after loading.\n"
     ]
    },
    {
     "name": "stdout",
     "output_type": "stream",
     "text": [
      "INFO:tensorflow:Assets written to: model6/assets\n"
     ]
    },
    {
     "name": "stderr",
     "output_type": "stream",
     "text": [
      "INFO:tensorflow:Assets written to: model6/assets\n",
      "WARNING:absl:<keras.layers.recurrent.LSTMCell object at 0x7feac96f2430> has the same name 'LSTMCell' as a built-in Keras object. Consider renaming <class 'keras.layers.recurrent.LSTMCell'> to avoid naming conflicts when loading with `tf.keras.models.load_model`. If renaming is not possible, pass the object in the `custom_objects` parameter of the load function.\n"
     ]
    },
    {
     "name": "stdout",
     "output_type": "stream",
     "text": [
      "24/24 [==============================] - 3s 123ms/step - loss: 696.3206 - root_mean_squared_error: 26.3879 - val_loss: 762.1297 - val_root_mean_squared_error: 27.6067\n"
     ]
    }
   ],
   "source": [
    "history = (model6.fit(X4_train, y4_train, validation_data=(X4_val, y4_val), epochs=10, callbacks=[cp6]))"
   ]
  },
  {
   "cell_type": "code",
   "execution_count": 105,
   "metadata": {},
   "outputs": [],
   "source": [
    "def plot_predictions3(fignum, model, X, y, start=0, end = 100):\n",
    "    predictions = model.predict(X)\n",
    "    temp_preds, dsci_preds = predictions[:, 0], predictions[:, 1]\n",
    "    temp_actuals, dsci_actuals = y[:, 0], y[:, 1]\n",
    "    df = pd.DataFrame(data= {\n",
    "        'High Temperature Predictions': temp_preds, \n",
    "        'High Temperature Actuals': temp_actuals,\n",
    "        'DSCI Pred': dsci_preds,\n",
    "        'DSCI Actuals': dsci_actuals\n",
    "        })\n",
    "    plt.figure(figsize = (10,8))\n",
    "    plt.plot(df['High Temperature Predictions'][start:end], label='High Temperature Predictions')\n",
    "    plt.plot(df['High Temperature Actuals'][start:end], label='High Temperature Actuals')\n",
    "    plt.plot(df['DSCI Pred'][start:end], label = 'DSCI Predictions')\n",
    "    plt.plot(df['DSCI Actuals'][start:end], label = 'DSCI Actuals')\n",
    "    plt.legend(loc= 'upper left')\n",
    "    \n",
    "    plt.savefig(f'fig{fignum}.png')\n",
    "\n",
    "    return df[start:end]"
   ]
  },
  {
   "cell_type": "code",
   "execution_count": 106,
   "metadata": {},
   "outputs": [
    {
     "data": {
      "image/png": "[encoded data removed]",
      "text/plain": [
       "<Figure size 720x576 with 1 Axes>"
      ]
     },
     "metadata": {
      "needs_background": "light"
     },
     "output_type": "display_data"
    }
   ],
   "source": [
    "post_processed_df2 = plot_predictions3(16, model6, X4_test, y4_test)"
   ]
  },
  {
   "cell_type": "code",
   "execution_count": 107,
   "metadata": {},
   "outputs": [
    {
     "data": {
      "image/png": "[encoded data removed]",
      "text/plain": [
       "<Figure size 432x288 with 1 Axes>"
      ]
     },
     "metadata": {
      "needs_background": "light"
     },
     "output_type": "display_data"
    }
   ],
   "source": [
    "start, end = 0, 100\n",
    "plt.plot(post_processed_df2['DSCI Pred'][start: end])\n",
    "plt.plot(post_processed_df2['DSCI Actuals'][start: end])\n",
    "plt.savefig('fig15.png')"
   ]
  },
  {
   "cell_type": "code",
   "execution_count": 108,
   "metadata": {},
   "outputs": [
    {
     "data": {
      "text/plain": [
       "[<matplotlib.lines.Line2D at 0x7feacad56bb0>]"
      ]
     },
     "execution_count": 108,
     "metadata": {},
     "output_type": "execute_result"
    },
    {
     "data": {
      "image/png": "[encoded data removed]",
      "text/plain": [
       "<Figure size 432x288 with 1 Axes>"
      ]
     },
     "metadata": {
      "needs_background": "light"
     },
     "output_type": "display_data"
    }
   ],
   "source": [
    "start, end = 0, 100\n",
    "plt.plot(post_processed_df2['High Temperature Predictions'][start: end])\n",
    "plt.plot(post_processed_df2['High Temperature Actuals'][start: end])"
   ]
  },
  {
   "cell_type": "code",
   "execution_count": 109,
   "metadata": {},
   "outputs": [
    {
     "data": {
      "text/html": [
       "<div>\n",
       "<style scoped>\n",
       "    .dataframe tbody tr th:only-of-type {\n",
       "        vertical-align: middle;\n",
       "    }\n",
       "\n",
       "    .dataframe tbody tr th {\n",
       "        vertical-align: top;\n",
       "    }\n",
       "\n",
       "    .dataframe thead th {\n",
       "        text-align: right;\n",
       "    }\n",
       "</style>\n",
       "<table border=\"1\" class=\"dataframe\">\n",
       "  <thead>\n",
       "    <tr style=\"text-align: right;\">\n",
       "      <th></th>\n",
       "      <th>loss</th>\n",
       "      <th>root_mean_squared_error</th>\n",
       "      <th>val_loss</th>\n",
       "      <th>val_root_mean_squared_error</th>\n",
       "    </tr>\n",
       "  </thead>\n",
       "  <tbody>\n",
       "    <tr>\n",
       "      <th>0</th>\n",
       "      <td>23649.632812</td>\n",
       "      <td>153.784378</td>\n",
       "      <td>34387.722656</td>\n",
       "      <td>185.439270</td>\n",
       "    </tr>\n",
       "    <tr>\n",
       "      <th>1</th>\n",
       "      <td>20761.203125</td>\n",
       "      <td>144.087494</td>\n",
       "      <td>28733.912109</td>\n",
       "      <td>169.510803</td>\n",
       "    </tr>\n",
       "    <tr>\n",
       "      <th>2</th>\n",
       "      <td>15419.434570</td>\n",
       "      <td>124.175018</td>\n",
       "      <td>20258.082031</td>\n",
       "      <td>142.330887</td>\n",
       "    </tr>\n",
       "    <tr>\n",
       "      <th>3</th>\n",
       "      <td>9482.630859</td>\n",
       "      <td>97.378799</td>\n",
       "      <td>12551.875977</td>\n",
       "      <td>112.035156</td>\n",
       "    </tr>\n",
       "    <tr>\n",
       "      <th>4</th>\n",
       "      <td>5273.333984</td>\n",
       "      <td>72.617729</td>\n",
       "      <td>7070.066895</td>\n",
       "      <td>84.083687</td>\n",
       "    </tr>\n",
       "    <tr>\n",
       "      <th>5</th>\n",
       "      <td>2830.910400</td>\n",
       "      <td>53.206299</td>\n",
       "      <td>4022.630615</td>\n",
       "      <td>63.424213</td>\n",
       "    </tr>\n",
       "    <tr>\n",
       "      <th>6</th>\n",
       "      <td>1708.725830</td>\n",
       "      <td>41.336735</td>\n",
       "      <td>2512.370117</td>\n",
       "      <td>50.123550</td>\n",
       "    </tr>\n",
       "    <tr>\n",
       "      <th>7</th>\n",
       "      <td>1200.139893</td>\n",
       "      <td>34.643036</td>\n",
       "      <td>1601.128906</td>\n",
       "      <td>40.014111</td>\n",
       "    </tr>\n",
       "    <tr>\n",
       "      <th>8</th>\n",
       "      <td>883.600586</td>\n",
       "      <td>29.725420</td>\n",
       "      <td>1106.935913</td>\n",
       "      <td>33.270649</td>\n",
       "    </tr>\n",
       "    <tr>\n",
       "      <th>9</th>\n",
       "      <td>696.320618</td>\n",
       "      <td>26.387886</td>\n",
       "      <td>762.129700</td>\n",
       "      <td>27.606697</td>\n",
       "    </tr>\n",
       "  </tbody>\n",
       "</table>\n",
       "</div>"
      ],
      "text/plain": [
       "           loss  root_mean_squared_error      val_loss  \\\n",
       "0  23649.632812               153.784378  34387.722656   \n",
       "1  20761.203125               144.087494  28733.912109   \n",
       "2  15419.434570               124.175018  20258.082031   \n",
       "3   9482.630859                97.378799  12551.875977   \n",
       "4   5273.333984                72.617729   7070.066895   \n",
       "5   2830.910400                53.206299   4022.630615   \n",
       "6   1708.725830                41.336735   2512.370117   \n",
       "7   1200.139893                34.643036   1601.128906   \n",
       "8    883.600586                29.725420   1106.935913   \n",
       "9    696.320618                26.387886    762.129700   \n",
       "\n",
       "   val_root_mean_squared_error  \n",
       "0                   185.439270  \n",
       "1                   169.510803  \n",
       "2                   142.330887  \n",
       "3                   112.035156  \n",
       "4                    84.083687  \n",
       "5                    63.424213  \n",
       "6                    50.123550  \n",
       "7                    40.014111  \n",
       "8                    33.270649  \n",
       "9                    27.606697  "
      ]
     },
     "execution_count": 109,
     "metadata": {},
     "output_type": "execute_result"
    }
   ],
   "source": [
    "history_df = pd.DataFrame(history.history)\n",
    "history_df"
   ]
  },
  {
   "cell_type": "code",
   "execution_count": 110,
   "metadata": {},
   "outputs": [
    {
     "data": {
      "image/png": "[encoded data removed]",
      "text/plain": [
       "<Figure size 432x288 with 1 Axes>"
      ]
     },
     "metadata": {
      "needs_background": "light"
     },
     "output_type": "display_data"
    }
   ],
   "source": [
    "history_df.filter(like='loss').plot();\n",
    "plt.title(\"LSTM MSE Loss (High Temp & Time Features)\", fontsize=16)\n",
    "plt.savefig('fig17.png')"
   ]
  },
  {
   "cell_type": "markdown",
   "metadata": {},
   "source": [
    "#### Model Summary"
   ]
  },
  {
   "cell_type": "markdown",
   "metadata": {},
   "source": [
    "Model|MSE|Val Loss|RMSE|\n",
    "|---|---|---|---|\n",
    "|LSTM|544.09|760.45|27.57|\n",
    "|CNN|138.06|123.14|11.75|\n",
    "|GRU|757.87|1187.01|44.91|\n",
    "|LSTM M.V.|615.95|1142.63|33.8|\n",
    "|LSTM Precip.|757.87|2000.4|44.7|\n",
    "|LSTM Temp|4628.32|8033.28|89.62|"
   ]
  },
  {
   "cell_type": "code",
   "execution_count": null,
   "metadata": {},
   "outputs": [],
   "source": []
  }
 ],
 "metadata": {
  "interpreter": {
   "hash": "3cb97f1d83f7509b06d804007dcb96c6ab417962c4fd7570dc4f1a7dc82dce2f"
  },
  "kernelspec": {
   "display_name": "Python 3",
   "language": "python",
   "name": "python3"
  },
  "language_info": {
   "codemirror_mode": {
    "name": "ipython",
    "version": 3
   },
   "file_extension": ".py",
   "mimetype": "text/x-python",
   "name": "python",
   "nbconvert_exporter": "python",
   "pygments_lexer": "ipython3",
   "version": "3.8.2"
  }
 },
 "nbformat": 4,
 "nbformat_minor": 4
}
